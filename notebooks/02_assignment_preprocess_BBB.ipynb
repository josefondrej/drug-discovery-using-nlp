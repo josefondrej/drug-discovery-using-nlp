{
 "cells": [
  {
   "cell_type": "markdown",
   "source": [
    "## Data\n",
    "- Lets have a look at our dataset, preprocess it and save the preprocessed version"
   ],
   "metadata": {
    "id": "ADbxKqxoMy-X"
   }
  },
  {
   "cell_type": "code",
   "source": [
    "!pip install transformers"
   ],
   "metadata": {
    "colab": {
     "base_uri": "https://localhost:8080/"
    },
    "id": "USVBwqaoM_4v",
    "outputId": "292bce77-a19c-49d4-99e5-97f41af3b2e4"
   },
   "execution_count": null,
   "outputs": [
    {
     "output_type": "stream",
     "name": "stdout",
     "text": [
      "Looking in indexes: https://pypi.org/simple, https://us-python.pkg.dev/colab-wheels/public/simple/\n",
      "Collecting transformers\n",
      "  Downloading transformers-4.29.2-py3-none-any.whl (7.1 MB)\n",
      "\u001B[2K     \u001B[90m━━━━━━━━━━━━━━━━━━━━━━━━━━━━━━━━━━━━━━━━\u001B[0m \u001B[32m7.1/7.1 MB\u001B[0m \u001B[31m41.3 MB/s\u001B[0m eta \u001B[36m0:00:00\u001B[0m\n",
      "\u001B[?25hRequirement already satisfied: filelock in /usr/local/lib/python3.10/dist-packages (from transformers) (3.12.0)\n",
      "Collecting huggingface-hub<1.0,>=0.14.1 (from transformers)\n",
      "  Downloading huggingface_hub-0.14.1-py3-none-any.whl (224 kB)\n",
      "\u001B[2K     \u001B[90m━━━━━━━━━━━━━━━━━━━━━━━━━━━━━━━━━━━━━━\u001B[0m \u001B[32m224.5/224.5 kB\u001B[0m \u001B[31m26.5 MB/s\u001B[0m eta \u001B[36m0:00:00\u001B[0m\n",
      "\u001B[?25hRequirement already satisfied: numpy>=1.17 in /usr/local/lib/python3.10/dist-packages (from transformers) (1.22.4)\n",
      "Requirement already satisfied: packaging>=20.0 in /usr/local/lib/python3.10/dist-packages (from transformers) (23.1)\n",
      "Requirement already satisfied: pyyaml>=5.1 in /usr/local/lib/python3.10/dist-packages (from transformers) (6.0)\n",
      "Requirement already satisfied: regex!=2019.12.17 in /usr/local/lib/python3.10/dist-packages (from transformers) (2022.10.31)\n",
      "Requirement already satisfied: requests in /usr/local/lib/python3.10/dist-packages (from transformers) (2.27.1)\n",
      "Collecting tokenizers!=0.11.3,<0.14,>=0.11.1 (from transformers)\n",
      "  Downloading tokenizers-0.13.3-cp310-cp310-manylinux_2_17_x86_64.manylinux2014_x86_64.whl (7.8 MB)\n",
      "\u001B[2K     \u001B[90m━━━━━━━━━━━━━━━━━━━━━━━━━━━━━━━━━━━━━━━━\u001B[0m \u001B[32m7.8/7.8 MB\u001B[0m \u001B[31m99.5 MB/s\u001B[0m eta \u001B[36m0:00:00\u001B[0m\n",
      "\u001B[?25hRequirement already satisfied: tqdm>=4.27 in /usr/local/lib/python3.10/dist-packages (from transformers) (4.65.0)\n",
      "Requirement already satisfied: fsspec in /usr/local/lib/python3.10/dist-packages (from huggingface-hub<1.0,>=0.14.1->transformers) (2023.4.0)\n",
      "Requirement already satisfied: typing-extensions>=3.7.4.3 in /usr/local/lib/python3.10/dist-packages (from huggingface-hub<1.0,>=0.14.1->transformers) (4.5.0)\n",
      "Requirement already satisfied: urllib3<1.27,>=1.21.1 in /usr/local/lib/python3.10/dist-packages (from requests->transformers) (1.26.15)\n",
      "Requirement already satisfied: certifi>=2017.4.17 in /usr/local/lib/python3.10/dist-packages (from requests->transformers) (2022.12.7)\n",
      "Requirement already satisfied: charset-normalizer~=2.0.0 in /usr/local/lib/python3.10/dist-packages (from requests->transformers) (2.0.12)\n",
      "Requirement already satisfied: idna<4,>=2.5 in /usr/local/lib/python3.10/dist-packages (from requests->transformers) (3.4)\n",
      "Installing collected packages: tokenizers, huggingface-hub, transformers\n"
     ]
    }
   ]
  },
  {
   "cell_type": "code",
   "execution_count": 2,
   "metadata": {
    "id": "sRaBDgV8Mwkz",
    "ExecuteTime": {
     "start_time": "2023-06-02T10:59:33.040629Z",
     "end_time": "2023-06-02T10:59:33.833825Z"
    }
   },
   "outputs": [],
   "source": [
    "import re\n",
    "import pandas as pd\n",
    "\n",
    "from transformers import AutoTokenizer\n",
    "from sklearn.model_selection import train_test_split"
   ]
  },
  {
   "cell_type": "code",
   "execution_count": 3,
   "metadata": {
    "id": "Ygh-zIPbMwk4",
    "ExecuteTime": {
     "start_time": "2023-06-02T10:59:42.178355Z",
     "end_time": "2023-06-02T10:59:42.987468Z"
    }
   },
   "outputs": [
    {
     "data": {
      "text/plain": "   NO.                        compound_name  \\\n0    1                       sulphasalazine   \n1    2                           moxalactam   \n2    3                           clioquinol   \n3    4  bbcpd11 (cimetidine analog) (y-g13)   \n4    5                        schembl614298   \n\n                                          IUPAC_name  \\\n0  2-hydroxy-5-[[4-(pyridin-2-ylsulfamoyl)phenyl]...   \n1  7-[[2-carboxy-2-(4-hydroxyphenyl)acetyl]amino]...   \n2                       5-chloro-7-iodoquinolin-8-ol   \n3  2-[2-[(3-bromopyridin-2-yl)methylsulfanyl]ethy...   \n4  (2s,3s,4s,5r)-6-[[(4r,4ar,7s,7ar,12bs)-7-hydro...   \n\n                                              SMILES         CID  logBB  \\\n0   O=C(O)c1cc(N=Nc2ccc(S(=O)(=O)Nc3ccccn3)cc2)ccc1O      5339.0  -2.69   \n1  COC1(NC(=O)C(C(=O)O)c2ccc(O)cc2)C(=O)N2C(C(=O)...      3889.0  -2.52   \n2                             Oc1c(I)cc(Cl)c2cccnc12      2788.0  -2.40   \n3                         CCNC(=NCCSCc1ncccc1Br)NC#N  14022517.0  -2.15   \n4  CN1CC[C@]23c4c5ccc(OC6O[C@H](C(=O)O)[C@@H](O)[...  18595497.0  -2.15   \n\n  BBB+/BBB-                                              Inchi  threshold  \\\n0      BBB-  InChI=1S/C18H14N4O5S/c23-16-9-6-13(11-15(16)18...        NaN   \n1      BBB-  InChI=1S/C20H20N6O9S/c1-25-19(22-23-24-25)36-8...        NaN   \n2      BBB-  InChI=1S/C9H5ClINO/c10-6-4-7(11)9(13)8-5(6)2-1...        NaN   \n3      BBB-  InChI=1S/C12H16BrN5S/c1-2-15-12(18-9-14)17-6-7...        NaN   \n4      BBB-  InChI=1S/C23H27NO9/c1-24-7-6-23-10-3-4-12(25)2...        NaN   \n\n                                           reference group comments  \n0                                     R2|R2|R25|R46|     A      NaN  \n1                                               R25|     A      NaN  \n2                                       R18|R26|R27|     A      NaN  \n3  R2|R2|R8|R40|R2|R2|R2|R2|R18|R21|R25|R25|R26|R...     A      NaN  \n4                                               R25|     A      NaN  ",
      "text/html": "<div>\n<style scoped>\n    .dataframe tbody tr th:only-of-type {\n        vertical-align: middle;\n    }\n\n    .dataframe tbody tr th {\n        vertical-align: top;\n    }\n\n    .dataframe thead th {\n        text-align: right;\n    }\n</style>\n<table border=\"1\" class=\"dataframe\">\n  <thead>\n    <tr style=\"text-align: right;\">\n      <th></th>\n      <th>NO.</th>\n      <th>compound_name</th>\n      <th>IUPAC_name</th>\n      <th>SMILES</th>\n      <th>CID</th>\n      <th>logBB</th>\n      <th>BBB+/BBB-</th>\n      <th>Inchi</th>\n      <th>threshold</th>\n      <th>reference</th>\n      <th>group</th>\n      <th>comments</th>\n    </tr>\n  </thead>\n  <tbody>\n    <tr>\n      <th>0</th>\n      <td>1</td>\n      <td>sulphasalazine</td>\n      <td>2-hydroxy-5-[[4-(pyridin-2-ylsulfamoyl)phenyl]...</td>\n      <td>O=C(O)c1cc(N=Nc2ccc(S(=O)(=O)Nc3ccccn3)cc2)ccc1O</td>\n      <td>5339.0</td>\n      <td>-2.69</td>\n      <td>BBB-</td>\n      <td>InChI=1S/C18H14N4O5S/c23-16-9-6-13(11-15(16)18...</td>\n      <td>NaN</td>\n      <td>R2|R2|R25|R46|</td>\n      <td>A</td>\n      <td>NaN</td>\n    </tr>\n    <tr>\n      <th>1</th>\n      <td>2</td>\n      <td>moxalactam</td>\n      <td>7-[[2-carboxy-2-(4-hydroxyphenyl)acetyl]amino]...</td>\n      <td>COC1(NC(=O)C(C(=O)O)c2ccc(O)cc2)C(=O)N2C(C(=O)...</td>\n      <td>3889.0</td>\n      <td>-2.52</td>\n      <td>BBB-</td>\n      <td>InChI=1S/C20H20N6O9S/c1-25-19(22-23-24-25)36-8...</td>\n      <td>NaN</td>\n      <td>R25|</td>\n      <td>A</td>\n      <td>NaN</td>\n    </tr>\n    <tr>\n      <th>2</th>\n      <td>3</td>\n      <td>clioquinol</td>\n      <td>5-chloro-7-iodoquinolin-8-ol</td>\n      <td>Oc1c(I)cc(Cl)c2cccnc12</td>\n      <td>2788.0</td>\n      <td>-2.40</td>\n      <td>BBB-</td>\n      <td>InChI=1S/C9H5ClINO/c10-6-4-7(11)9(13)8-5(6)2-1...</td>\n      <td>NaN</td>\n      <td>R18|R26|R27|</td>\n      <td>A</td>\n      <td>NaN</td>\n    </tr>\n    <tr>\n      <th>3</th>\n      <td>4</td>\n      <td>bbcpd11 (cimetidine analog) (y-g13)</td>\n      <td>2-[2-[(3-bromopyridin-2-yl)methylsulfanyl]ethy...</td>\n      <td>CCNC(=NCCSCc1ncccc1Br)NC#N</td>\n      <td>14022517.0</td>\n      <td>-2.15</td>\n      <td>BBB-</td>\n      <td>InChI=1S/C12H16BrN5S/c1-2-15-12(18-9-14)17-6-7...</td>\n      <td>NaN</td>\n      <td>R2|R2|R8|R40|R2|R2|R2|R2|R18|R21|R25|R25|R26|R...</td>\n      <td>A</td>\n      <td>NaN</td>\n    </tr>\n    <tr>\n      <th>4</th>\n      <td>5</td>\n      <td>schembl614298</td>\n      <td>(2s,3s,4s,5r)-6-[[(4r,4ar,7s,7ar,12bs)-7-hydro...</td>\n      <td>CN1CC[C@]23c4c5ccc(OC6O[C@H](C(=O)O)[C@@H](O)[...</td>\n      <td>18595497.0</td>\n      <td>-2.15</td>\n      <td>BBB-</td>\n      <td>InChI=1S/C23H27NO9/c1-24-7-6-23-10-3-4-12(25)2...</td>\n      <td>NaN</td>\n      <td>R25|</td>\n      <td>A</td>\n      <td>NaN</td>\n    </tr>\n  </tbody>\n</table>\n</div>"
     },
     "execution_count": 3,
     "metadata": {},
     "output_type": "execute_result"
    }
   ],
   "source": [
    "# dataset comes from here: https://github.com/theochem/B3DB/blob/main/README.md\n",
    "\n",
    "df = pd.read_csv(\"https://staicentreprod001.blob.core.windows.net/share/mlprague23/B3DB_classification.tsv\", sep=\"\\t\")\n",
    "df.head()"
   ]
  },
  {
   "cell_type": "code",
   "execution_count": 5,
   "outputs": [],
   "source": [
    "df.to_csv(\"B3DB_classification.tsv\", sep=\"\\t\", index=False)"
   ],
   "metadata": {
    "collapsed": false,
    "ExecuteTime": {
     "start_time": "2023-06-02T11:00:25.188665Z",
     "end_time": "2023-06-02T11:00:25.304192Z"
    }
   }
  },
  {
   "cell_type": "code",
   "execution_count": 4,
   "metadata": {
    "id": "-fF4LyGtMwk6",
    "ExecuteTime": {
     "start_time": "2023-06-02T10:59:58.737183Z",
     "end_time": "2023-06-02T10:59:58.749683Z"
    }
   },
   "outputs": [
    {
     "data": {
      "text/plain": "(7807, 12)"
     },
     "execution_count": 4,
     "metadata": {},
     "output_type": "execute_result"
    }
   ],
   "source": [
    "df.shape"
   ]
  },
  {
   "cell_type": "code",
   "execution_count": 6,
   "metadata": {
    "id": "MIMidRrwMwk9",
    "ExecuteTime": {
     "start_time": "2023-06-02T11:00:57.619314Z",
     "end_time": "2023-06-02T11:00:57.663085Z"
    }
   },
   "outputs": [
    {
     "data": {
      "text/plain": "    NO.                                               name  \\\n0     1                                     sulphasalazine   \n1     2                                         moxalactam   \n2     3                                         clioquinol   \n3     4                bbcpd11 (cimetidine analog) (y-g13)   \n4     5                                      schembl614298   \n5     6                                         uk-240,455   \n6     7                             morphine-6-glucuronide   \n7     8                                     nitrofurantoin   \n8     9                                          l-701,324   \n9    10                                         33419-42-0   \n10   11                                          icotidine   \n11   12                                         ro 64-0802   \n12   13                                        temelastine   \n13   14  disodium;(6r,7s)-7-[[4-(2-amino-1-carboxylato-...   \n14   15                                          cefotetan   \n15   16                                          1848-75-5   \n16   17  2-[4-(5-bromo-3-methylpyridin-2-yl)butylamino]...   \n17   18                                         m2l-663581   \n18   19                                          ritonavir   \n19   20                          bis-hydroxylated-l-663581   \n\n                                           IUPAC_name  \\\n0   2-hydroxy-5-[[4-(pyridin-2-ylsulfamoyl)phenyl]...   \n1   7-[[2-carboxy-2-(4-hydroxyphenyl)acetyl]amino]...   \n2                        5-chloro-7-iodoquinolin-8-ol   \n3   2-[2-[(3-bromopyridin-2-yl)methylsulfanyl]ethy...   \n4   (2s,3s,4s,5r)-6-[[(4r,4ar,7s,7ar,12bs)-7-hydro...   \n5   n-(6,7-dichloro-2,3-dioxo-1,4-dihydroquinoxali...   \n6   (2s,3s,4s,5r)-6-[[(4r,4ar,7s,7ar,12bs)-9-hydro...   \n7   1-[(e)-(5-nitrofuran-2-yl)methylideneamino]imi...   \n8   7-chloro-4-hydroxy-3-(3-phenoxyphenyl)-1h-quin...   \n9   5-[(7,8-dihydroxy-2-methyl-4,4a,6,7,8,8a-hexah...   \n10  2-[4-(3-methoxypyridin-2-yl)butylamino]-5-[(6-...   \n11                                                NaN   \n12  2-[4-(5-bromo-3-methylpyridin-2-yl)butylamino]...   \n13  7-[[4-(2-amino-1-carboxy-2-oxoethylidene)-1,3-...   \n14  disodium;(6r,7s)-7-[[4-(2-amino-1-carboxylato-...   \n15           n-phenyl-4,5-dihydro-1h-imidazol-2-amine   \n16  2-[4-(5-bromo-3-methylpyridin-2-yl)butylamino]...   \n17  7-chloro-3-[5-(1,2-dihydroxypropan-2-yl)-1,2,4...   \n18                                                NaN   \n19                                                NaN   \n\n                                               SMILES         CID  logBB  \\\n0    O=C(O)c1cc(N=Nc2ccc(S(=O)(=O)Nc3ccccn3)cc2)ccc1O      5339.0  -2.69   \n1   COC1(NC(=O)C(C(=O)O)c2ccc(O)cc2)C(=O)N2C(C(=O)...      3889.0  -2.52   \n2                              Oc1c(I)cc(Cl)c2cccnc12      2788.0  -2.40   \n3                          CCNC(=NCCSCc1ncccc1Br)NC#N  14022517.0  -2.15   \n4   CN1CC[C@]23c4c5ccc(OC6O[C@H](C(=O)O)[C@@H](O)[...  18595497.0  -2.15   \n5   CS(=O)(=O)N(CCO)c1c(Cl)c(Cl)cc2[nH]c(=O)c(=O)[...   9842188.0  -2.15   \n6   CN1CC[C@]23c4c5ccc(O)c4O[C@H]2[C@@H](OC2O[C@H]...   9847115.0  -2.09   \n7           O=C1CN(/N=C/c2ccc([N+](=O)[O-])o2)C(=O)N1   5353830.0  -2.09   \n8      O=c1[nH]c2cc(Cl)ccc2c(O)c1-c1cccc(Oc2ccccc2)c1  54682505.0  -2.03   \n9   COc1cc(C2c3cc4c(cc3C(OC3OC5COC(C)OC5C(O)C3O)C3...      3310.0  -2.00   \n10       COc1cccnc1CCCCNc1ncc(Cc2ccc(C)nc2)c(=O)[nH]1     72108.0  -2.00   \n11     CCC(CC)O[C@@H]1C=C(C(=O)O)C[C@H](N)[C@@H]1NCOC         NaN  -1.96   \n12      Cc1ccc(Cc2cnc(NCCCCc3ncc(Br)cc3C)[nH]c2=O)cn1     55482.0  -1.90   \n13  COC1(NC(=O)C2SC(=C(C(N)=O)C(=O)O)S2)C(=O)N2C(C...   4630412.0  -1.89   \n14  CO[C@@]1(NC(=O)C2SC(=C(C(N)=O)C(=O)O)S2)C(=O)N...     53025.0  -1.89   \n15                                c1ccc(NC2=NCCN2)cc1    137235.0  -1.89   \n16         Cc1ccc(CC2CNC(NCCCCc3ncc(Br)cc3C)NC2=O)cn1  74041479.0  -1.88   \n17  CN1Cc2c(-c3noc(C(C)(O)CO)n3)ncn2-c2cccc(Cl)c2C1=O  10091748.0  -1.82   \n18  CC(C)c1nc(CN(C)C(=O)N[C@@H](C)C(=O)C[C@@H](Cc2...         NaN  -1.82   \n19  CN1Cc2c(-c3noc(C(C)(CO)CO)n3)ncn2-c2cccc(Cl)c2...         NaN  -1.82   \n\n   label                                              Inchi  threshold  \\\n0      0  InChI=1S/C18H14N4O5S/c23-16-9-6-13(11-15(16)18...        NaN   \n1      0  InChI=1S/C20H20N6O9S/c1-25-19(22-23-24-25)36-8...        NaN   \n2      0  InChI=1S/C9H5ClINO/c10-6-4-7(11)9(13)8-5(6)2-1...        NaN   \n3      0  InChI=1S/C12H16BrN5S/c1-2-15-12(18-9-14)17-6-7...        NaN   \n4      0  InChI=1S/C23H27NO9/c1-24-7-6-23-10-3-4-12(25)2...        NaN   \n5      0  InChI=1S/C11H11Cl2N3O5S/c1-22(20,21)16(2-3-17)...        NaN   \n6      0  InChI=1S/C23H27NO9/c1-24-7-6-23-10-3-5-13(31-2...        NaN   \n7      0  InChI=1S/C8H6N4O5/c13-6-4-11(8(14)10-6)9-3-5-1...        NaN   \n8      0  InChI=1S/C21H14ClNO3/c22-14-9-10-17-18(12-14)2...        NaN   \n9      0  InChI=1S/C29H32O13/c1-11-36-9-20-27(40-11)24(3...        NaN   \n10     0  InChI=1S/C21H25N5O2/c1-15-8-9-16(13-24-15)12-1...        NaN   \n11     0  InChI=1S/C14H26N2O4/c1-4-10(5-2)20-12-7-9(14(1...        NaN   \n12     0  InChI=1S/C21H24BrN5O/c1-14-9-18(22)13-25-19(14...        NaN   \n13     0  InChI=1S/C17H17N7O8S4/c1-23-16(20-21-22-23)34-...        NaN   \n14     0  InChI=1S/C17H17N7O8S4/c1-23-16(20-21-22-23)34-...        NaN   \n15     0  InChI=1S/C9H11N3/c1-2-4-8(5-3-1)12-9-10-6-7-11...        NaN   \n16     0  InChI=1S/C21H28BrN5O/c1-14-9-18(22)13-25-19(14...        NaN   \n17     0  InChI=1S/C17H16ClN5O4/c1-17(26,7-24)16-20-14(2...        NaN   \n18     0  InChI=1S/C36H45N5O5S2/c1-24(2)34-39-29(22-47-3...        NaN   \n19     0  InChI=1S/C18H18ClN5O4/c1-18(7-25,8-26)17-21-15...        NaN   \n\n                                            reference group comments  \n0                                      R2|R2|R25|R46|     A      NaN  \n1                                                R25|     A      NaN  \n2                                        R18|R26|R27|     A      NaN  \n3   R2|R2|R8|R40|R2|R2|R2|R2|R18|R21|R25|R25|R26|R...     A      NaN  \n4                                                R25|     A      NaN  \n5                                        R18|R26|R27|     A      NaN  \n6                                                R25|     A      NaN  \n7                                      R2|R2|R25|R46|     A      NaN  \n8                                        R18|R26|R27|     A      NaN  \n9                   R2|R2|R8|R12|R21|R25|R35|R40|R47|     A      NaN  \n10  R2|R2|R2|R2|R5|R8|R11|R12|R18|R21|R25|R26|R27|...     A      NaN  \n11                                       R18|R26|R27|     A      NaN  \n12  R5|R2|R2|R2|R2|R8|R11|R12|R18|R21|R25|R26|R27|...     A      NaN  \n13             R2|R2|R12|R25|R27|R35|R47|R27|R25|R40|     A      NaN  \n14                                    R8|R21|R21|R39|     A      NaN  \n15                       R2|R2|R8|R25|R46|R47|R4|R40|     A      NaN  \n16                                               R35|     A      NaN  \n17  R2|R2|R8|R40|R3|R4|R12|R21|R25|R27|R36|R38|R41...     A      NaN  \n18                                       R18|R26|R27|     A      NaN  \n19                         R2|R2|R12|R25|R35|R39|R46|     A      NaN  ",
      "text/html": "<div>\n<style scoped>\n    .dataframe tbody tr th:only-of-type {\n        vertical-align: middle;\n    }\n\n    .dataframe tbody tr th {\n        vertical-align: top;\n    }\n\n    .dataframe thead th {\n        text-align: right;\n    }\n</style>\n<table border=\"1\" class=\"dataframe\">\n  <thead>\n    <tr style=\"text-align: right;\">\n      <th></th>\n      <th>NO.</th>\n      <th>name</th>\n      <th>IUPAC_name</th>\n      <th>SMILES</th>\n      <th>CID</th>\n      <th>logBB</th>\n      <th>label</th>\n      <th>Inchi</th>\n      <th>threshold</th>\n      <th>reference</th>\n      <th>group</th>\n      <th>comments</th>\n    </tr>\n  </thead>\n  <tbody>\n    <tr>\n      <th>0</th>\n      <td>1</td>\n      <td>sulphasalazine</td>\n      <td>2-hydroxy-5-[[4-(pyridin-2-ylsulfamoyl)phenyl]...</td>\n      <td>O=C(O)c1cc(N=Nc2ccc(S(=O)(=O)Nc3ccccn3)cc2)ccc1O</td>\n      <td>5339.0</td>\n      <td>-2.69</td>\n      <td>0</td>\n      <td>InChI=1S/C18H14N4O5S/c23-16-9-6-13(11-15(16)18...</td>\n      <td>NaN</td>\n      <td>R2|R2|R25|R46|</td>\n      <td>A</td>\n      <td>NaN</td>\n    </tr>\n    <tr>\n      <th>1</th>\n      <td>2</td>\n      <td>moxalactam</td>\n      <td>7-[[2-carboxy-2-(4-hydroxyphenyl)acetyl]amino]...</td>\n      <td>COC1(NC(=O)C(C(=O)O)c2ccc(O)cc2)C(=O)N2C(C(=O)...</td>\n      <td>3889.0</td>\n      <td>-2.52</td>\n      <td>0</td>\n      <td>InChI=1S/C20H20N6O9S/c1-25-19(22-23-24-25)36-8...</td>\n      <td>NaN</td>\n      <td>R25|</td>\n      <td>A</td>\n      <td>NaN</td>\n    </tr>\n    <tr>\n      <th>2</th>\n      <td>3</td>\n      <td>clioquinol</td>\n      <td>5-chloro-7-iodoquinolin-8-ol</td>\n      <td>Oc1c(I)cc(Cl)c2cccnc12</td>\n      <td>2788.0</td>\n      <td>-2.40</td>\n      <td>0</td>\n      <td>InChI=1S/C9H5ClINO/c10-6-4-7(11)9(13)8-5(6)2-1...</td>\n      <td>NaN</td>\n      <td>R18|R26|R27|</td>\n      <td>A</td>\n      <td>NaN</td>\n    </tr>\n    <tr>\n      <th>3</th>\n      <td>4</td>\n      <td>bbcpd11 (cimetidine analog) (y-g13)</td>\n      <td>2-[2-[(3-bromopyridin-2-yl)methylsulfanyl]ethy...</td>\n      <td>CCNC(=NCCSCc1ncccc1Br)NC#N</td>\n      <td>14022517.0</td>\n      <td>-2.15</td>\n      <td>0</td>\n      <td>InChI=1S/C12H16BrN5S/c1-2-15-12(18-9-14)17-6-7...</td>\n      <td>NaN</td>\n      <td>R2|R2|R8|R40|R2|R2|R2|R2|R18|R21|R25|R25|R26|R...</td>\n      <td>A</td>\n      <td>NaN</td>\n    </tr>\n    <tr>\n      <th>4</th>\n      <td>5</td>\n      <td>schembl614298</td>\n      <td>(2s,3s,4s,5r)-6-[[(4r,4ar,7s,7ar,12bs)-7-hydro...</td>\n      <td>CN1CC[C@]23c4c5ccc(OC6O[C@H](C(=O)O)[C@@H](O)[...</td>\n      <td>18595497.0</td>\n      <td>-2.15</td>\n      <td>0</td>\n      <td>InChI=1S/C23H27NO9/c1-24-7-6-23-10-3-4-12(25)2...</td>\n      <td>NaN</td>\n      <td>R25|</td>\n      <td>A</td>\n      <td>NaN</td>\n    </tr>\n    <tr>\n      <th>5</th>\n      <td>6</td>\n      <td>uk-240,455</td>\n      <td>n-(6,7-dichloro-2,3-dioxo-1,4-dihydroquinoxali...</td>\n      <td>CS(=O)(=O)N(CCO)c1c(Cl)c(Cl)cc2[nH]c(=O)c(=O)[...</td>\n      <td>9842188.0</td>\n      <td>-2.15</td>\n      <td>0</td>\n      <td>InChI=1S/C11H11Cl2N3O5S/c1-22(20,21)16(2-3-17)...</td>\n      <td>NaN</td>\n      <td>R18|R26|R27|</td>\n      <td>A</td>\n      <td>NaN</td>\n    </tr>\n    <tr>\n      <th>6</th>\n      <td>7</td>\n      <td>morphine-6-glucuronide</td>\n      <td>(2s,3s,4s,5r)-6-[[(4r,4ar,7s,7ar,12bs)-9-hydro...</td>\n      <td>CN1CC[C@]23c4c5ccc(O)c4O[C@H]2[C@@H](OC2O[C@H]...</td>\n      <td>9847115.0</td>\n      <td>-2.09</td>\n      <td>0</td>\n      <td>InChI=1S/C23H27NO9/c1-24-7-6-23-10-3-5-13(31-2...</td>\n      <td>NaN</td>\n      <td>R25|</td>\n      <td>A</td>\n      <td>NaN</td>\n    </tr>\n    <tr>\n      <th>7</th>\n      <td>8</td>\n      <td>nitrofurantoin</td>\n      <td>1-[(e)-(5-nitrofuran-2-yl)methylideneamino]imi...</td>\n      <td>O=C1CN(/N=C/c2ccc([N+](=O)[O-])o2)C(=O)N1</td>\n      <td>5353830.0</td>\n      <td>-2.09</td>\n      <td>0</td>\n      <td>InChI=1S/C8H6N4O5/c13-6-4-11(8(14)10-6)9-3-5-1...</td>\n      <td>NaN</td>\n      <td>R2|R2|R25|R46|</td>\n      <td>A</td>\n      <td>NaN</td>\n    </tr>\n    <tr>\n      <th>8</th>\n      <td>9</td>\n      <td>l-701,324</td>\n      <td>7-chloro-4-hydroxy-3-(3-phenoxyphenyl)-1h-quin...</td>\n      <td>O=c1[nH]c2cc(Cl)ccc2c(O)c1-c1cccc(Oc2ccccc2)c1</td>\n      <td>54682505.0</td>\n      <td>-2.03</td>\n      <td>0</td>\n      <td>InChI=1S/C21H14ClNO3/c22-14-9-10-17-18(12-14)2...</td>\n      <td>NaN</td>\n      <td>R18|R26|R27|</td>\n      <td>A</td>\n      <td>NaN</td>\n    </tr>\n    <tr>\n      <th>9</th>\n      <td>10</td>\n      <td>33419-42-0</td>\n      <td>5-[(7,8-dihydroxy-2-methyl-4,4a,6,7,8,8a-hexah...</td>\n      <td>COc1cc(C2c3cc4c(cc3C(OC3OC5COC(C)OC5C(O)C3O)C3...</td>\n      <td>3310.0</td>\n      <td>-2.00</td>\n      <td>0</td>\n      <td>InChI=1S/C29H32O13/c1-11-36-9-20-27(40-11)24(3...</td>\n      <td>NaN</td>\n      <td>R2|R2|R8|R12|R21|R25|R35|R40|R47|</td>\n      <td>A</td>\n      <td>NaN</td>\n    </tr>\n    <tr>\n      <th>10</th>\n      <td>11</td>\n      <td>icotidine</td>\n      <td>2-[4-(3-methoxypyridin-2-yl)butylamino]-5-[(6-...</td>\n      <td>COc1cccnc1CCCCNc1ncc(Cc2ccc(C)nc2)c(=O)[nH]1</td>\n      <td>72108.0</td>\n      <td>-2.00</td>\n      <td>0</td>\n      <td>InChI=1S/C21H25N5O2/c1-15-8-9-16(13-24-15)12-1...</td>\n      <td>NaN</td>\n      <td>R2|R2|R2|R2|R5|R8|R11|R12|R18|R21|R25|R26|R27|...</td>\n      <td>A</td>\n      <td>NaN</td>\n    </tr>\n    <tr>\n      <th>11</th>\n      <td>12</td>\n      <td>ro 64-0802</td>\n      <td>NaN</td>\n      <td>CCC(CC)O[C@@H]1C=C(C(=O)O)C[C@H](N)[C@@H]1NCOC</td>\n      <td>NaN</td>\n      <td>-1.96</td>\n      <td>0</td>\n      <td>InChI=1S/C14H26N2O4/c1-4-10(5-2)20-12-7-9(14(1...</td>\n      <td>NaN</td>\n      <td>R18|R26|R27|</td>\n      <td>A</td>\n      <td>NaN</td>\n    </tr>\n    <tr>\n      <th>12</th>\n      <td>13</td>\n      <td>temelastine</td>\n      <td>2-[4-(5-bromo-3-methylpyridin-2-yl)butylamino]...</td>\n      <td>Cc1ccc(Cc2cnc(NCCCCc3ncc(Br)cc3C)[nH]c2=O)cn1</td>\n      <td>55482.0</td>\n      <td>-1.90</td>\n      <td>0</td>\n      <td>InChI=1S/C21H24BrN5O/c1-14-9-18(22)13-25-19(14...</td>\n      <td>NaN</td>\n      <td>R5|R2|R2|R2|R2|R8|R11|R12|R18|R21|R25|R26|R27|...</td>\n      <td>A</td>\n      <td>NaN</td>\n    </tr>\n    <tr>\n      <th>13</th>\n      <td>14</td>\n      <td>disodium;(6r,7s)-7-[[4-(2-amino-1-carboxylato-...</td>\n      <td>7-[[4-(2-amino-1-carboxy-2-oxoethylidene)-1,3-...</td>\n      <td>COC1(NC(=O)C2SC(=C(C(N)=O)C(=O)O)S2)C(=O)N2C(C...</td>\n      <td>4630412.0</td>\n      <td>-1.89</td>\n      <td>0</td>\n      <td>InChI=1S/C17H17N7O8S4/c1-23-16(20-21-22-23)34-...</td>\n      <td>NaN</td>\n      <td>R2|R2|R12|R25|R27|R35|R47|R27|R25|R40|</td>\n      <td>A</td>\n      <td>NaN</td>\n    </tr>\n    <tr>\n      <th>14</th>\n      <td>15</td>\n      <td>cefotetan</td>\n      <td>disodium;(6r,7s)-7-[[4-(2-amino-1-carboxylato-...</td>\n      <td>CO[C@@]1(NC(=O)C2SC(=C(C(N)=O)C(=O)O)S2)C(=O)N...</td>\n      <td>53025.0</td>\n      <td>-1.89</td>\n      <td>0</td>\n      <td>InChI=1S/C17H17N7O8S4/c1-23-16(20-21-22-23)34-...</td>\n      <td>NaN</td>\n      <td>R8|R21|R21|R39|</td>\n      <td>A</td>\n      <td>NaN</td>\n    </tr>\n    <tr>\n      <th>15</th>\n      <td>16</td>\n      <td>1848-75-5</td>\n      <td>n-phenyl-4,5-dihydro-1h-imidazol-2-amine</td>\n      <td>c1ccc(NC2=NCCN2)cc1</td>\n      <td>137235.0</td>\n      <td>-1.89</td>\n      <td>0</td>\n      <td>InChI=1S/C9H11N3/c1-2-4-8(5-3-1)12-9-10-6-7-11...</td>\n      <td>NaN</td>\n      <td>R2|R2|R8|R25|R46|R47|R4|R40|</td>\n      <td>A</td>\n      <td>NaN</td>\n    </tr>\n    <tr>\n      <th>16</th>\n      <td>17</td>\n      <td>2-[4-(5-bromo-3-methylpyridin-2-yl)butylamino]...</td>\n      <td>2-[4-(5-bromo-3-methylpyridin-2-yl)butylamino]...</td>\n      <td>Cc1ccc(CC2CNC(NCCCCc3ncc(Br)cc3C)NC2=O)cn1</td>\n      <td>74041479.0</td>\n      <td>-1.88</td>\n      <td>0</td>\n      <td>InChI=1S/C21H28BrN5O/c1-14-9-18(22)13-25-19(14...</td>\n      <td>NaN</td>\n      <td>R35|</td>\n      <td>A</td>\n      <td>NaN</td>\n    </tr>\n    <tr>\n      <th>17</th>\n      <td>18</td>\n      <td>m2l-663581</td>\n      <td>7-chloro-3-[5-(1,2-dihydroxypropan-2-yl)-1,2,4...</td>\n      <td>CN1Cc2c(-c3noc(C(C)(O)CO)n3)ncn2-c2cccc(Cl)c2C1=O</td>\n      <td>10091748.0</td>\n      <td>-1.82</td>\n      <td>0</td>\n      <td>InChI=1S/C17H16ClN5O4/c1-17(26,7-24)16-20-14(2...</td>\n      <td>NaN</td>\n      <td>R2|R2|R8|R40|R3|R4|R12|R21|R25|R27|R36|R38|R41...</td>\n      <td>A</td>\n      <td>NaN</td>\n    </tr>\n    <tr>\n      <th>18</th>\n      <td>19</td>\n      <td>ritonavir</td>\n      <td>NaN</td>\n      <td>CC(C)c1nc(CN(C)C(=O)N[C@@H](C)C(=O)C[C@@H](Cc2...</td>\n      <td>NaN</td>\n      <td>-1.82</td>\n      <td>0</td>\n      <td>InChI=1S/C36H45N5O5S2/c1-24(2)34-39-29(22-47-3...</td>\n      <td>NaN</td>\n      <td>R18|R26|R27|</td>\n      <td>A</td>\n      <td>NaN</td>\n    </tr>\n    <tr>\n      <th>19</th>\n      <td>20</td>\n      <td>bis-hydroxylated-l-663581</td>\n      <td>NaN</td>\n      <td>CN1Cc2c(-c3noc(C(C)(CO)CO)n3)ncn2-c2cccc(Cl)c2...</td>\n      <td>NaN</td>\n      <td>-1.82</td>\n      <td>0</td>\n      <td>InChI=1S/C18H18ClN5O4/c1-18(7-25,8-26)17-21-15...</td>\n      <td>NaN</td>\n      <td>R2|R2|R12|R25|R35|R39|R46|</td>\n      <td>A</td>\n      <td>NaN</td>\n    </tr>\n  </tbody>\n</table>\n</div>"
     },
     "execution_count": 6,
     "metadata": {},
     "output_type": "execute_result"
    }
   ],
   "source": [
    "# for readability\n",
    "df = df.rename(columns={\"BBB+/BBB-\": \"label\", \"compound_name\": \"name\"})\n",
    "df.loc[df.label == \"BBB+\", \"label\"] = 1\n",
    "df.loc[df.label == \"BBB-\", \"label\"] = 0\n",
    "\n",
    "df.head(20)"
   ]
  },
  {
   "cell_type": "markdown",
   "metadata": {
    "id": "6XJYfCGfMwlA"
   },
   "source": [
    "### Do the molecule names need to be cleaned?"
   ]
  },
  {
   "cell_type": "code",
   "execution_count": 7,
   "metadata": {
    "id": "kx7kcl6SMwlE",
    "ExecuteTime": {
     "start_time": "2023-06-02T11:01:01.942573Z",
     "end_time": "2023-06-02T11:01:04.829230Z"
    }
   },
   "outputs": [
    {
     "data": {
      "text/plain": "Downloading (…)okenizer_config.json:   0%|          | 0.00/28.0 [00:00<?, ?B/s]",
      "application/vnd.jupyter.widget-view+json": {
       "version_major": 2,
       "version_minor": 0,
       "model_id": "745cbd1af18a49448749daaddbec32ba"
      }
     },
     "metadata": {},
     "output_type": "display_data"
    },
    {
     "data": {
      "text/plain": "Downloading (…)lve/main/config.json:   0%|          | 0.00/385 [00:00<?, ?B/s]",
      "application/vnd.jupyter.widget-view+json": {
       "version_major": 2,
       "version_minor": 0,
       "model_id": "d1a3c4a0dd2f4b209b73f649ebf0f5b3"
      }
     },
     "metadata": {},
     "output_type": "display_data"
    },
    {
     "data": {
      "text/plain": "Downloading (…)solve/main/vocab.txt:   0%|          | 0.00/226k [00:00<?, ?B/s]",
      "application/vnd.jupyter.widget-view+json": {
       "version_major": 2,
       "version_minor": 0,
       "model_id": "af5b8970a8c342deb40633ee1dd31baa"
      }
     },
     "metadata": {},
     "output_type": "display_data"
    }
   ],
   "source": [
    "tokenizer = AutoTokenizer.from_pretrained(\"microsoft/BiomedNLP-PubMedBERT-base-uncased-abstract-fulltext\")"
   ]
  },
  {
   "cell_type": "code",
   "execution_count": 8,
   "metadata": {
    "id": "cOJfwPw2MwlG",
    "ExecuteTime": {
     "start_time": "2023-06-02T11:01:07.666990Z",
     "end_time": "2023-06-02T11:01:07.680559Z"
    }
   },
   "outputs": [
    {
     "name": "stdout",
     "output_type": "stream",
     "text": [
      "mol_ids: [2, 11212, 10020, 7240, 1009, 12, 20090, 4988, 27099, 5729, 13, 12, 67, 17, 8533, 1010, 13, 3]\n",
      "mol_tokens ['[CLS]', 'bb', '##cp', '##d1', '##1', '(', 'cim', '##eti', '##dine', 'analog', ')', '(', 'y', '-', 'g1', '##3', ')', '[SEP]']\n"
     ]
    }
   ],
   "source": [
    "mol_ids = tokenizer.encode('bbcpd11 (cimetidine analog) (y-g13)')\n",
    "print('mol_ids:', mol_ids)\n",
    "\n",
    "print('mol_tokens', tokenizer.convert_ids_to_tokens(mol_ids))"
   ]
  },
  {
   "cell_type": "markdown",
   "source": [
    "- Notice how the subword unit (suffix) starts with \"##\" to indicate that it is part of the previous string\n",
    "- Also [CLS] and [SEP] tokens are automatically added"
   ],
   "metadata": {
    "id": "7yLdKaGGBYWR"
   }
  },
  {
   "cell_type": "code",
   "execution_count": 9,
   "metadata": {
    "id": "Dqcto0qrMwlJ",
    "ExecuteTime": {
     "start_time": "2023-06-02T11:01:49.072453Z",
     "end_time": "2023-06-02T11:01:49.115345Z"
    }
   },
   "outputs": [
    {
     "name": "stdout",
     "output_type": "stream",
     "text": [
      "mol_ids: [2, 11553, 17, 26, 17, 29306, 3]\n",
      "mol_tokens ['[CLS]', 'morphine', '-', '6', '-', 'glucuronide', '[SEP]']\n"
     ]
    }
   ],
   "source": [
    "mol_ids = tokenizer.encode('morphine-6-glucuronide')\n",
    "print('mol_ids:', mol_ids)\n",
    "print('mol_tokens', tokenizer.convert_ids_to_tokens(mol_ids))"
   ]
  },
  {
   "cell_type": "markdown",
   "source": [
    "- The model has *morphine* and *glucuronide* in its vocabulary (has matching input id for these words)\n",
    "- But doesn't have *bbcpd11* or *cimetidine*"
   ],
   "metadata": {
    "id": "9HbDC4sdBv-2"
   }
  },
  {
   "cell_type": "code",
   "execution_count": 10,
   "metadata": {
    "id": "Ciz3lqwXMwlL",
    "ExecuteTime": {
     "start_time": "2023-06-02T11:02:26.131214Z",
     "end_time": "2023-06-02T11:02:26.142214Z"
    }
   },
   "outputs": [
    {
     "name": "stdout",
     "output_type": "stream",
     "text": [
      "mol_ids: [2, 26403, 4136, 17, 3858, 17, 20, 3]\n",
      "mol_tokens ['[CLS]', '334', '##19', '-', '42', '-', '0', '[SEP]']\n"
     ]
    }
   ],
   "source": [
    "mol_ids = tokenizer.encode('33419-42-0')\n",
    "print('mol_ids:', mol_ids)\n",
    "print('mol_tokens', tokenizer.convert_ids_to_tokens(mol_ids))"
   ]
  },
  {
   "cell_type": "markdown",
   "metadata": {
    "id": "VZ2ckDzgMwlV"
   },
   "source": [
    "#### Regex to remove non alpha-numeric characters and convert to lowercase\n",
    "- see it in action: https://regex101.com/"
   ]
  },
  {
   "cell_type": "code",
   "execution_count": 11,
   "metadata": {
    "id": "KDO-0njHMwlX",
    "ExecuteTime": {
     "start_time": "2023-06-02T11:02:44.285516Z",
     "end_time": "2023-06-02T11:02:44.327016Z"
    }
   },
   "outputs": [
    {
     "data": {
      "text/plain": "    NO.                                               name  \\\n0     1                                     sulphasalazine   \n1     2                                         moxalactam   \n2     3                                         clioquinol   \n3     4                        bbcpd11cimetidineanalogyg13   \n4     5                                      schembl614298   \n5     6                                           uk240455   \n6     7                               morphine6glucuronide   \n7     8                                     nitrofurantoin   \n8     9                                            l701324   \n9    10                                           33419420   \n10   11                                          icotidine   \n11   12                                           ro640802   \n12   13                                        temelastine   \n13   14  disodium6r7s742amino1carboxylato2oxoethylidene...   \n14   15                                          cefotetan   \n15   16                                            1848755   \n16   17  245bromo3methylpyridin2ylbutylamino56methylpyr...   \n17   18                                          m2l663581   \n18   19                                          ritonavir   \n19   20                             bishydroxylatedl663581   \n\n                                           IUPAC_name  \\\n0   2-hydroxy-5-[[4-(pyridin-2-ylsulfamoyl)phenyl]...   \n1   7-[[2-carboxy-2-(4-hydroxyphenyl)acetyl]amino]...   \n2                        5-chloro-7-iodoquinolin-8-ol   \n3   2-[2-[(3-bromopyridin-2-yl)methylsulfanyl]ethy...   \n4   (2s,3s,4s,5r)-6-[[(4r,4ar,7s,7ar,12bs)-7-hydro...   \n5   n-(6,7-dichloro-2,3-dioxo-1,4-dihydroquinoxali...   \n6   (2s,3s,4s,5r)-6-[[(4r,4ar,7s,7ar,12bs)-9-hydro...   \n7   1-[(e)-(5-nitrofuran-2-yl)methylideneamino]imi...   \n8   7-chloro-4-hydroxy-3-(3-phenoxyphenyl)-1h-quin...   \n9   5-[(7,8-dihydroxy-2-methyl-4,4a,6,7,8,8a-hexah...   \n10  2-[4-(3-methoxypyridin-2-yl)butylamino]-5-[(6-...   \n11                                                NaN   \n12  2-[4-(5-bromo-3-methylpyridin-2-yl)butylamino]...   \n13  7-[[4-(2-amino-1-carboxy-2-oxoethylidene)-1,3-...   \n14  disodium;(6r,7s)-7-[[4-(2-amino-1-carboxylato-...   \n15           n-phenyl-4,5-dihydro-1h-imidazol-2-amine   \n16  2-[4-(5-bromo-3-methylpyridin-2-yl)butylamino]...   \n17  7-chloro-3-[5-(1,2-dihydroxypropan-2-yl)-1,2,4...   \n18                                                NaN   \n19                                                NaN   \n\n                                               SMILES         CID  logBB  \\\n0    O=C(O)c1cc(N=Nc2ccc(S(=O)(=O)Nc3ccccn3)cc2)ccc1O      5339.0  -2.69   \n1   COC1(NC(=O)C(C(=O)O)c2ccc(O)cc2)C(=O)N2C(C(=O)...      3889.0  -2.52   \n2                              Oc1c(I)cc(Cl)c2cccnc12      2788.0  -2.40   \n3                          CCNC(=NCCSCc1ncccc1Br)NC#N  14022517.0  -2.15   \n4   CN1CC[C@]23c4c5ccc(OC6O[C@H](C(=O)O)[C@@H](O)[...  18595497.0  -2.15   \n5   CS(=O)(=O)N(CCO)c1c(Cl)c(Cl)cc2[nH]c(=O)c(=O)[...   9842188.0  -2.15   \n6   CN1CC[C@]23c4c5ccc(O)c4O[C@H]2[C@@H](OC2O[C@H]...   9847115.0  -2.09   \n7           O=C1CN(/N=C/c2ccc([N+](=O)[O-])o2)C(=O)N1   5353830.0  -2.09   \n8      O=c1[nH]c2cc(Cl)ccc2c(O)c1-c1cccc(Oc2ccccc2)c1  54682505.0  -2.03   \n9   COc1cc(C2c3cc4c(cc3C(OC3OC5COC(C)OC5C(O)C3O)C3...      3310.0  -2.00   \n10       COc1cccnc1CCCCNc1ncc(Cc2ccc(C)nc2)c(=O)[nH]1     72108.0  -2.00   \n11     CCC(CC)O[C@@H]1C=C(C(=O)O)C[C@H](N)[C@@H]1NCOC         NaN  -1.96   \n12      Cc1ccc(Cc2cnc(NCCCCc3ncc(Br)cc3C)[nH]c2=O)cn1     55482.0  -1.90   \n13  COC1(NC(=O)C2SC(=C(C(N)=O)C(=O)O)S2)C(=O)N2C(C...   4630412.0  -1.89   \n14  CO[C@@]1(NC(=O)C2SC(=C(C(N)=O)C(=O)O)S2)C(=O)N...     53025.0  -1.89   \n15                                c1ccc(NC2=NCCN2)cc1    137235.0  -1.89   \n16         Cc1ccc(CC2CNC(NCCCCc3ncc(Br)cc3C)NC2=O)cn1  74041479.0  -1.88   \n17  CN1Cc2c(-c3noc(C(C)(O)CO)n3)ncn2-c2cccc(Cl)c2C1=O  10091748.0  -1.82   \n18  CC(C)c1nc(CN(C)C(=O)N[C@@H](C)C(=O)C[C@@H](Cc2...         NaN  -1.82   \n19  CN1Cc2c(-c3noc(C(C)(CO)CO)n3)ncn2-c2cccc(Cl)c2...         NaN  -1.82   \n\n   label                                              Inchi  threshold  \\\n0      0  InChI=1S/C18H14N4O5S/c23-16-9-6-13(11-15(16)18...        NaN   \n1      0  InChI=1S/C20H20N6O9S/c1-25-19(22-23-24-25)36-8...        NaN   \n2      0  InChI=1S/C9H5ClINO/c10-6-4-7(11)9(13)8-5(6)2-1...        NaN   \n3      0  InChI=1S/C12H16BrN5S/c1-2-15-12(18-9-14)17-6-7...        NaN   \n4      0  InChI=1S/C23H27NO9/c1-24-7-6-23-10-3-4-12(25)2...        NaN   \n5      0  InChI=1S/C11H11Cl2N3O5S/c1-22(20,21)16(2-3-17)...        NaN   \n6      0  InChI=1S/C23H27NO9/c1-24-7-6-23-10-3-5-13(31-2...        NaN   \n7      0  InChI=1S/C8H6N4O5/c13-6-4-11(8(14)10-6)9-3-5-1...        NaN   \n8      0  InChI=1S/C21H14ClNO3/c22-14-9-10-17-18(12-14)2...        NaN   \n9      0  InChI=1S/C29H32O13/c1-11-36-9-20-27(40-11)24(3...        NaN   \n10     0  InChI=1S/C21H25N5O2/c1-15-8-9-16(13-24-15)12-1...        NaN   \n11     0  InChI=1S/C14H26N2O4/c1-4-10(5-2)20-12-7-9(14(1...        NaN   \n12     0  InChI=1S/C21H24BrN5O/c1-14-9-18(22)13-25-19(14...        NaN   \n13     0  InChI=1S/C17H17N7O8S4/c1-23-16(20-21-22-23)34-...        NaN   \n14     0  InChI=1S/C17H17N7O8S4/c1-23-16(20-21-22-23)34-...        NaN   \n15     0  InChI=1S/C9H11N3/c1-2-4-8(5-3-1)12-9-10-6-7-11...        NaN   \n16     0  InChI=1S/C21H28BrN5O/c1-14-9-18(22)13-25-19(14...        NaN   \n17     0  InChI=1S/C17H16ClN5O4/c1-17(26,7-24)16-20-14(2...        NaN   \n18     0  InChI=1S/C36H45N5O5S2/c1-24(2)34-39-29(22-47-3...        NaN   \n19     0  InChI=1S/C18H18ClN5O4/c1-18(7-25,8-26)17-21-15...        NaN   \n\n                                            reference group comments  \n0                                      R2|R2|R25|R46|     A      NaN  \n1                                                R25|     A      NaN  \n2                                        R18|R26|R27|     A      NaN  \n3   R2|R2|R8|R40|R2|R2|R2|R2|R18|R21|R25|R25|R26|R...     A      NaN  \n4                                                R25|     A      NaN  \n5                                        R18|R26|R27|     A      NaN  \n6                                                R25|     A      NaN  \n7                                      R2|R2|R25|R46|     A      NaN  \n8                                        R18|R26|R27|     A      NaN  \n9                   R2|R2|R8|R12|R21|R25|R35|R40|R47|     A      NaN  \n10  R2|R2|R2|R2|R5|R8|R11|R12|R18|R21|R25|R26|R27|...     A      NaN  \n11                                       R18|R26|R27|     A      NaN  \n12  R5|R2|R2|R2|R2|R8|R11|R12|R18|R21|R25|R26|R27|...     A      NaN  \n13             R2|R2|R12|R25|R27|R35|R47|R27|R25|R40|     A      NaN  \n14                                    R8|R21|R21|R39|     A      NaN  \n15                       R2|R2|R8|R25|R46|R47|R4|R40|     A      NaN  \n16                                               R35|     A      NaN  \n17  R2|R2|R8|R40|R3|R4|R12|R21|R25|R27|R36|R38|R41...     A      NaN  \n18                                       R18|R26|R27|     A      NaN  \n19                         R2|R2|R12|R25|R35|R39|R46|     A      NaN  ",
      "text/html": "<div>\n<style scoped>\n    .dataframe tbody tr th:only-of-type {\n        vertical-align: middle;\n    }\n\n    .dataframe tbody tr th {\n        vertical-align: top;\n    }\n\n    .dataframe thead th {\n        text-align: right;\n    }\n</style>\n<table border=\"1\" class=\"dataframe\">\n  <thead>\n    <tr style=\"text-align: right;\">\n      <th></th>\n      <th>NO.</th>\n      <th>name</th>\n      <th>IUPAC_name</th>\n      <th>SMILES</th>\n      <th>CID</th>\n      <th>logBB</th>\n      <th>label</th>\n      <th>Inchi</th>\n      <th>threshold</th>\n      <th>reference</th>\n      <th>group</th>\n      <th>comments</th>\n    </tr>\n  </thead>\n  <tbody>\n    <tr>\n      <th>0</th>\n      <td>1</td>\n      <td>sulphasalazine</td>\n      <td>2-hydroxy-5-[[4-(pyridin-2-ylsulfamoyl)phenyl]...</td>\n      <td>O=C(O)c1cc(N=Nc2ccc(S(=O)(=O)Nc3ccccn3)cc2)ccc1O</td>\n      <td>5339.0</td>\n      <td>-2.69</td>\n      <td>0</td>\n      <td>InChI=1S/C18H14N4O5S/c23-16-9-6-13(11-15(16)18...</td>\n      <td>NaN</td>\n      <td>R2|R2|R25|R46|</td>\n      <td>A</td>\n      <td>NaN</td>\n    </tr>\n    <tr>\n      <th>1</th>\n      <td>2</td>\n      <td>moxalactam</td>\n      <td>7-[[2-carboxy-2-(4-hydroxyphenyl)acetyl]amino]...</td>\n      <td>COC1(NC(=O)C(C(=O)O)c2ccc(O)cc2)C(=O)N2C(C(=O)...</td>\n      <td>3889.0</td>\n      <td>-2.52</td>\n      <td>0</td>\n      <td>InChI=1S/C20H20N6O9S/c1-25-19(22-23-24-25)36-8...</td>\n      <td>NaN</td>\n      <td>R25|</td>\n      <td>A</td>\n      <td>NaN</td>\n    </tr>\n    <tr>\n      <th>2</th>\n      <td>3</td>\n      <td>clioquinol</td>\n      <td>5-chloro-7-iodoquinolin-8-ol</td>\n      <td>Oc1c(I)cc(Cl)c2cccnc12</td>\n      <td>2788.0</td>\n      <td>-2.40</td>\n      <td>0</td>\n      <td>InChI=1S/C9H5ClINO/c10-6-4-7(11)9(13)8-5(6)2-1...</td>\n      <td>NaN</td>\n      <td>R18|R26|R27|</td>\n      <td>A</td>\n      <td>NaN</td>\n    </tr>\n    <tr>\n      <th>3</th>\n      <td>4</td>\n      <td>bbcpd11cimetidineanalogyg13</td>\n      <td>2-[2-[(3-bromopyridin-2-yl)methylsulfanyl]ethy...</td>\n      <td>CCNC(=NCCSCc1ncccc1Br)NC#N</td>\n      <td>14022517.0</td>\n      <td>-2.15</td>\n      <td>0</td>\n      <td>InChI=1S/C12H16BrN5S/c1-2-15-12(18-9-14)17-6-7...</td>\n      <td>NaN</td>\n      <td>R2|R2|R8|R40|R2|R2|R2|R2|R18|R21|R25|R25|R26|R...</td>\n      <td>A</td>\n      <td>NaN</td>\n    </tr>\n    <tr>\n      <th>4</th>\n      <td>5</td>\n      <td>schembl614298</td>\n      <td>(2s,3s,4s,5r)-6-[[(4r,4ar,7s,7ar,12bs)-7-hydro...</td>\n      <td>CN1CC[C@]23c4c5ccc(OC6O[C@H](C(=O)O)[C@@H](O)[...</td>\n      <td>18595497.0</td>\n      <td>-2.15</td>\n      <td>0</td>\n      <td>InChI=1S/C23H27NO9/c1-24-7-6-23-10-3-4-12(25)2...</td>\n      <td>NaN</td>\n      <td>R25|</td>\n      <td>A</td>\n      <td>NaN</td>\n    </tr>\n    <tr>\n      <th>5</th>\n      <td>6</td>\n      <td>uk240455</td>\n      <td>n-(6,7-dichloro-2,3-dioxo-1,4-dihydroquinoxali...</td>\n      <td>CS(=O)(=O)N(CCO)c1c(Cl)c(Cl)cc2[nH]c(=O)c(=O)[...</td>\n      <td>9842188.0</td>\n      <td>-2.15</td>\n      <td>0</td>\n      <td>InChI=1S/C11H11Cl2N3O5S/c1-22(20,21)16(2-3-17)...</td>\n      <td>NaN</td>\n      <td>R18|R26|R27|</td>\n      <td>A</td>\n      <td>NaN</td>\n    </tr>\n    <tr>\n      <th>6</th>\n      <td>7</td>\n      <td>morphine6glucuronide</td>\n      <td>(2s,3s,4s,5r)-6-[[(4r,4ar,7s,7ar,12bs)-9-hydro...</td>\n      <td>CN1CC[C@]23c4c5ccc(O)c4O[C@H]2[C@@H](OC2O[C@H]...</td>\n      <td>9847115.0</td>\n      <td>-2.09</td>\n      <td>0</td>\n      <td>InChI=1S/C23H27NO9/c1-24-7-6-23-10-3-5-13(31-2...</td>\n      <td>NaN</td>\n      <td>R25|</td>\n      <td>A</td>\n      <td>NaN</td>\n    </tr>\n    <tr>\n      <th>7</th>\n      <td>8</td>\n      <td>nitrofurantoin</td>\n      <td>1-[(e)-(5-nitrofuran-2-yl)methylideneamino]imi...</td>\n      <td>O=C1CN(/N=C/c2ccc([N+](=O)[O-])o2)C(=O)N1</td>\n      <td>5353830.0</td>\n      <td>-2.09</td>\n      <td>0</td>\n      <td>InChI=1S/C8H6N4O5/c13-6-4-11(8(14)10-6)9-3-5-1...</td>\n      <td>NaN</td>\n      <td>R2|R2|R25|R46|</td>\n      <td>A</td>\n      <td>NaN</td>\n    </tr>\n    <tr>\n      <th>8</th>\n      <td>9</td>\n      <td>l701324</td>\n      <td>7-chloro-4-hydroxy-3-(3-phenoxyphenyl)-1h-quin...</td>\n      <td>O=c1[nH]c2cc(Cl)ccc2c(O)c1-c1cccc(Oc2ccccc2)c1</td>\n      <td>54682505.0</td>\n      <td>-2.03</td>\n      <td>0</td>\n      <td>InChI=1S/C21H14ClNO3/c22-14-9-10-17-18(12-14)2...</td>\n      <td>NaN</td>\n      <td>R18|R26|R27|</td>\n      <td>A</td>\n      <td>NaN</td>\n    </tr>\n    <tr>\n      <th>9</th>\n      <td>10</td>\n      <td>33419420</td>\n      <td>5-[(7,8-dihydroxy-2-methyl-4,4a,6,7,8,8a-hexah...</td>\n      <td>COc1cc(C2c3cc4c(cc3C(OC3OC5COC(C)OC5C(O)C3O)C3...</td>\n      <td>3310.0</td>\n      <td>-2.00</td>\n      <td>0</td>\n      <td>InChI=1S/C29H32O13/c1-11-36-9-20-27(40-11)24(3...</td>\n      <td>NaN</td>\n      <td>R2|R2|R8|R12|R21|R25|R35|R40|R47|</td>\n      <td>A</td>\n      <td>NaN</td>\n    </tr>\n    <tr>\n      <th>10</th>\n      <td>11</td>\n      <td>icotidine</td>\n      <td>2-[4-(3-methoxypyridin-2-yl)butylamino]-5-[(6-...</td>\n      <td>COc1cccnc1CCCCNc1ncc(Cc2ccc(C)nc2)c(=O)[nH]1</td>\n      <td>72108.0</td>\n      <td>-2.00</td>\n      <td>0</td>\n      <td>InChI=1S/C21H25N5O2/c1-15-8-9-16(13-24-15)12-1...</td>\n      <td>NaN</td>\n      <td>R2|R2|R2|R2|R5|R8|R11|R12|R18|R21|R25|R26|R27|...</td>\n      <td>A</td>\n      <td>NaN</td>\n    </tr>\n    <tr>\n      <th>11</th>\n      <td>12</td>\n      <td>ro640802</td>\n      <td>NaN</td>\n      <td>CCC(CC)O[C@@H]1C=C(C(=O)O)C[C@H](N)[C@@H]1NCOC</td>\n      <td>NaN</td>\n      <td>-1.96</td>\n      <td>0</td>\n      <td>InChI=1S/C14H26N2O4/c1-4-10(5-2)20-12-7-9(14(1...</td>\n      <td>NaN</td>\n      <td>R18|R26|R27|</td>\n      <td>A</td>\n      <td>NaN</td>\n    </tr>\n    <tr>\n      <th>12</th>\n      <td>13</td>\n      <td>temelastine</td>\n      <td>2-[4-(5-bromo-3-methylpyridin-2-yl)butylamino]...</td>\n      <td>Cc1ccc(Cc2cnc(NCCCCc3ncc(Br)cc3C)[nH]c2=O)cn1</td>\n      <td>55482.0</td>\n      <td>-1.90</td>\n      <td>0</td>\n      <td>InChI=1S/C21H24BrN5O/c1-14-9-18(22)13-25-19(14...</td>\n      <td>NaN</td>\n      <td>R5|R2|R2|R2|R2|R8|R11|R12|R18|R21|R25|R26|R27|...</td>\n      <td>A</td>\n      <td>NaN</td>\n    </tr>\n    <tr>\n      <th>13</th>\n      <td>14</td>\n      <td>disodium6r7s742amino1carboxylato2oxoethylidene...</td>\n      <td>7-[[4-(2-amino-1-carboxy-2-oxoethylidene)-1,3-...</td>\n      <td>COC1(NC(=O)C2SC(=C(C(N)=O)C(=O)O)S2)C(=O)N2C(C...</td>\n      <td>4630412.0</td>\n      <td>-1.89</td>\n      <td>0</td>\n      <td>InChI=1S/C17H17N7O8S4/c1-23-16(20-21-22-23)34-...</td>\n      <td>NaN</td>\n      <td>R2|R2|R12|R25|R27|R35|R47|R27|R25|R40|</td>\n      <td>A</td>\n      <td>NaN</td>\n    </tr>\n    <tr>\n      <th>14</th>\n      <td>15</td>\n      <td>cefotetan</td>\n      <td>disodium;(6r,7s)-7-[[4-(2-amino-1-carboxylato-...</td>\n      <td>CO[C@@]1(NC(=O)C2SC(=C(C(N)=O)C(=O)O)S2)C(=O)N...</td>\n      <td>53025.0</td>\n      <td>-1.89</td>\n      <td>0</td>\n      <td>InChI=1S/C17H17N7O8S4/c1-23-16(20-21-22-23)34-...</td>\n      <td>NaN</td>\n      <td>R8|R21|R21|R39|</td>\n      <td>A</td>\n      <td>NaN</td>\n    </tr>\n    <tr>\n      <th>15</th>\n      <td>16</td>\n      <td>1848755</td>\n      <td>n-phenyl-4,5-dihydro-1h-imidazol-2-amine</td>\n      <td>c1ccc(NC2=NCCN2)cc1</td>\n      <td>137235.0</td>\n      <td>-1.89</td>\n      <td>0</td>\n      <td>InChI=1S/C9H11N3/c1-2-4-8(5-3-1)12-9-10-6-7-11...</td>\n      <td>NaN</td>\n      <td>R2|R2|R8|R25|R46|R47|R4|R40|</td>\n      <td>A</td>\n      <td>NaN</td>\n    </tr>\n    <tr>\n      <th>16</th>\n      <td>17</td>\n      <td>245bromo3methylpyridin2ylbutylamino56methylpyr...</td>\n      <td>2-[4-(5-bromo-3-methylpyridin-2-yl)butylamino]...</td>\n      <td>Cc1ccc(CC2CNC(NCCCCc3ncc(Br)cc3C)NC2=O)cn1</td>\n      <td>74041479.0</td>\n      <td>-1.88</td>\n      <td>0</td>\n      <td>InChI=1S/C21H28BrN5O/c1-14-9-18(22)13-25-19(14...</td>\n      <td>NaN</td>\n      <td>R35|</td>\n      <td>A</td>\n      <td>NaN</td>\n    </tr>\n    <tr>\n      <th>17</th>\n      <td>18</td>\n      <td>m2l663581</td>\n      <td>7-chloro-3-[5-(1,2-dihydroxypropan-2-yl)-1,2,4...</td>\n      <td>CN1Cc2c(-c3noc(C(C)(O)CO)n3)ncn2-c2cccc(Cl)c2C1=O</td>\n      <td>10091748.0</td>\n      <td>-1.82</td>\n      <td>0</td>\n      <td>InChI=1S/C17H16ClN5O4/c1-17(26,7-24)16-20-14(2...</td>\n      <td>NaN</td>\n      <td>R2|R2|R8|R40|R3|R4|R12|R21|R25|R27|R36|R38|R41...</td>\n      <td>A</td>\n      <td>NaN</td>\n    </tr>\n    <tr>\n      <th>18</th>\n      <td>19</td>\n      <td>ritonavir</td>\n      <td>NaN</td>\n      <td>CC(C)c1nc(CN(C)C(=O)N[C@@H](C)C(=O)C[C@@H](Cc2...</td>\n      <td>NaN</td>\n      <td>-1.82</td>\n      <td>0</td>\n      <td>InChI=1S/C36H45N5O5S2/c1-24(2)34-39-29(22-47-3...</td>\n      <td>NaN</td>\n      <td>R18|R26|R27|</td>\n      <td>A</td>\n      <td>NaN</td>\n    </tr>\n    <tr>\n      <th>19</th>\n      <td>20</td>\n      <td>bishydroxylatedl663581</td>\n      <td>NaN</td>\n      <td>CN1Cc2c(-c3noc(C(C)(CO)CO)n3)ncn2-c2cccc(Cl)c2...</td>\n      <td>NaN</td>\n      <td>-1.82</td>\n      <td>0</td>\n      <td>InChI=1S/C18H18ClN5O4/c1-18(7-25,8-26)17-21-15...</td>\n      <td>NaN</td>\n      <td>R2|R2|R12|R25|R35|R39|R46|</td>\n      <td>A</td>\n      <td>NaN</td>\n    </tr>\n  </tbody>\n</table>\n</div>"
     },
     "execution_count": 11,
     "metadata": {},
     "output_type": "execute_result"
    }
   ],
   "source": [
    "df[\"name\"] = df[\"name\"].apply(lambda x: re.sub(\"[^A-Za-z0-9]+\", \"\", str(x)).lower())\n",
    "df.head(20)"
   ]
  },
  {
   "cell_type": "code",
   "execution_count": 12,
   "metadata": {
    "id": "l8bN8vimMwlY",
    "ExecuteTime": {
     "start_time": "2023-06-02T11:02:51.892677Z",
     "end_time": "2023-06-02T11:02:51.901797Z"
    }
   },
   "outputs": [
    {
     "data": {
      "text/plain": "    NO.                                               name  \\\n0     1                                     sulphasalazine   \n1     2                                         moxalactam   \n2     3                                         clioquinol   \n3     4                        bbcpd11cimetidineanalogyg13   \n4     5                                      schembl614298   \n5     6                                           uk240455   \n6     7                               morphine6glucuronide   \n7     8                                     nitrofurantoin   \n8     9                                            l701324   \n9    10                                                nan   \n10   11                                          icotidine   \n11   12                                           ro640802   \n12   13                                        temelastine   \n13   14  disodium6r7s742amino1carboxylato2oxoethylidene...   \n14   15                                          cefotetan   \n15   16                                                nan   \n16   17  nanbromo3methylpyridin2ylbutylamino56methylpyr...   \n17   18                                          m2l663581   \n18   19                                          ritonavir   \n19   20                             bishydroxylatedl663581   \n\n                                           IUPAC_name  \\\n0   2-hydroxy-5-[[4-(pyridin-2-ylsulfamoyl)phenyl]...   \n1   7-[[2-carboxy-2-(4-hydroxyphenyl)acetyl]amino]...   \n2                        5-chloro-7-iodoquinolin-8-ol   \n3   2-[2-[(3-bromopyridin-2-yl)methylsulfanyl]ethy...   \n4   (2s,3s,4s,5r)-6-[[(4r,4ar,7s,7ar,12bs)-7-hydro...   \n5   n-(6,7-dichloro-2,3-dioxo-1,4-dihydroquinoxali...   \n6   (2s,3s,4s,5r)-6-[[(4r,4ar,7s,7ar,12bs)-9-hydro...   \n7   1-[(e)-(5-nitrofuran-2-yl)methylideneamino]imi...   \n8   7-chloro-4-hydroxy-3-(3-phenoxyphenyl)-1h-quin...   \n9   5-[(7,8-dihydroxy-2-methyl-4,4a,6,7,8,8a-hexah...   \n10  2-[4-(3-methoxypyridin-2-yl)butylamino]-5-[(6-...   \n11                                                NaN   \n12  2-[4-(5-bromo-3-methylpyridin-2-yl)butylamino]...   \n13  7-[[4-(2-amino-1-carboxy-2-oxoethylidene)-1,3-...   \n14  disodium;(6r,7s)-7-[[4-(2-amino-1-carboxylato-...   \n15           n-phenyl-4,5-dihydro-1h-imidazol-2-amine   \n16  2-[4-(5-bromo-3-methylpyridin-2-yl)butylamino]...   \n17  7-chloro-3-[5-(1,2-dihydroxypropan-2-yl)-1,2,4...   \n18                                                NaN   \n19                                                NaN   \n\n                                               SMILES         CID  logBB  \\\n0    O=C(O)c1cc(N=Nc2ccc(S(=O)(=O)Nc3ccccn3)cc2)ccc1O      5339.0  -2.69   \n1   COC1(NC(=O)C(C(=O)O)c2ccc(O)cc2)C(=O)N2C(C(=O)...      3889.0  -2.52   \n2                              Oc1c(I)cc(Cl)c2cccnc12      2788.0  -2.40   \n3                          CCNC(=NCCSCc1ncccc1Br)NC#N  14022517.0  -2.15   \n4   CN1CC[C@]23c4c5ccc(OC6O[C@H](C(=O)O)[C@@H](O)[...  18595497.0  -2.15   \n5   CS(=O)(=O)N(CCO)c1c(Cl)c(Cl)cc2[nH]c(=O)c(=O)[...   9842188.0  -2.15   \n6   CN1CC[C@]23c4c5ccc(O)c4O[C@H]2[C@@H](OC2O[C@H]...   9847115.0  -2.09   \n7           O=C1CN(/N=C/c2ccc([N+](=O)[O-])o2)C(=O)N1   5353830.0  -2.09   \n8      O=c1[nH]c2cc(Cl)ccc2c(O)c1-c1cccc(Oc2ccccc2)c1  54682505.0  -2.03   \n9   COc1cc(C2c3cc4c(cc3C(OC3OC5COC(C)OC5C(O)C3O)C3...      3310.0  -2.00   \n10       COc1cccnc1CCCCNc1ncc(Cc2ccc(C)nc2)c(=O)[nH]1     72108.0  -2.00   \n11     CCC(CC)O[C@@H]1C=C(C(=O)O)C[C@H](N)[C@@H]1NCOC         NaN  -1.96   \n12      Cc1ccc(Cc2cnc(NCCCCc3ncc(Br)cc3C)[nH]c2=O)cn1     55482.0  -1.90   \n13  COC1(NC(=O)C2SC(=C(C(N)=O)C(=O)O)S2)C(=O)N2C(C...   4630412.0  -1.89   \n14  CO[C@@]1(NC(=O)C2SC(=C(C(N)=O)C(=O)O)S2)C(=O)N...     53025.0  -1.89   \n15                                c1ccc(NC2=NCCN2)cc1    137235.0  -1.89   \n16         Cc1ccc(CC2CNC(NCCCCc3ncc(Br)cc3C)NC2=O)cn1  74041479.0  -1.88   \n17  CN1Cc2c(-c3noc(C(C)(O)CO)n3)ncn2-c2cccc(Cl)c2C1=O  10091748.0  -1.82   \n18  CC(C)c1nc(CN(C)C(=O)N[C@@H](C)C(=O)C[C@@H](Cc2...         NaN  -1.82   \n19  CN1Cc2c(-c3noc(C(C)(CO)CO)n3)ncn2-c2cccc(Cl)c2...         NaN  -1.82   \n\n   label                                              Inchi  threshold  \\\n0      0  InChI=1S/C18H14N4O5S/c23-16-9-6-13(11-15(16)18...        NaN   \n1      0  InChI=1S/C20H20N6O9S/c1-25-19(22-23-24-25)36-8...        NaN   \n2      0  InChI=1S/C9H5ClINO/c10-6-4-7(11)9(13)8-5(6)2-1...        NaN   \n3      0  InChI=1S/C12H16BrN5S/c1-2-15-12(18-9-14)17-6-7...        NaN   \n4      0  InChI=1S/C23H27NO9/c1-24-7-6-23-10-3-4-12(25)2...        NaN   \n5      0  InChI=1S/C11H11Cl2N3O5S/c1-22(20,21)16(2-3-17)...        NaN   \n6      0  InChI=1S/C23H27NO9/c1-24-7-6-23-10-3-5-13(31-2...        NaN   \n7      0  InChI=1S/C8H6N4O5/c13-6-4-11(8(14)10-6)9-3-5-1...        NaN   \n8      0  InChI=1S/C21H14ClNO3/c22-14-9-10-17-18(12-14)2...        NaN   \n9      0  InChI=1S/C29H32O13/c1-11-36-9-20-27(40-11)24(3...        NaN   \n10     0  InChI=1S/C21H25N5O2/c1-15-8-9-16(13-24-15)12-1...        NaN   \n11     0  InChI=1S/C14H26N2O4/c1-4-10(5-2)20-12-7-9(14(1...        NaN   \n12     0  InChI=1S/C21H24BrN5O/c1-14-9-18(22)13-25-19(14...        NaN   \n13     0  InChI=1S/C17H17N7O8S4/c1-23-16(20-21-22-23)34-...        NaN   \n14     0  InChI=1S/C17H17N7O8S4/c1-23-16(20-21-22-23)34-...        NaN   \n15     0  InChI=1S/C9H11N3/c1-2-4-8(5-3-1)12-9-10-6-7-11...        NaN   \n16     0  InChI=1S/C21H28BrN5O/c1-14-9-18(22)13-25-19(14...        NaN   \n17     0  InChI=1S/C17H16ClN5O4/c1-17(26,7-24)16-20-14(2...        NaN   \n18     0  InChI=1S/C36H45N5O5S2/c1-24(2)34-39-29(22-47-3...        NaN   \n19     0  InChI=1S/C18H18ClN5O4/c1-18(7-25,8-26)17-21-15...        NaN   \n\n                                            reference group comments  \n0                                      R2|R2|R25|R46|     A      NaN  \n1                                                R25|     A      NaN  \n2                                        R18|R26|R27|     A      NaN  \n3   R2|R2|R8|R40|R2|R2|R2|R2|R18|R21|R25|R25|R26|R...     A      NaN  \n4                                                R25|     A      NaN  \n5                                        R18|R26|R27|     A      NaN  \n6                                                R25|     A      NaN  \n7                                      R2|R2|R25|R46|     A      NaN  \n8                                        R18|R26|R27|     A      NaN  \n9                   R2|R2|R8|R12|R21|R25|R35|R40|R47|     A      NaN  \n10  R2|R2|R2|R2|R5|R8|R11|R12|R18|R21|R25|R26|R27|...     A      NaN  \n11                                       R18|R26|R27|     A      NaN  \n12  R5|R2|R2|R2|R2|R8|R11|R12|R18|R21|R25|R26|R27|...     A      NaN  \n13             R2|R2|R12|R25|R27|R35|R47|R27|R25|R40|     A      NaN  \n14                                    R8|R21|R21|R39|     A      NaN  \n15                       R2|R2|R8|R25|R46|R47|R4|R40|     A      NaN  \n16                                               R35|     A      NaN  \n17  R2|R2|R8|R40|R3|R4|R12|R21|R25|R27|R36|R38|R41...     A      NaN  \n18                                       R18|R26|R27|     A      NaN  \n19                         R2|R2|R12|R25|R35|R39|R46|     A      NaN  ",
      "text/html": "<div>\n<style scoped>\n    .dataframe tbody tr th:only-of-type {\n        vertical-align: middle;\n    }\n\n    .dataframe tbody tr th {\n        vertical-align: top;\n    }\n\n    .dataframe thead th {\n        text-align: right;\n    }\n</style>\n<table border=\"1\" class=\"dataframe\">\n  <thead>\n    <tr style=\"text-align: right;\">\n      <th></th>\n      <th>NO.</th>\n      <th>name</th>\n      <th>IUPAC_name</th>\n      <th>SMILES</th>\n      <th>CID</th>\n      <th>logBB</th>\n      <th>label</th>\n      <th>Inchi</th>\n      <th>threshold</th>\n      <th>reference</th>\n      <th>group</th>\n      <th>comments</th>\n    </tr>\n  </thead>\n  <tbody>\n    <tr>\n      <th>0</th>\n      <td>1</td>\n      <td>sulphasalazine</td>\n      <td>2-hydroxy-5-[[4-(pyridin-2-ylsulfamoyl)phenyl]...</td>\n      <td>O=C(O)c1cc(N=Nc2ccc(S(=O)(=O)Nc3ccccn3)cc2)ccc1O</td>\n      <td>5339.0</td>\n      <td>-2.69</td>\n      <td>0</td>\n      <td>InChI=1S/C18H14N4O5S/c23-16-9-6-13(11-15(16)18...</td>\n      <td>NaN</td>\n      <td>R2|R2|R25|R46|</td>\n      <td>A</td>\n      <td>NaN</td>\n    </tr>\n    <tr>\n      <th>1</th>\n      <td>2</td>\n      <td>moxalactam</td>\n      <td>7-[[2-carboxy-2-(4-hydroxyphenyl)acetyl]amino]...</td>\n      <td>COC1(NC(=O)C(C(=O)O)c2ccc(O)cc2)C(=O)N2C(C(=O)...</td>\n      <td>3889.0</td>\n      <td>-2.52</td>\n      <td>0</td>\n      <td>InChI=1S/C20H20N6O9S/c1-25-19(22-23-24-25)36-8...</td>\n      <td>NaN</td>\n      <td>R25|</td>\n      <td>A</td>\n      <td>NaN</td>\n    </tr>\n    <tr>\n      <th>2</th>\n      <td>3</td>\n      <td>clioquinol</td>\n      <td>5-chloro-7-iodoquinolin-8-ol</td>\n      <td>Oc1c(I)cc(Cl)c2cccnc12</td>\n      <td>2788.0</td>\n      <td>-2.40</td>\n      <td>0</td>\n      <td>InChI=1S/C9H5ClINO/c10-6-4-7(11)9(13)8-5(6)2-1...</td>\n      <td>NaN</td>\n      <td>R18|R26|R27|</td>\n      <td>A</td>\n      <td>NaN</td>\n    </tr>\n    <tr>\n      <th>3</th>\n      <td>4</td>\n      <td>bbcpd11cimetidineanalogyg13</td>\n      <td>2-[2-[(3-bromopyridin-2-yl)methylsulfanyl]ethy...</td>\n      <td>CCNC(=NCCSCc1ncccc1Br)NC#N</td>\n      <td>14022517.0</td>\n      <td>-2.15</td>\n      <td>0</td>\n      <td>InChI=1S/C12H16BrN5S/c1-2-15-12(18-9-14)17-6-7...</td>\n      <td>NaN</td>\n      <td>R2|R2|R8|R40|R2|R2|R2|R2|R18|R21|R25|R25|R26|R...</td>\n      <td>A</td>\n      <td>NaN</td>\n    </tr>\n    <tr>\n      <th>4</th>\n      <td>5</td>\n      <td>schembl614298</td>\n      <td>(2s,3s,4s,5r)-6-[[(4r,4ar,7s,7ar,12bs)-7-hydro...</td>\n      <td>CN1CC[C@]23c4c5ccc(OC6O[C@H](C(=O)O)[C@@H](O)[...</td>\n      <td>18595497.0</td>\n      <td>-2.15</td>\n      <td>0</td>\n      <td>InChI=1S/C23H27NO9/c1-24-7-6-23-10-3-4-12(25)2...</td>\n      <td>NaN</td>\n      <td>R25|</td>\n      <td>A</td>\n      <td>NaN</td>\n    </tr>\n    <tr>\n      <th>5</th>\n      <td>6</td>\n      <td>uk240455</td>\n      <td>n-(6,7-dichloro-2,3-dioxo-1,4-dihydroquinoxali...</td>\n      <td>CS(=O)(=O)N(CCO)c1c(Cl)c(Cl)cc2[nH]c(=O)c(=O)[...</td>\n      <td>9842188.0</td>\n      <td>-2.15</td>\n      <td>0</td>\n      <td>InChI=1S/C11H11Cl2N3O5S/c1-22(20,21)16(2-3-17)...</td>\n      <td>NaN</td>\n      <td>R18|R26|R27|</td>\n      <td>A</td>\n      <td>NaN</td>\n    </tr>\n    <tr>\n      <th>6</th>\n      <td>7</td>\n      <td>morphine6glucuronide</td>\n      <td>(2s,3s,4s,5r)-6-[[(4r,4ar,7s,7ar,12bs)-9-hydro...</td>\n      <td>CN1CC[C@]23c4c5ccc(O)c4O[C@H]2[C@@H](OC2O[C@H]...</td>\n      <td>9847115.0</td>\n      <td>-2.09</td>\n      <td>0</td>\n      <td>InChI=1S/C23H27NO9/c1-24-7-6-23-10-3-5-13(31-2...</td>\n      <td>NaN</td>\n      <td>R25|</td>\n      <td>A</td>\n      <td>NaN</td>\n    </tr>\n    <tr>\n      <th>7</th>\n      <td>8</td>\n      <td>nitrofurantoin</td>\n      <td>1-[(e)-(5-nitrofuran-2-yl)methylideneamino]imi...</td>\n      <td>O=C1CN(/N=C/c2ccc([N+](=O)[O-])o2)C(=O)N1</td>\n      <td>5353830.0</td>\n      <td>-2.09</td>\n      <td>0</td>\n      <td>InChI=1S/C8H6N4O5/c13-6-4-11(8(14)10-6)9-3-5-1...</td>\n      <td>NaN</td>\n      <td>R2|R2|R25|R46|</td>\n      <td>A</td>\n      <td>NaN</td>\n    </tr>\n    <tr>\n      <th>8</th>\n      <td>9</td>\n      <td>l701324</td>\n      <td>7-chloro-4-hydroxy-3-(3-phenoxyphenyl)-1h-quin...</td>\n      <td>O=c1[nH]c2cc(Cl)ccc2c(O)c1-c1cccc(Oc2ccccc2)c1</td>\n      <td>54682505.0</td>\n      <td>-2.03</td>\n      <td>0</td>\n      <td>InChI=1S/C21H14ClNO3/c22-14-9-10-17-18(12-14)2...</td>\n      <td>NaN</td>\n      <td>R18|R26|R27|</td>\n      <td>A</td>\n      <td>NaN</td>\n    </tr>\n    <tr>\n      <th>9</th>\n      <td>10</td>\n      <td>nan</td>\n      <td>5-[(7,8-dihydroxy-2-methyl-4,4a,6,7,8,8a-hexah...</td>\n      <td>COc1cc(C2c3cc4c(cc3C(OC3OC5COC(C)OC5C(O)C3O)C3...</td>\n      <td>3310.0</td>\n      <td>-2.00</td>\n      <td>0</td>\n      <td>InChI=1S/C29H32O13/c1-11-36-9-20-27(40-11)24(3...</td>\n      <td>NaN</td>\n      <td>R2|R2|R8|R12|R21|R25|R35|R40|R47|</td>\n      <td>A</td>\n      <td>NaN</td>\n    </tr>\n    <tr>\n      <th>10</th>\n      <td>11</td>\n      <td>icotidine</td>\n      <td>2-[4-(3-methoxypyridin-2-yl)butylamino]-5-[(6-...</td>\n      <td>COc1cccnc1CCCCNc1ncc(Cc2ccc(C)nc2)c(=O)[nH]1</td>\n      <td>72108.0</td>\n      <td>-2.00</td>\n      <td>0</td>\n      <td>InChI=1S/C21H25N5O2/c1-15-8-9-16(13-24-15)12-1...</td>\n      <td>NaN</td>\n      <td>R2|R2|R2|R2|R5|R8|R11|R12|R18|R21|R25|R26|R27|...</td>\n      <td>A</td>\n      <td>NaN</td>\n    </tr>\n    <tr>\n      <th>11</th>\n      <td>12</td>\n      <td>ro640802</td>\n      <td>NaN</td>\n      <td>CCC(CC)O[C@@H]1C=C(C(=O)O)C[C@H](N)[C@@H]1NCOC</td>\n      <td>NaN</td>\n      <td>-1.96</td>\n      <td>0</td>\n      <td>InChI=1S/C14H26N2O4/c1-4-10(5-2)20-12-7-9(14(1...</td>\n      <td>NaN</td>\n      <td>R18|R26|R27|</td>\n      <td>A</td>\n      <td>NaN</td>\n    </tr>\n    <tr>\n      <th>12</th>\n      <td>13</td>\n      <td>temelastine</td>\n      <td>2-[4-(5-bromo-3-methylpyridin-2-yl)butylamino]...</td>\n      <td>Cc1ccc(Cc2cnc(NCCCCc3ncc(Br)cc3C)[nH]c2=O)cn1</td>\n      <td>55482.0</td>\n      <td>-1.90</td>\n      <td>0</td>\n      <td>InChI=1S/C21H24BrN5O/c1-14-9-18(22)13-25-19(14...</td>\n      <td>NaN</td>\n      <td>R5|R2|R2|R2|R2|R8|R11|R12|R18|R21|R25|R26|R27|...</td>\n      <td>A</td>\n      <td>NaN</td>\n    </tr>\n    <tr>\n      <th>13</th>\n      <td>14</td>\n      <td>disodium6r7s742amino1carboxylato2oxoethylidene...</td>\n      <td>7-[[4-(2-amino-1-carboxy-2-oxoethylidene)-1,3-...</td>\n      <td>COC1(NC(=O)C2SC(=C(C(N)=O)C(=O)O)S2)C(=O)N2C(C...</td>\n      <td>4630412.0</td>\n      <td>-1.89</td>\n      <td>0</td>\n      <td>InChI=1S/C17H17N7O8S4/c1-23-16(20-21-22-23)34-...</td>\n      <td>NaN</td>\n      <td>R2|R2|R12|R25|R27|R35|R47|R27|R25|R40|</td>\n      <td>A</td>\n      <td>NaN</td>\n    </tr>\n    <tr>\n      <th>14</th>\n      <td>15</td>\n      <td>cefotetan</td>\n      <td>disodium;(6r,7s)-7-[[4-(2-amino-1-carboxylato-...</td>\n      <td>CO[C@@]1(NC(=O)C2SC(=C(C(N)=O)C(=O)O)S2)C(=O)N...</td>\n      <td>53025.0</td>\n      <td>-1.89</td>\n      <td>0</td>\n      <td>InChI=1S/C17H17N7O8S4/c1-23-16(20-21-22-23)34-...</td>\n      <td>NaN</td>\n      <td>R8|R21|R21|R39|</td>\n      <td>A</td>\n      <td>NaN</td>\n    </tr>\n    <tr>\n      <th>15</th>\n      <td>16</td>\n      <td>nan</td>\n      <td>n-phenyl-4,5-dihydro-1h-imidazol-2-amine</td>\n      <td>c1ccc(NC2=NCCN2)cc1</td>\n      <td>137235.0</td>\n      <td>-1.89</td>\n      <td>0</td>\n      <td>InChI=1S/C9H11N3/c1-2-4-8(5-3-1)12-9-10-6-7-11...</td>\n      <td>NaN</td>\n      <td>R2|R2|R8|R25|R46|R47|R4|R40|</td>\n      <td>A</td>\n      <td>NaN</td>\n    </tr>\n    <tr>\n      <th>16</th>\n      <td>17</td>\n      <td>nanbromo3methylpyridin2ylbutylamino56methylpyr...</td>\n      <td>2-[4-(5-bromo-3-methylpyridin-2-yl)butylamino]...</td>\n      <td>Cc1ccc(CC2CNC(NCCCCc3ncc(Br)cc3C)NC2=O)cn1</td>\n      <td>74041479.0</td>\n      <td>-1.88</td>\n      <td>0</td>\n      <td>InChI=1S/C21H28BrN5O/c1-14-9-18(22)13-25-19(14...</td>\n      <td>NaN</td>\n      <td>R35|</td>\n      <td>A</td>\n      <td>NaN</td>\n    </tr>\n    <tr>\n      <th>17</th>\n      <td>18</td>\n      <td>m2l663581</td>\n      <td>7-chloro-3-[5-(1,2-dihydroxypropan-2-yl)-1,2,4...</td>\n      <td>CN1Cc2c(-c3noc(C(C)(O)CO)n3)ncn2-c2cccc(Cl)c2C1=O</td>\n      <td>10091748.0</td>\n      <td>-1.82</td>\n      <td>0</td>\n      <td>InChI=1S/C17H16ClN5O4/c1-17(26,7-24)16-20-14(2...</td>\n      <td>NaN</td>\n      <td>R2|R2|R8|R40|R3|R4|R12|R21|R25|R27|R36|R38|R41...</td>\n      <td>A</td>\n      <td>NaN</td>\n    </tr>\n    <tr>\n      <th>18</th>\n      <td>19</td>\n      <td>ritonavir</td>\n      <td>NaN</td>\n      <td>CC(C)c1nc(CN(C)C(=O)N[C@@H](C)C(=O)C[C@@H](Cc2...</td>\n      <td>NaN</td>\n      <td>-1.82</td>\n      <td>0</td>\n      <td>InChI=1S/C36H45N5O5S2/c1-24(2)34-39-29(22-47-3...</td>\n      <td>NaN</td>\n      <td>R18|R26|R27|</td>\n      <td>A</td>\n      <td>NaN</td>\n    </tr>\n    <tr>\n      <th>19</th>\n      <td>20</td>\n      <td>bishydroxylatedl663581</td>\n      <td>NaN</td>\n      <td>CN1Cc2c(-c3noc(C(C)(CO)CO)n3)ncn2-c2cccc(Cl)c2...</td>\n      <td>NaN</td>\n      <td>-1.82</td>\n      <td>0</td>\n      <td>InChI=1S/C18H18ClN5O4/c1-18(7-25,8-26)17-21-15...</td>\n      <td>NaN</td>\n      <td>R2|R2|R12|R25|R35|R39|R46|</td>\n      <td>A</td>\n      <td>NaN</td>\n    </tr>\n  </tbody>\n</table>\n</div>"
     },
     "execution_count": 12,
     "metadata": {},
     "output_type": "execute_result"
    }
   ],
   "source": [
    "# replace molecules whose names are just numbers with nan\n",
    "df[\"name\"] = df[\"name\"].apply(lambda x: re.sub(\"^[0-9]+\", \"nan\", str(x)))\n",
    "df.head(20)"
   ]
  },
  {
   "cell_type": "code",
   "execution_count": 13,
   "metadata": {
    "id": "KytRUeeUMwla",
    "ExecuteTime": {
     "start_time": "2023-06-02T11:02:54.118775Z",
     "end_time": "2023-06-02T11:02:54.128232Z"
    }
   },
   "outputs": [
    {
     "data": {
      "text/plain": "       NO. name                                         IUPAC_name  \\\n9       10  nan  5-[(7,8-dihydroxy-2-methyl-4,4a,6,7,8,8a-hexah...   \n15      16  nan           n-phenyl-4,5-dihydro-1h-imidazol-2-amine   \n20      21  nan                                                NaN   \n21      22  nan                                                NaN   \n55      56  nan  8-(3-oxocyclopentyl)-1,3-dipropyl-7h-purine-2,...   \n...    ...  ...                                                ...   \n7696  7697  nan                                                NaN   \n7700  7701  nan                                                NaN   \n7701  7702  nan                                                NaN   \n7705  7706  nan                                                NaN   \n7715  7716  nan                                                NaN   \n\n                                                 SMILES       CID  logBB  \\\n9     COc1cc(C2c3cc4c(cc3C(OC3OC5COC(C)OC5C(O)C3O)C3...    3310.0  -2.00   \n15                                  c1ccc(NC2=NCCN2)cc1  137235.0  -1.89   \n20     CN1Cc2c(-c3noc(C(C)(O)O)n3)ncn2-c2cccc(Cl)c2C1=O       NaN  -1.82   \n21    CN1Cc2c(-c3noc([C@](C)(O)CO)n3)ncn2-c2cccc(Cl)...       NaN  -1.82   \n55          CCCn1c(=O)c2[nH]c(C3CCC(=O)C3)nc2n(CCC)c1=O  131584.0  -1.40   \n...                                                 ...       ...    ...   \n7696  O=c1[nH]c2ccccc2n1CCCN1CCC(Nn2c(=O)[nH]c3cc(Cl...       NaN    NaN   \n7700  OC[C@@H]1O[C@@H](OC[C@@H]2O[C@@H](O[C@]3(CO)O[...       NaN    NaN   \n7701  OC[C@@H]1O[C@@H](O[C@@H]2[C@H](CO)O[C@@](O)(CO...       NaN    NaN   \n7705            ON=Cc1cc[n+](COC[n+]2ccc(/C=N/O)cc2)cc1       NaN    NaN   \n7715  Oc1ccc2c3c1O[C@@H]1[C@@H](O)CC[C@]4(O)[C@@H](C...       NaN    NaN   \n\n     label                                              Inchi  threshold  \\\n9        0  InChI=1S/C29H32O13/c1-11-36-9-20-27(40-11)24(3...        NaN   \n15       0  InChI=1S/C9H11N3/c1-2-4-8(5-3-1)12-9-10-6-7-11...        NaN   \n20       0  InChI=1S/C16H14ClN5O4/c1-16(24,25)15-19-13(20-...        NaN   \n21       0  InChI=1S/C17H16ClN5O4/c1-17(26,7-24)16-20-14(2...        NaN   \n55       0  InChI=1S/C16H22N4O3/c1-3-7-19-14-12(15(22)20(8...        NaN   \n...    ...                                                ...        ...   \n7696     1  InChI=1S/C22H25ClN6O2/c23-15-6-7-20-18(14-15)2...        NaN   \n7700     0  InChI=1S/C18H32O16/c19-1-5-8(22)11(25)13(27)16...        NaN   \n7701     0  InChI=1S/C12H22O11/c13-1-4-6(16)7(17)8(18)11(2...        NaN   \n7705     0  InChI=1S/C14H14N4O3/c19-15-9-13-1-5-17(6-2-13)...        NaN   \n7715     1  InChI=1S/C21H27NO4/c23-14-5-4-13-10-16-21(25)7...        NaN   \n\n                              reference group comments  \n9     R2|R2|R8|R12|R21|R25|R35|R40|R47|     A      NaN  \n15         R2|R2|R8|R25|R46|R47|R4|R40|     A      NaN  \n20                                 R35|     A      NaN  \n21                                 R48|     A      NaN  \n55            R2|R2|R4|R27|R40|R43|R47|     A      NaN  \n...                                 ...   ...      ...  \n7696                               R27|     C      NaN  \n7700                               R27|     C      NaN  \n7701                               R27|     C      NaN  \n7705                               R27|     C      NaN  \n7715                               R27|     C      NaN  \n\n[1279 rows x 12 columns]",
      "text/html": "<div>\n<style scoped>\n    .dataframe tbody tr th:only-of-type {\n        vertical-align: middle;\n    }\n\n    .dataframe tbody tr th {\n        vertical-align: top;\n    }\n\n    .dataframe thead th {\n        text-align: right;\n    }\n</style>\n<table border=\"1\" class=\"dataframe\">\n  <thead>\n    <tr style=\"text-align: right;\">\n      <th></th>\n      <th>NO.</th>\n      <th>name</th>\n      <th>IUPAC_name</th>\n      <th>SMILES</th>\n      <th>CID</th>\n      <th>logBB</th>\n      <th>label</th>\n      <th>Inchi</th>\n      <th>threshold</th>\n      <th>reference</th>\n      <th>group</th>\n      <th>comments</th>\n    </tr>\n  </thead>\n  <tbody>\n    <tr>\n      <th>9</th>\n      <td>10</td>\n      <td>nan</td>\n      <td>5-[(7,8-dihydroxy-2-methyl-4,4a,6,7,8,8a-hexah...</td>\n      <td>COc1cc(C2c3cc4c(cc3C(OC3OC5COC(C)OC5C(O)C3O)C3...</td>\n      <td>3310.0</td>\n      <td>-2.00</td>\n      <td>0</td>\n      <td>InChI=1S/C29H32O13/c1-11-36-9-20-27(40-11)24(3...</td>\n      <td>NaN</td>\n      <td>R2|R2|R8|R12|R21|R25|R35|R40|R47|</td>\n      <td>A</td>\n      <td>NaN</td>\n    </tr>\n    <tr>\n      <th>15</th>\n      <td>16</td>\n      <td>nan</td>\n      <td>n-phenyl-4,5-dihydro-1h-imidazol-2-amine</td>\n      <td>c1ccc(NC2=NCCN2)cc1</td>\n      <td>137235.0</td>\n      <td>-1.89</td>\n      <td>0</td>\n      <td>InChI=1S/C9H11N3/c1-2-4-8(5-3-1)12-9-10-6-7-11...</td>\n      <td>NaN</td>\n      <td>R2|R2|R8|R25|R46|R47|R4|R40|</td>\n      <td>A</td>\n      <td>NaN</td>\n    </tr>\n    <tr>\n      <th>20</th>\n      <td>21</td>\n      <td>nan</td>\n      <td>NaN</td>\n      <td>CN1Cc2c(-c3noc(C(C)(O)O)n3)ncn2-c2cccc(Cl)c2C1=O</td>\n      <td>NaN</td>\n      <td>-1.82</td>\n      <td>0</td>\n      <td>InChI=1S/C16H14ClN5O4/c1-16(24,25)15-19-13(20-...</td>\n      <td>NaN</td>\n      <td>R35|</td>\n      <td>A</td>\n      <td>NaN</td>\n    </tr>\n    <tr>\n      <th>21</th>\n      <td>22</td>\n      <td>nan</td>\n      <td>NaN</td>\n      <td>CN1Cc2c(-c3noc([C@](C)(O)CO)n3)ncn2-c2cccc(Cl)...</td>\n      <td>NaN</td>\n      <td>-1.82</td>\n      <td>0</td>\n      <td>InChI=1S/C17H16ClN5O4/c1-17(26,7-24)16-20-14(2...</td>\n      <td>NaN</td>\n      <td>R48|</td>\n      <td>A</td>\n      <td>NaN</td>\n    </tr>\n    <tr>\n      <th>55</th>\n      <td>56</td>\n      <td>nan</td>\n      <td>8-(3-oxocyclopentyl)-1,3-dipropyl-7h-purine-2,...</td>\n      <td>CCCn1c(=O)c2[nH]c(C3CCC(=O)C3)nc2n(CCC)c1=O</td>\n      <td>131584.0</td>\n      <td>-1.40</td>\n      <td>0</td>\n      <td>InChI=1S/C16H22N4O3/c1-3-7-19-14-12(15(22)20(8...</td>\n      <td>NaN</td>\n      <td>R2|R2|R4|R27|R40|R43|R47|</td>\n      <td>A</td>\n      <td>NaN</td>\n    </tr>\n    <tr>\n      <th>...</th>\n      <td>...</td>\n      <td>...</td>\n      <td>...</td>\n      <td>...</td>\n      <td>...</td>\n      <td>...</td>\n      <td>...</td>\n      <td>...</td>\n      <td>...</td>\n      <td>...</td>\n      <td>...</td>\n      <td>...</td>\n    </tr>\n    <tr>\n      <th>7696</th>\n      <td>7697</td>\n      <td>nan</td>\n      <td>NaN</td>\n      <td>O=c1[nH]c2ccccc2n1CCCN1CCC(Nn2c(=O)[nH]c3cc(Cl...</td>\n      <td>NaN</td>\n      <td>NaN</td>\n      <td>1</td>\n      <td>InChI=1S/C22H25ClN6O2/c23-15-6-7-20-18(14-15)2...</td>\n      <td>NaN</td>\n      <td>R27|</td>\n      <td>C</td>\n      <td>NaN</td>\n    </tr>\n    <tr>\n      <th>7700</th>\n      <td>7701</td>\n      <td>nan</td>\n      <td>NaN</td>\n      <td>OC[C@@H]1O[C@@H](OC[C@@H]2O[C@@H](O[C@]3(CO)O[...</td>\n      <td>NaN</td>\n      <td>NaN</td>\n      <td>0</td>\n      <td>InChI=1S/C18H32O16/c19-1-5-8(22)11(25)13(27)16...</td>\n      <td>NaN</td>\n      <td>R27|</td>\n      <td>C</td>\n      <td>NaN</td>\n    </tr>\n    <tr>\n      <th>7701</th>\n      <td>7702</td>\n      <td>nan</td>\n      <td>NaN</td>\n      <td>OC[C@@H]1O[C@@H](O[C@@H]2[C@H](CO)O[C@@](O)(CO...</td>\n      <td>NaN</td>\n      <td>NaN</td>\n      <td>0</td>\n      <td>InChI=1S/C12H22O11/c13-1-4-6(16)7(17)8(18)11(2...</td>\n      <td>NaN</td>\n      <td>R27|</td>\n      <td>C</td>\n      <td>NaN</td>\n    </tr>\n    <tr>\n      <th>7705</th>\n      <td>7706</td>\n      <td>nan</td>\n      <td>NaN</td>\n      <td>ON=Cc1cc[n+](COC[n+]2ccc(/C=N/O)cc2)cc1</td>\n      <td>NaN</td>\n      <td>NaN</td>\n      <td>0</td>\n      <td>InChI=1S/C14H14N4O3/c19-15-9-13-1-5-17(6-2-13)...</td>\n      <td>NaN</td>\n      <td>R27|</td>\n      <td>C</td>\n      <td>NaN</td>\n    </tr>\n    <tr>\n      <th>7715</th>\n      <td>7716</td>\n      <td>nan</td>\n      <td>NaN</td>\n      <td>Oc1ccc2c3c1O[C@@H]1[C@@H](O)CC[C@]4(O)[C@@H](C...</td>\n      <td>NaN</td>\n      <td>NaN</td>\n      <td>1</td>\n      <td>InChI=1S/C21H27NO4/c23-14-5-4-13-10-16-21(25)7...</td>\n      <td>NaN</td>\n      <td>R27|</td>\n      <td>C</td>\n      <td>NaN</td>\n    </tr>\n  </tbody>\n</table>\n<p>1279 rows × 12 columns</p>\n</div>"
     },
     "execution_count": 13,
     "metadata": {},
     "output_type": "execute_result"
    }
   ],
   "source": [
    "df[df[\"name\"] == \"nan\"]"
   ]
  },
  {
   "cell_type": "code",
   "execution_count": 14,
   "metadata": {
    "id": "D_l5FqZeMwlb",
    "ExecuteTime": {
     "start_time": "2023-06-02T11:02:57.912107Z",
     "end_time": "2023-06-02T11:02:57.938743Z"
    }
   },
   "outputs": [
    {
     "name": "stdout",
     "output_type": "stream",
     "text": [
      "number of molecules with nan name: 1279\n"
     ]
    }
   ],
   "source": [
    "num_nan=sum(df[\"name\"] == \"nan\")\n",
    "print(f\"number of molecules with nan name: {num_nan}\")"
   ]
  },
  {
   "cell_type": "code",
   "execution_count": 15,
   "metadata": {
    "id": "9rLeFLjwMwlc",
    "ExecuteTime": {
     "start_time": "2023-06-02T11:02:59.385506Z",
     "end_time": "2023-06-02T11:02:59.399945Z"
    }
   },
   "outputs": [
    {
     "name": "stdout",
     "output_type": "stream",
     "text": [
      "df shape before nan molecule removal: (7807, 12)\n",
      "df shape after nan molecule removal: (6528, 12)\n"
     ]
    }
   ],
   "source": [
    "print(f\"df shape before nan molecule removal: {df.shape}\")\n",
    "df = df[df[\"name\"] != \"nan\"]\n",
    "print(f\"df shape after nan molecule removal: {df.shape}\")"
   ]
  },
  {
   "cell_type": "code",
   "execution_count": 16,
   "metadata": {
    "id": "fjv0AOuLMwld",
    "ExecuteTime": {
     "start_time": "2023-06-02T11:03:05.103255Z",
     "end_time": "2023-06-02T11:03:05.154939Z"
    }
   },
   "outputs": [
    {
     "data": {
      "text/plain": "    NO.                                               name  \\\n0     1                                     sulphasalazine   \n1     2                                         moxalactam   \n2     3                                         clioquinol   \n3     4                        bbcpd11cimetidineanalogyg13   \n4     5                                      schembl614298   \n5     6                                           uk240455   \n6     7                               morphine6glucuronide   \n7     8                                     nitrofurantoin   \n8     9                                            l701324   \n10   11                                          icotidine   \n11   12                                           ro640802   \n12   13                                        temelastine   \n13   14  disodium6r7s742amino1carboxylato2oxoethylidene...   \n14   15                                          cefotetan   \n16   17  nanbromo3methylpyridin2ylbutylamino56methylpyr...   \n17   18                                          m2l663581   \n18   19                                          ritonavir   \n19   20                             bishydroxylatedl663581   \n22   23                                         raloxifene   \n23   24                                        telmesteine   \n\n                                           IUPAC_name  \\\n0   2-hydroxy-5-[[4-(pyridin-2-ylsulfamoyl)phenyl]...   \n1   7-[[2-carboxy-2-(4-hydroxyphenyl)acetyl]amino]...   \n2                        5-chloro-7-iodoquinolin-8-ol   \n3   2-[2-[(3-bromopyridin-2-yl)methylsulfanyl]ethy...   \n4   (2s,3s,4s,5r)-6-[[(4r,4ar,7s,7ar,12bs)-7-hydro...   \n5   n-(6,7-dichloro-2,3-dioxo-1,4-dihydroquinoxali...   \n6   (2s,3s,4s,5r)-6-[[(4r,4ar,7s,7ar,12bs)-9-hydro...   \n7   1-[(e)-(5-nitrofuran-2-yl)methylideneamino]imi...   \n8   7-chloro-4-hydroxy-3-(3-phenoxyphenyl)-1h-quin...   \n10  2-[4-(3-methoxypyridin-2-yl)butylamino]-5-[(6-...   \n11                                                NaN   \n12  2-[4-(5-bromo-3-methylpyridin-2-yl)butylamino]...   \n13  7-[[4-(2-amino-1-carboxy-2-oxoethylidene)-1,3-...   \n14  disodium;(6r,7s)-7-[[4-(2-amino-1-carboxylato-...   \n16  2-[4-(5-bromo-3-methylpyridin-2-yl)butylamino]...   \n17  7-chloro-3-[5-(1,2-dihydroxypropan-2-yl)-1,2,4...   \n18                                                NaN   \n19                                                NaN   \n22  [6-hydroxy-2-(4-hydroxyphenyl)-1-benzothiophen...   \n23  3-ethoxycarbonyl-1,3-thiazolidine-4-carboxylic...   \n\n                                               SMILES         CID  logBB  \\\n0    O=C(O)c1cc(N=Nc2ccc(S(=O)(=O)Nc3ccccn3)cc2)ccc1O      5339.0  -2.69   \n1   COC1(NC(=O)C(C(=O)O)c2ccc(O)cc2)C(=O)N2C(C(=O)...      3889.0  -2.52   \n2                              Oc1c(I)cc(Cl)c2cccnc12      2788.0  -2.40   \n3                          CCNC(=NCCSCc1ncccc1Br)NC#N  14022517.0  -2.15   \n4   CN1CC[C@]23c4c5ccc(OC6O[C@H](C(=O)O)[C@@H](O)[...  18595497.0  -2.15   \n5   CS(=O)(=O)N(CCO)c1c(Cl)c(Cl)cc2[nH]c(=O)c(=O)[...   9842188.0  -2.15   \n6   CN1CC[C@]23c4c5ccc(O)c4O[C@H]2[C@@H](OC2O[C@H]...   9847115.0  -2.09   \n7           O=C1CN(/N=C/c2ccc([N+](=O)[O-])o2)C(=O)N1   5353830.0  -2.09   \n8      O=c1[nH]c2cc(Cl)ccc2c(O)c1-c1cccc(Oc2ccccc2)c1  54682505.0  -2.03   \n10       COc1cccnc1CCCCNc1ncc(Cc2ccc(C)nc2)c(=O)[nH]1     72108.0  -2.00   \n11     CCC(CC)O[C@@H]1C=C(C(=O)O)C[C@H](N)[C@@H]1NCOC         NaN  -1.96   \n12      Cc1ccc(Cc2cnc(NCCCCc3ncc(Br)cc3C)[nH]c2=O)cn1     55482.0  -1.90   \n13  COC1(NC(=O)C2SC(=C(C(N)=O)C(=O)O)S2)C(=O)N2C(C...   4630412.0  -1.89   \n14  CO[C@@]1(NC(=O)C2SC(=C(C(N)=O)C(=O)O)S2)C(=O)N...     53025.0  -1.89   \n16         Cc1ccc(CC2CNC(NCCCCc3ncc(Br)cc3C)NC2=O)cn1  74041479.0  -1.88   \n17  CN1Cc2c(-c3noc(C(C)(O)CO)n3)ncn2-c2cccc(Cl)c2C1=O  10091748.0  -1.82   \n18  CC(C)c1nc(CN(C)C(=O)N[C@@H](C)C(=O)C[C@@H](Cc2...         NaN  -1.82   \n19  CN1Cc2c(-c3noc(C(C)(CO)CO)n3)ncn2-c2cccc(Cl)c2...         NaN  -1.82   \n22  O=C(c1ccc(OCCN2CCCCC2)cc1)c1c(-c2ccc(O)cc2)sc2...      5035.0  -1.81   \n23                              CCOC(=O)N1CSCC1C(=O)O  11615393.0  -1.72   \n\n   label                                              Inchi  threshold  \\\n0      0  InChI=1S/C18H14N4O5S/c23-16-9-6-13(11-15(16)18...        NaN   \n1      0  InChI=1S/C20H20N6O9S/c1-25-19(22-23-24-25)36-8...        NaN   \n2      0  InChI=1S/C9H5ClINO/c10-6-4-7(11)9(13)8-5(6)2-1...        NaN   \n3      0  InChI=1S/C12H16BrN5S/c1-2-15-12(18-9-14)17-6-7...        NaN   \n4      0  InChI=1S/C23H27NO9/c1-24-7-6-23-10-3-4-12(25)2...        NaN   \n5      0  InChI=1S/C11H11Cl2N3O5S/c1-22(20,21)16(2-3-17)...        NaN   \n6      0  InChI=1S/C23H27NO9/c1-24-7-6-23-10-3-5-13(31-2...        NaN   \n7      0  InChI=1S/C8H6N4O5/c13-6-4-11(8(14)10-6)9-3-5-1...        NaN   \n8      0  InChI=1S/C21H14ClNO3/c22-14-9-10-17-18(12-14)2...        NaN   \n10     0  InChI=1S/C21H25N5O2/c1-15-8-9-16(13-24-15)12-1...        NaN   \n11     0  InChI=1S/C14H26N2O4/c1-4-10(5-2)20-12-7-9(14(1...        NaN   \n12     0  InChI=1S/C21H24BrN5O/c1-14-9-18(22)13-25-19(14...        NaN   \n13     0  InChI=1S/C17H17N7O8S4/c1-23-16(20-21-22-23)34-...        NaN   \n14     0  InChI=1S/C17H17N7O8S4/c1-23-16(20-21-22-23)34-...        NaN   \n16     0  InChI=1S/C21H28BrN5O/c1-14-9-18(22)13-25-19(14...        NaN   \n17     0  InChI=1S/C17H16ClN5O4/c1-17(26,7-24)16-20-14(2...        NaN   \n18     0  InChI=1S/C36H45N5O5S2/c1-24(2)34-39-29(22-47-3...        NaN   \n19     0  InChI=1S/C18H18ClN5O4/c1-18(7-25,8-26)17-21-15...        NaN   \n22     0  InChI=1S/C28H27NO4S/c30-21-8-4-20(5-9-21)28-26...        NaN   \n23     0  InChI=1S/C7H11NO4S/c1-2-12-7(11)8-4-13-3-5(8)6...        NaN   \n\n                                            reference group comments  \n0                                      R2|R2|R25|R46|     A      NaN  \n1                                                R25|     A      NaN  \n2                                        R18|R26|R27|     A      NaN  \n3   R2|R2|R8|R40|R2|R2|R2|R2|R18|R21|R25|R25|R26|R...     A      NaN  \n4                                                R25|     A      NaN  \n5                                        R18|R26|R27|     A      NaN  \n6                                                R25|     A      NaN  \n7                                      R2|R2|R25|R46|     A      NaN  \n8                                        R18|R26|R27|     A      NaN  \n10  R2|R2|R2|R2|R5|R8|R11|R12|R18|R21|R25|R26|R27|...     A      NaN  \n11                                       R18|R26|R27|     A      NaN  \n12  R5|R2|R2|R2|R2|R8|R11|R12|R18|R21|R25|R26|R27|...     A      NaN  \n13             R2|R2|R12|R25|R27|R35|R47|R27|R25|R40|     A      NaN  \n14                                    R8|R21|R21|R39|     A      NaN  \n16                                               R35|     A      NaN  \n17  R2|R2|R8|R40|R3|R4|R12|R21|R25|R27|R36|R38|R41...     A      NaN  \n18                                       R18|R26|R27|     A      NaN  \n19                         R2|R2|R12|R25|R35|R39|R46|     A      NaN  \n22                                       R18|R26|R27|     A      NaN  \n23                                       R18|R26|R27|     A      NaN  ",
      "text/html": "<div>\n<style scoped>\n    .dataframe tbody tr th:only-of-type {\n        vertical-align: middle;\n    }\n\n    .dataframe tbody tr th {\n        vertical-align: top;\n    }\n\n    .dataframe thead th {\n        text-align: right;\n    }\n</style>\n<table border=\"1\" class=\"dataframe\">\n  <thead>\n    <tr style=\"text-align: right;\">\n      <th></th>\n      <th>NO.</th>\n      <th>name</th>\n      <th>IUPAC_name</th>\n      <th>SMILES</th>\n      <th>CID</th>\n      <th>logBB</th>\n      <th>label</th>\n      <th>Inchi</th>\n      <th>threshold</th>\n      <th>reference</th>\n      <th>group</th>\n      <th>comments</th>\n    </tr>\n  </thead>\n  <tbody>\n    <tr>\n      <th>0</th>\n      <td>1</td>\n      <td>sulphasalazine</td>\n      <td>2-hydroxy-5-[[4-(pyridin-2-ylsulfamoyl)phenyl]...</td>\n      <td>O=C(O)c1cc(N=Nc2ccc(S(=O)(=O)Nc3ccccn3)cc2)ccc1O</td>\n      <td>5339.0</td>\n      <td>-2.69</td>\n      <td>0</td>\n      <td>InChI=1S/C18H14N4O5S/c23-16-9-6-13(11-15(16)18...</td>\n      <td>NaN</td>\n      <td>R2|R2|R25|R46|</td>\n      <td>A</td>\n      <td>NaN</td>\n    </tr>\n    <tr>\n      <th>1</th>\n      <td>2</td>\n      <td>moxalactam</td>\n      <td>7-[[2-carboxy-2-(4-hydroxyphenyl)acetyl]amino]...</td>\n      <td>COC1(NC(=O)C(C(=O)O)c2ccc(O)cc2)C(=O)N2C(C(=O)...</td>\n      <td>3889.0</td>\n      <td>-2.52</td>\n      <td>0</td>\n      <td>InChI=1S/C20H20N6O9S/c1-25-19(22-23-24-25)36-8...</td>\n      <td>NaN</td>\n      <td>R25|</td>\n      <td>A</td>\n      <td>NaN</td>\n    </tr>\n    <tr>\n      <th>2</th>\n      <td>3</td>\n      <td>clioquinol</td>\n      <td>5-chloro-7-iodoquinolin-8-ol</td>\n      <td>Oc1c(I)cc(Cl)c2cccnc12</td>\n      <td>2788.0</td>\n      <td>-2.40</td>\n      <td>0</td>\n      <td>InChI=1S/C9H5ClINO/c10-6-4-7(11)9(13)8-5(6)2-1...</td>\n      <td>NaN</td>\n      <td>R18|R26|R27|</td>\n      <td>A</td>\n      <td>NaN</td>\n    </tr>\n    <tr>\n      <th>3</th>\n      <td>4</td>\n      <td>bbcpd11cimetidineanalogyg13</td>\n      <td>2-[2-[(3-bromopyridin-2-yl)methylsulfanyl]ethy...</td>\n      <td>CCNC(=NCCSCc1ncccc1Br)NC#N</td>\n      <td>14022517.0</td>\n      <td>-2.15</td>\n      <td>0</td>\n      <td>InChI=1S/C12H16BrN5S/c1-2-15-12(18-9-14)17-6-7...</td>\n      <td>NaN</td>\n      <td>R2|R2|R8|R40|R2|R2|R2|R2|R18|R21|R25|R25|R26|R...</td>\n      <td>A</td>\n      <td>NaN</td>\n    </tr>\n    <tr>\n      <th>4</th>\n      <td>5</td>\n      <td>schembl614298</td>\n      <td>(2s,3s,4s,5r)-6-[[(4r,4ar,7s,7ar,12bs)-7-hydro...</td>\n      <td>CN1CC[C@]23c4c5ccc(OC6O[C@H](C(=O)O)[C@@H](O)[...</td>\n      <td>18595497.0</td>\n      <td>-2.15</td>\n      <td>0</td>\n      <td>InChI=1S/C23H27NO9/c1-24-7-6-23-10-3-4-12(25)2...</td>\n      <td>NaN</td>\n      <td>R25|</td>\n      <td>A</td>\n      <td>NaN</td>\n    </tr>\n    <tr>\n      <th>5</th>\n      <td>6</td>\n      <td>uk240455</td>\n      <td>n-(6,7-dichloro-2,3-dioxo-1,4-dihydroquinoxali...</td>\n      <td>CS(=O)(=O)N(CCO)c1c(Cl)c(Cl)cc2[nH]c(=O)c(=O)[...</td>\n      <td>9842188.0</td>\n      <td>-2.15</td>\n      <td>0</td>\n      <td>InChI=1S/C11H11Cl2N3O5S/c1-22(20,21)16(2-3-17)...</td>\n      <td>NaN</td>\n      <td>R18|R26|R27|</td>\n      <td>A</td>\n      <td>NaN</td>\n    </tr>\n    <tr>\n      <th>6</th>\n      <td>7</td>\n      <td>morphine6glucuronide</td>\n      <td>(2s,3s,4s,5r)-6-[[(4r,4ar,7s,7ar,12bs)-9-hydro...</td>\n      <td>CN1CC[C@]23c4c5ccc(O)c4O[C@H]2[C@@H](OC2O[C@H]...</td>\n      <td>9847115.0</td>\n      <td>-2.09</td>\n      <td>0</td>\n      <td>InChI=1S/C23H27NO9/c1-24-7-6-23-10-3-5-13(31-2...</td>\n      <td>NaN</td>\n      <td>R25|</td>\n      <td>A</td>\n      <td>NaN</td>\n    </tr>\n    <tr>\n      <th>7</th>\n      <td>8</td>\n      <td>nitrofurantoin</td>\n      <td>1-[(e)-(5-nitrofuran-2-yl)methylideneamino]imi...</td>\n      <td>O=C1CN(/N=C/c2ccc([N+](=O)[O-])o2)C(=O)N1</td>\n      <td>5353830.0</td>\n      <td>-2.09</td>\n      <td>0</td>\n      <td>InChI=1S/C8H6N4O5/c13-6-4-11(8(14)10-6)9-3-5-1...</td>\n      <td>NaN</td>\n      <td>R2|R2|R25|R46|</td>\n      <td>A</td>\n      <td>NaN</td>\n    </tr>\n    <tr>\n      <th>8</th>\n      <td>9</td>\n      <td>l701324</td>\n      <td>7-chloro-4-hydroxy-3-(3-phenoxyphenyl)-1h-quin...</td>\n      <td>O=c1[nH]c2cc(Cl)ccc2c(O)c1-c1cccc(Oc2ccccc2)c1</td>\n      <td>54682505.0</td>\n      <td>-2.03</td>\n      <td>0</td>\n      <td>InChI=1S/C21H14ClNO3/c22-14-9-10-17-18(12-14)2...</td>\n      <td>NaN</td>\n      <td>R18|R26|R27|</td>\n      <td>A</td>\n      <td>NaN</td>\n    </tr>\n    <tr>\n      <th>10</th>\n      <td>11</td>\n      <td>icotidine</td>\n      <td>2-[4-(3-methoxypyridin-2-yl)butylamino]-5-[(6-...</td>\n      <td>COc1cccnc1CCCCNc1ncc(Cc2ccc(C)nc2)c(=O)[nH]1</td>\n      <td>72108.0</td>\n      <td>-2.00</td>\n      <td>0</td>\n      <td>InChI=1S/C21H25N5O2/c1-15-8-9-16(13-24-15)12-1...</td>\n      <td>NaN</td>\n      <td>R2|R2|R2|R2|R5|R8|R11|R12|R18|R21|R25|R26|R27|...</td>\n      <td>A</td>\n      <td>NaN</td>\n    </tr>\n    <tr>\n      <th>11</th>\n      <td>12</td>\n      <td>ro640802</td>\n      <td>NaN</td>\n      <td>CCC(CC)O[C@@H]1C=C(C(=O)O)C[C@H](N)[C@@H]1NCOC</td>\n      <td>NaN</td>\n      <td>-1.96</td>\n      <td>0</td>\n      <td>InChI=1S/C14H26N2O4/c1-4-10(5-2)20-12-7-9(14(1...</td>\n      <td>NaN</td>\n      <td>R18|R26|R27|</td>\n      <td>A</td>\n      <td>NaN</td>\n    </tr>\n    <tr>\n      <th>12</th>\n      <td>13</td>\n      <td>temelastine</td>\n      <td>2-[4-(5-bromo-3-methylpyridin-2-yl)butylamino]...</td>\n      <td>Cc1ccc(Cc2cnc(NCCCCc3ncc(Br)cc3C)[nH]c2=O)cn1</td>\n      <td>55482.0</td>\n      <td>-1.90</td>\n      <td>0</td>\n      <td>InChI=1S/C21H24BrN5O/c1-14-9-18(22)13-25-19(14...</td>\n      <td>NaN</td>\n      <td>R5|R2|R2|R2|R2|R8|R11|R12|R18|R21|R25|R26|R27|...</td>\n      <td>A</td>\n      <td>NaN</td>\n    </tr>\n    <tr>\n      <th>13</th>\n      <td>14</td>\n      <td>disodium6r7s742amino1carboxylato2oxoethylidene...</td>\n      <td>7-[[4-(2-amino-1-carboxy-2-oxoethylidene)-1,3-...</td>\n      <td>COC1(NC(=O)C2SC(=C(C(N)=O)C(=O)O)S2)C(=O)N2C(C...</td>\n      <td>4630412.0</td>\n      <td>-1.89</td>\n      <td>0</td>\n      <td>InChI=1S/C17H17N7O8S4/c1-23-16(20-21-22-23)34-...</td>\n      <td>NaN</td>\n      <td>R2|R2|R12|R25|R27|R35|R47|R27|R25|R40|</td>\n      <td>A</td>\n      <td>NaN</td>\n    </tr>\n    <tr>\n      <th>14</th>\n      <td>15</td>\n      <td>cefotetan</td>\n      <td>disodium;(6r,7s)-7-[[4-(2-amino-1-carboxylato-...</td>\n      <td>CO[C@@]1(NC(=O)C2SC(=C(C(N)=O)C(=O)O)S2)C(=O)N...</td>\n      <td>53025.0</td>\n      <td>-1.89</td>\n      <td>0</td>\n      <td>InChI=1S/C17H17N7O8S4/c1-23-16(20-21-22-23)34-...</td>\n      <td>NaN</td>\n      <td>R8|R21|R21|R39|</td>\n      <td>A</td>\n      <td>NaN</td>\n    </tr>\n    <tr>\n      <th>16</th>\n      <td>17</td>\n      <td>nanbromo3methylpyridin2ylbutylamino56methylpyr...</td>\n      <td>2-[4-(5-bromo-3-methylpyridin-2-yl)butylamino]...</td>\n      <td>Cc1ccc(CC2CNC(NCCCCc3ncc(Br)cc3C)NC2=O)cn1</td>\n      <td>74041479.0</td>\n      <td>-1.88</td>\n      <td>0</td>\n      <td>InChI=1S/C21H28BrN5O/c1-14-9-18(22)13-25-19(14...</td>\n      <td>NaN</td>\n      <td>R35|</td>\n      <td>A</td>\n      <td>NaN</td>\n    </tr>\n    <tr>\n      <th>17</th>\n      <td>18</td>\n      <td>m2l663581</td>\n      <td>7-chloro-3-[5-(1,2-dihydroxypropan-2-yl)-1,2,4...</td>\n      <td>CN1Cc2c(-c3noc(C(C)(O)CO)n3)ncn2-c2cccc(Cl)c2C1=O</td>\n      <td>10091748.0</td>\n      <td>-1.82</td>\n      <td>0</td>\n      <td>InChI=1S/C17H16ClN5O4/c1-17(26,7-24)16-20-14(2...</td>\n      <td>NaN</td>\n      <td>R2|R2|R8|R40|R3|R4|R12|R21|R25|R27|R36|R38|R41...</td>\n      <td>A</td>\n      <td>NaN</td>\n    </tr>\n    <tr>\n      <th>18</th>\n      <td>19</td>\n      <td>ritonavir</td>\n      <td>NaN</td>\n      <td>CC(C)c1nc(CN(C)C(=O)N[C@@H](C)C(=O)C[C@@H](Cc2...</td>\n      <td>NaN</td>\n      <td>-1.82</td>\n      <td>0</td>\n      <td>InChI=1S/C36H45N5O5S2/c1-24(2)34-39-29(22-47-3...</td>\n      <td>NaN</td>\n      <td>R18|R26|R27|</td>\n      <td>A</td>\n      <td>NaN</td>\n    </tr>\n    <tr>\n      <th>19</th>\n      <td>20</td>\n      <td>bishydroxylatedl663581</td>\n      <td>NaN</td>\n      <td>CN1Cc2c(-c3noc(C(C)(CO)CO)n3)ncn2-c2cccc(Cl)c2...</td>\n      <td>NaN</td>\n      <td>-1.82</td>\n      <td>0</td>\n      <td>InChI=1S/C18H18ClN5O4/c1-18(7-25,8-26)17-21-15...</td>\n      <td>NaN</td>\n      <td>R2|R2|R12|R25|R35|R39|R46|</td>\n      <td>A</td>\n      <td>NaN</td>\n    </tr>\n    <tr>\n      <th>22</th>\n      <td>23</td>\n      <td>raloxifene</td>\n      <td>[6-hydroxy-2-(4-hydroxyphenyl)-1-benzothiophen...</td>\n      <td>O=C(c1ccc(OCCN2CCCCC2)cc1)c1c(-c2ccc(O)cc2)sc2...</td>\n      <td>5035.0</td>\n      <td>-1.81</td>\n      <td>0</td>\n      <td>InChI=1S/C28H27NO4S/c30-21-8-4-20(5-9-21)28-26...</td>\n      <td>NaN</td>\n      <td>R18|R26|R27|</td>\n      <td>A</td>\n      <td>NaN</td>\n    </tr>\n    <tr>\n      <th>23</th>\n      <td>24</td>\n      <td>telmesteine</td>\n      <td>3-ethoxycarbonyl-1,3-thiazolidine-4-carboxylic...</td>\n      <td>CCOC(=O)N1CSCC1C(=O)O</td>\n      <td>11615393.0</td>\n      <td>-1.72</td>\n      <td>0</td>\n      <td>InChI=1S/C7H11NO4S/c1-2-12-7(11)8-4-13-3-5(8)6...</td>\n      <td>NaN</td>\n      <td>R18|R26|R27|</td>\n      <td>A</td>\n      <td>NaN</td>\n    </tr>\n  </tbody>\n</table>\n</div>"
     },
     "execution_count": 16,
     "metadata": {},
     "output_type": "execute_result"
    }
   ],
   "source": [
    "df.head(20)"
   ]
  },
  {
   "cell_type": "code",
   "execution_count": 17,
   "metadata": {
    "id": "m0OpsHQoMwle",
    "ExecuteTime": {
     "start_time": "2023-06-02T11:03:07.959422Z",
     "end_time": "2023-06-02T11:03:07.978730Z"
    }
   },
   "outputs": [
    {
     "data": {
      "text/plain": "(4832, 12)"
     },
     "execution_count": 17,
     "metadata": {},
     "output_type": "execute_result"
    }
   ],
   "source": [
    "df = df.drop_duplicates(subset=\"name\")\n",
    "df.shape"
   ]
  },
  {
   "cell_type": "code",
   "execution_count": 28,
   "metadata": {
    "id": "xZipJpcGMwlf",
    "ExecuteTime": {
     "start_time": "2023-06-02T11:12:47.526472Z",
     "end_time": "2023-06-02T11:12:47.571374Z"
    }
   },
   "outputs": [],
   "source": [
    "# make train-test split of data using name column as X data and label as y data\n",
    "X = df.name.values\n",
    "y = df.label.values\n",
    "X_train, X_test, y_train, y_test = train_test_split(X, y,  stratify=y, test_size=0.2, random_state=42)"
   ]
  },
  {
   "cell_type": "code",
   "execution_count": 29,
   "metadata": {
    "id": "U3vh9LylMwlg",
    "ExecuteTime": {
     "start_time": "2023-06-02T11:12:48.551774Z",
     "end_time": "2023-06-02T11:12:48.567002Z"
    }
   },
   "outputs": [
    {
     "data": {
      "text/plain": "array(['sulphasalazine', 'moxalactam', 'clioquinol', ..., 'ketotifen',\n       'milrinone', 'amrinone'], dtype=object)"
     },
     "execution_count": 29,
     "metadata": {},
     "output_type": "execute_result"
    }
   ],
   "source": [
    "df.name.values"
   ]
  },
  {
   "cell_type": "code",
   "execution_count": 30,
   "metadata": {
    "id": "nUd00tdrMwlh",
    "ExecuteTime": {
     "start_time": "2023-06-02T11:12:50.600798Z",
     "end_time": "2023-06-02T11:12:50.607496Z"
    }
   },
   "outputs": [],
   "source": [
    "df_train = pd.DataFrame(data={\"name\": X_train, \"label\": y_train})\n",
    "\n",
    "df_test = pd.DataFrame(data={\"name\": X_test, \"label\": y_test})"
   ]
  },
  {
   "cell_type": "markdown",
   "source": [
    "Mount your drive to colab so you can write the processed data there"
   ],
   "metadata": {
    "id": "kN-HQ1ApD68D"
   }
  },
  {
   "cell_type": "code",
   "source": [
    "# Do this only on colab\n",
    "# from google.colab import drive\n",
    "\n",
    "# drive.mount('/content/drive', force_remount=True)"
   ],
   "metadata": {
    "id": "2ZnSrf5CPkh0",
    "ExecuteTime": {
     "start_time": "2023-06-02T11:12:52.705428Z",
     "end_time": "2023-06-02T11:12:52.717855Z"
    }
   },
   "execution_count": 31,
   "outputs": []
  },
  {
   "cell_type": "code",
   "execution_count": 32,
   "metadata": {
    "id": "zsMw5OaXMwli",
    "ExecuteTime": {
     "start_time": "2023-06-02T11:12:53.142504Z",
     "end_time": "2023-06-02T11:12:53.142861Z"
    }
   },
   "outputs": [],
   "source": [
    "# save preprocessed data to your drive \n",
    "df_train.to_csv('../data/B3DB_cleaned_name_TRAIN_nb.csv', index=False)\n",
    "df_test.to_csv('../data/B3DB_cleaned_name_TEST_nb.csv', index=False)"
   ]
  },
  {
   "cell_type": "markdown",
   "source": [
    "Split and save dataset with SMILES separately"
   ],
   "metadata": {
    "id": "DzxfXmIGED-I"
   }
  },
  {
   "cell_type": "code",
   "execution_count": 33,
   "metadata": {
    "id": "9HZSXCYZMwlj",
    "ExecuteTime": {
     "start_time": "2023-06-02T11:12:55.792809Z",
     "end_time": "2023-06-02T11:12:55.805220Z"
    }
   },
   "outputs": [],
   "source": [
    "# repeat what was done above using name column but now for SMILES, and save the data :)\n",
    "X = df[\"SMILES\"].values\n",
    "y = df.label.values\n",
    "X_train, X_test, y_train, y_test = train_test_split(X, y, stratify=y, test_size=0.2, random_state=42)"
   ]
  },
  {
   "cell_type": "code",
   "execution_count": 34,
   "metadata": {
    "id": "1vVbBu8iMwll",
    "ExecuteTime": {
     "start_time": "2023-06-02T11:12:56.558347Z",
     "end_time": "2023-06-02T11:12:56.565223Z"
    }
   },
   "outputs": [],
   "source": [
    "df_train = pd.DataFrame(data={\"SMILES\": X_train, \"label\": y_train})\n",
    "\n",
    "df_test = pd.DataFrame(data={\"SMILES\": X_test, \"label\": y_test})\n",
    "\n",
    "df_train.to_csv(\"../data/B3DB_cleaned_SMILES_TRAIN_nb.csv\", index=False)\n",
    "df_test.to_csv(\"../data/B3DB_cleaned_SMILES_TEST_nb.csv\", index=False)"
   ]
  },
  {
   "cell_type": "code",
   "source": [],
   "metadata": {
    "id": "QugbC_1fNajU"
   },
   "execution_count": null,
   "outputs": []
  }
 ],
 "metadata": {
  "kernelspec": {
   "display_name": "Python 3",
   "language": "python",
   "name": "python3"
  },
  "language_info": {
   "codemirror_mode": {
    "name": "ipython",
    "version": 3
   },
   "file_extension": ".py",
   "mimetype": "text/x-python",
   "name": "python",
   "nbconvert_exporter": "python",
   "pygments_lexer": "ipython3",
   "version": "3.8.15"
  },
  "orig_nbformat": 4,
  "colab": {
   "provenance": [
    {
     "file_id": "1BKhKy5M8W7FDbm_WW-VxHXxedTDW1DCN",
     "timestamp": 1685608060077
    }
   ]
  }
 },
 "nbformat": 4,
 "nbformat_minor": 0
}
