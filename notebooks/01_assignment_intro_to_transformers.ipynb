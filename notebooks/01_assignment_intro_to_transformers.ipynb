{
 "cells": [
  {
   "attachments": {},
   "cell_type": "markdown",
   "metadata": {},
   "source": [
    "<a target=\"_blank\" href=\"https://colab.research.google.com/github/dataclair-ai/mlprague2023/blob/master/notebooks/01_assignment_intro_to_transformers.ipynb\">\n",
    "  <img src=\"https://colab.research.google.com/assets/colab-badge.svg\" alt=\"Open In Colab\"/>\n",
    "</a>"
   ]
  },
  {
   "cell_type": "markdown",
   "metadata": {
    "id": "Oo8r4BVGK0J3"
   },
   "source": [
    "### Transformer Encoder\n",
    "- easy to use HuggingFace models"
   ]
  },
  {
   "cell_type": "code",
   "execution_count": 1,
   "metadata": {
    "colab": {
     "base_uri": "https://localhost:8080/"
    },
    "executionInfo": {
     "elapsed": 23681,
     "status": "ok",
     "timestamp": 1685442024168,
     "user": {
      "displayName": "Aisling OSullivan",
      "userId": "03257794369304857684"
     },
     "user_tz": -120
    },
    "id": "bRroaBNvK2J-",
    "outputId": "4c7063c6-5b46-443c-f1d0-8cdee051b5f1",
    "ExecuteTime": {
     "start_time": "2023-06-02T10:11:57.586105Z",
     "end_time": "2023-06-02T10:11:59.006822Z"
    }
   },
   "outputs": [
    {
     "name": "stdout",
     "output_type": "stream",
     "text": [
      "Requirement already satisfied: transformers in /home/joe/anaconda3/envs/mlprague2023-nlp/lib/python3.10/site-packages (4.29.2)\r\n",
      "Requirement already satisfied: filelock in /home/joe/anaconda3/envs/mlprague2023-nlp/lib/python3.10/site-packages (from transformers) (3.12.0)\r\n",
      "Requirement already satisfied: huggingface-hub<1.0,>=0.14.1 in /home/joe/anaconda3/envs/mlprague2023-nlp/lib/python3.10/site-packages (from transformers) (0.15.1)\r\n",
      "Requirement already satisfied: numpy>=1.17 in /home/joe/anaconda3/envs/mlprague2023-nlp/lib/python3.10/site-packages (from transformers) (1.24.3)\r\n",
      "Requirement already satisfied: packaging>=20.0 in /home/joe/anaconda3/envs/mlprague2023-nlp/lib/python3.10/site-packages (from transformers) (23.1)\r\n",
      "Requirement already satisfied: pyyaml>=5.1 in /home/joe/anaconda3/envs/mlprague2023-nlp/lib/python3.10/site-packages (from transformers) (6.0)\r\n",
      "Requirement already satisfied: regex!=2019.12.17 in /home/joe/anaconda3/envs/mlprague2023-nlp/lib/python3.10/site-packages (from transformers) (2023.5.5)\r\n",
      "Requirement already satisfied: requests in /home/joe/anaconda3/envs/mlprague2023-nlp/lib/python3.10/site-packages (from transformers) (2.31.0)\r\n",
      "Requirement already satisfied: tokenizers!=0.11.3,<0.14,>=0.11.1 in /home/joe/anaconda3/envs/mlprague2023-nlp/lib/python3.10/site-packages (from transformers) (0.13.3)\r\n",
      "Requirement already satisfied: tqdm>=4.27 in /home/joe/anaconda3/envs/mlprague2023-nlp/lib/python3.10/site-packages (from transformers) (4.65.0)\r\n",
      "Requirement already satisfied: fsspec in /home/joe/anaconda3/envs/mlprague2023-nlp/lib/python3.10/site-packages (from huggingface-hub<1.0,>=0.14.1->transformers) (2023.5.0)\r\n",
      "Requirement already satisfied: typing-extensions>=3.7.4.3 in /home/joe/anaconda3/envs/mlprague2023-nlp/lib/python3.10/site-packages (from huggingface-hub<1.0,>=0.14.1->transformers) (4.6.3)\r\n",
      "Requirement already satisfied: charset-normalizer<4,>=2 in /home/joe/anaconda3/envs/mlprague2023-nlp/lib/python3.10/site-packages (from requests->transformers) (3.1.0)\r\n",
      "Requirement already satisfied: idna<4,>=2.5 in /home/joe/anaconda3/envs/mlprague2023-nlp/lib/python3.10/site-packages (from requests->transformers) (3.4)\r\n",
      "Requirement already satisfied: urllib3<3,>=1.21.1 in /home/joe/anaconda3/envs/mlprague2023-nlp/lib/python3.10/site-packages (from requests->transformers) (2.0.2)\r\n",
      "Requirement already satisfied: certifi>=2017.4.17 in /home/joe/anaconda3/envs/mlprague2023-nlp/lib/python3.10/site-packages (from requests->transformers) (2023.5.7)\r\n"
     ]
    }
   ],
   "source": [
    "!pip install transformers"
   ]
  },
  {
   "cell_type": "code",
   "execution_count": 1,
   "metadata": {
    "colab": {
     "base_uri": "https://localhost:8080/",
     "height": 254,
     "referenced_widgets": [
      "e72c31f3e7004648b2727a6c2c7e84d1",
      "14d3fc58b3684067a7c3c06f183732ca",
      "62af38748d6841acb92ed03939d9c624",
      "18659d34dd7d4715a90f2085661ff980",
      "a3805024597448b5b69159cbb957b6cb",
      "f44e7ab354924ab7a590da471011b95a",
      "f156b8c40bed482dab4314b909f2261a",
      "7cf18443173242eea99c65bcee4c8453",
      "c515189bd282421fafe12aadfcf63e0a",
      "9d2f5009f05d4b438114ada13eb3e802",
      "b92a6f9a8a114bb5ba1f25d9bcad97bb",
      "3b35f43c34654a3cb4a618709e370208",
      "a8fb74299ac64a0b88482ffb96c6b0b3",
      "dc4e06eeb4044222bca9bc3401af1d89",
      "b1d9a665a31344c89a59f745d741be76",
      "49ebff2cda0d45438783c42b4a9e96ce",
      "209a55128b45435c8936b491fdc81ffa",
      "131a6848c4e84ebaab601c06b7adf681",
      "c86059fb99a943caba6f1d98ca1eb070",
      "fdcc1895ce1e452798ec0c19ae91acb8",
      "babe9066d81d4af1a443bf434c6aecbb",
      "8f882144f1f647bfb7d2f7d7662d669f",
      "9b2f9f7d71214be7a83f45dc1540f695",
      "c89601b38ab3409c9f76721c9be6ac64",
      "556aea140b7749549158caef22fbab16",
      "e1589044106943f0b74da093df07ba3c",
      "73360fc78cfa4cec9a539cd579831e0e",
      "44745dfabd244324a884f11bd35562af",
      "ec1e5bd366e445299146775db9589cf9",
      "7c3ccd9ed6754b868990333b379f4d4e",
      "fe63f4b8e3f941289bd0d62de0851022",
      "f508dbf903de4f94a518cae7e1b5f48d",
      "80cc0725fcb046c497efb4cb3f34ffa4",
      "10ec414403754a5c8a159398aec7f44c",
      "a87f448224dd46daa39dbb600488abe3",
      "7487065166d749b98fedd495a53edc66",
      "155c773a060c4536b585f324aaa66147",
      "d950ff34898341a4b1ae3ed33b4525fe",
      "bafae34d907f4072bbf41b1c3482a74d",
      "2ccb1c725f7841c394d35955e21ff4cb",
      "2d624b61a3ad43eda29e1f9bfcb1b67d",
      "62133bab551f4669a30d12f153281414",
      "296c9f0b00fb457990aa45771d02648b",
      "87b6c9422b8544d38ca9ea723e776933"
     ]
    },
    "executionInfo": {
     "elapsed": 23627,
     "status": "ok",
     "timestamp": 1685442110754,
     "user": {
      "displayName": "Aisling OSullivan",
      "userId": "03257794369304857684"
     },
     "user_tz": -120
    },
    "id": "kbdZlIN_K0J7",
    "outputId": "47a7f184-6c68-4d29-c7b9-4b77fed26392",
    "ExecuteTime": {
     "start_time": "2023-06-02T10:18:04.168901Z",
     "end_time": "2023-06-02T10:18:26.337112Z"
    }
   },
   "outputs": [
    {
     "name": "stderr",
     "output_type": "stream",
     "text": [
      "2023-06-02 10:18:06.291656: I tensorflow/core/platform/cpu_feature_guard.cc:182] This TensorFlow binary is optimized to use available CPU instructions in performance-critical operations.\n",
      "To enable the following instructions: AVX2 FMA, in other operations, rebuild TensorFlow with the appropriate compiler flags.\n",
      "2023-06-02 10:18:07.154168: W tensorflow/compiler/tf2tensorrt/utils/py_utils.cc:38] TF-TRT Warning: Could not find TensorRT\n",
      "No model was supplied, defaulted to distilbert-base-uncased-finetuned-sst-2-english and revision af0f99b (https://huggingface.co/distilbert-base-uncased-finetuned-sst-2-english).\n",
      "Using a pipeline without specifying a model name and revision in production is not recommended.\n"
     ]
    },
    {
     "data": {
      "text/plain": "Downloading pytorch_model.bin:   0%|          | 0.00/268M [00:00<?, ?B/s]",
      "application/vnd.jupyter.widget-view+json": {
       "version_major": 2,
       "version_minor": 0,
       "model_id": "84076afa985e4a73a39d7b26e5a77534"
      }
     },
     "metadata": {},
     "output_type": "display_data"
    },
    {
     "data": {
      "text/plain": "Downloading (…)okenizer_config.json:   0%|          | 0.00/48.0 [00:00<?, ?B/s]",
      "application/vnd.jupyter.widget-view+json": {
       "version_major": 2,
       "version_minor": 0,
       "model_id": "1b6a6031273a4a2fad8d88fe2e98e244"
      }
     },
     "metadata": {},
     "output_type": "display_data"
    },
    {
     "data": {
      "text/plain": "Downloading (…)solve/main/vocab.txt:   0%|          | 0.00/232k [00:00<?, ?B/s]",
      "application/vnd.jupyter.widget-view+json": {
       "version_major": 2,
       "version_minor": 0,
       "model_id": "5b22b9e964854f69aa2d3df9ba63d841"
      }
     },
     "metadata": {},
     "output_type": "display_data"
    },
    {
     "name": "stderr",
     "output_type": "stream",
     "text": [
      "Xformers is not installed correctly. If you want to use memorry_efficient_attention to accelerate training use the following command to install Xformers\n",
      "pip install xformers.\n"
     ]
    },
    {
     "data": {
      "text/plain": "[{'label': 'POSITIVE', 'score': 0.9989205598831177}]"
     },
     "execution_count": 1,
     "metadata": {},
     "output_type": "execute_result"
    }
   ],
   "source": [
    "from transformers import pipeline\n",
    "\n",
    "classifier = pipeline(\"sentiment-analysis\") # or can pick a specific model: https://huggingface.co/models?search=sentiment\n",
    "classifier(\"ML Prague is the biggest European conference about ML, AI and deep learning applications.\")"
   ]
  },
  {
   "cell_type": "code",
   "execution_count": 3,
   "metadata": {
    "id": "leq_XrsE-Oa2",
    "ExecuteTime": {
     "start_time": "2023-06-02T10:18:39.264491Z",
     "end_time": "2023-06-02T10:19:12.172285Z"
    }
   },
   "outputs": [
    {
     "data": {
      "text/plain": "Downloading (…)lve/main/config.json:   0%|          | 0.00/747 [00:00<?, ?B/s]",
      "application/vnd.jupyter.widget-view+json": {
       "version_major": 2,
       "version_minor": 0,
       "model_id": "355602246f9344fdbd089c4b44437e47"
      }
     },
     "metadata": {},
     "output_type": "display_data"
    },
    {
     "data": {
      "text/plain": "Downloading pytorch_model.bin:   0%|          | 0.00/499M [00:00<?, ?B/s]",
      "application/vnd.jupyter.widget-view+json": {
       "version_major": 2,
       "version_minor": 0,
       "model_id": "989683d6319444308b4861d6cf0c9443"
      }
     },
     "metadata": {},
     "output_type": "display_data"
    },
    {
     "data": {
      "text/plain": "Downloading (…)olve/main/vocab.json:   0%|          | 0.00/899k [00:00<?, ?B/s]",
      "application/vnd.jupyter.widget-view+json": {
       "version_major": 2,
       "version_minor": 0,
       "model_id": "1d869e9fc7714be3899eb260f7973ce6"
      }
     },
     "metadata": {},
     "output_type": "display_data"
    },
    {
     "data": {
      "text/plain": "Downloading (…)olve/main/merges.txt:   0%|          | 0.00/456k [00:00<?, ?B/s]",
      "application/vnd.jupyter.widget-view+json": {
       "version_major": 2,
       "version_minor": 0,
       "model_id": "8da1afe8283a4ec680310bf420af886d"
      }
     },
     "metadata": {},
     "output_type": "display_data"
    },
    {
     "data": {
      "text/plain": "Downloading (…)cial_tokens_map.json:   0%|          | 0.00/150 [00:00<?, ?B/s]",
      "application/vnd.jupyter.widget-view+json": {
       "version_major": 2,
       "version_minor": 0,
       "model_id": "1cfbf547beea452782810d9bf8e6f3b5"
      }
     },
     "metadata": {},
     "output_type": "display_data"
    },
    {
     "data": {
      "text/plain": "[{'label': 'LABEL_2', 'score': 0.888073205947876}]"
     },
     "execution_count": 3,
     "metadata": {},
     "output_type": "execute_result"
    }
   ],
   "source": [
    "# do the same as above but this time specifiy a suitable model that the pipeline should use\n",
    "classifier = pipeline(\"sentiment-analysis\", \"cardiffnlp/twitter-roberta-base-sentiment\")\n",
    "classifier(\"ML Prague is the biggest European conference about ML, AI and deep learning applications.\")"
   ]
  },
  {
   "cell_type": "markdown",
   "metadata": {
    "id": "O6bzVOELK0KF"
   },
   "source": [
    "## Pipeline Steps:\n",
    "### Text -> Tokenizer -> Model -> Post Processing"
   ]
  },
  {
   "cell_type": "markdown",
   "metadata": {
    "id": "ZIN7X8zGK0KH"
   },
   "source": [
    "### Tokenizer \n",
    "#### translates text into data that can be processed by a model\n",
    "\n",
    "- splits text into words, subwords or symbols called *tokens*\n",
    "- each *token* is given a unique id (integer)\n",
    "- pretrained models come with a ready made tokenizer \n",
    "- important to use the tokenizer that macthes the model you use otherwise the token ids are not guaranteed match (as well as preprocessing of text could be different)\n",
    "- For example: \n",
    "   - \"He wore a hat\" -> [tokenizer_a] -> [3, 142, 95, 7]\n",
    "   - \"He wore a hat\" -> [tokenizer_b] -> [12, 205, 48, 2]"
   ]
  },
  {
   "cell_type": "markdown",
   "metadata": {
    "id": "Z4P2FgE7K0KJ"
   },
   "source": [
    "#### HuggingFace makes it easy to download the model and its matching tokenizer"
   ]
  },
  {
   "cell_type": "code",
   "execution_count": 12,
   "metadata": {
    "id": "sQ_Uwoa3K0KL",
    "ExecuteTime": {
     "start_time": "2023-06-02T10:21:10.891174Z",
     "end_time": "2023-06-02T10:21:11.080393Z"
    }
   },
   "outputs": [],
   "source": [
    "from transformers import AutoTokenizer\n",
    "\n",
    "model_name = \"distilbert-base-uncased-finetuned-sst-2-english\"\n",
    "tokenizer = AutoTokenizer.from_pretrained(model_name)"
   ]
  },
  {
   "cell_type": "code",
   "execution_count": 13,
   "metadata": {
    "colab": {
     "base_uri": "https://localhost:8080/"
    },
    "executionInfo": {
     "elapsed": 524,
     "status": "ok",
     "timestamp": 1685442318963,
     "user": {
      "displayName": "Aisling OSullivan",
      "userId": "03257794369304857684"
     },
     "user_tz": -120
    },
    "id": "vxSRdE-SK0KN",
    "outputId": "01d9c8a4-4480-464e-ef20-fd2b2b8abfa9",
    "ExecuteTime": {
     "start_time": "2023-06-02T10:21:11.597625Z",
     "end_time": "2023-06-02T10:21:11.612023Z"
    }
   },
   "outputs": [
    {
     "name": "stdout",
     "output_type": "stream",
     "text": [
      "{'input_ids': tensor([[  101, 19875,  8634,  2003,  1996,  5221,  2647,  3034,  2055, 19875,\n",
      "          1010,  9932,  1998,  2784,  4083,  5097,   102],\n",
      "        [  101, 17662, 12172,  2003,  2025,  3733,  2000,  2224,   999,   102,\n",
      "             0,     0,     0,     0,     0,     0,     0]]), 'attention_mask': tensor([[1, 1, 1, 1, 1, 1, 1, 1, 1, 1, 1, 1, 1, 1, 1, 1, 1],\n",
      "        [1, 1, 1, 1, 1, 1, 1, 1, 1, 1, 0, 0, 0, 0, 0, 0, 0]])}\n"
     ]
    }
   ],
   "source": [
    "raw_inputs = [\n",
    "    \"ML Prague is the biggest European conference about ML, AI and deep learning applications\",\n",
    "    \"HuggingFace is not easy to use!\",\n",
    "]\n",
    "inputs = tokenizer(raw_inputs, padding=True, truncation=True, return_tensors=\"pt\")\n",
    "print(inputs)"
   ]
  },
  {
   "cell_type": "markdown",
   "metadata": {
    "id": "hVB_ycmKK0KT"
   },
   "source": [
    "### Padding and truncation\n",
    "- Ensures all inputs are the same length\n",
    "- Attention mask has zeros where inputs are ignored"
   ]
  },
  {
   "cell_type": "markdown",
   "metadata": {
    "id": "JzVRbgf-K0KX"
   },
   "source": [
    "#### Special tokens added to lists of input ids"
   ]
  },
  {
   "cell_type": "code",
   "execution_count": 18,
   "metadata": {
    "colab": {
     "base_uri": "https://localhost:8080/"
    },
    "executionInfo": {
     "elapsed": 8,
     "status": "ok",
     "timestamp": 1685442326040,
     "user": {
      "displayName": "Aisling OSullivan",
      "userId": "03257794369304857684"
     },
     "user_tz": -120
    },
    "id": "MI4MT20nK0KZ",
    "outputId": "01a23bc3-f6cc-436c-cfbe-88f1bcd29aae",
    "ExecuteTime": {
     "start_time": "2023-06-02T10:22:17.424048Z",
     "end_time": "2023-06-02T10:22:17.431590Z"
    }
   },
   "outputs": [
    {
     "name": "stdout",
     "output_type": "stream",
     "text": [
      "[101, 19875, 8634, 2003, 1996, 5221, 2647, 3034, 2055, 19875, 1010, 9932, 1998, 2784, 4083, 5097, 102, 17662, 12172, 2003, 2025, 3733, 2000, 2224, 999, 102]\n"
     ]
    }
   ],
   "source": [
    "tokenized_inputs = tokenizer.encode(raw_inputs)\n",
    "print(tokenized_inputs)"
   ]
  },
  {
   "cell_type": "markdown",
   "metadata": {
    "id": "AbgVv25TK0Ka"
   },
   "source": [
    "- Find what *tokens* do these ids correspond to?"
   ]
  },
  {
   "cell_type": "code",
   "execution_count": 19,
   "metadata": {
    "colab": {
     "base_uri": "https://localhost:8080/"
    },
    "executionInfo": {
     "elapsed": 14,
     "status": "ok",
     "timestamp": 1685442331374,
     "user": {
      "displayName": "Aisling OSullivan",
      "userId": "03257794369304857684"
     },
     "user_tz": -120
    },
    "id": "q-T64QoGK0Kb",
    "outputId": "5471e673-1a82-4327-98a7-b818ff7cda31",
    "ExecuteTime": {
     "start_time": "2023-06-02T10:22:23.901542Z",
     "end_time": "2023-06-02T10:22:23.908543Z"
    }
   },
   "outputs": [
    {
     "name": "stdout",
     "output_type": "stream",
     "text": [
      "['[CLS]', 'ml', 'prague', 'is', 'the', 'biggest', 'european', 'conference', 'about', 'ml', ',', 'ai', 'and', 'deep', 'learning', 'applications', '[SEP]', 'hugging', '##face', 'is', 'not', 'easy', 'to', 'use', '!', '[SEP]']\n"
     ]
    }
   ],
   "source": [
    "print(tokenizer.convert_ids_to_tokens(tokenized_inputs))"
   ]
  },
  {
   "cell_type": "markdown",
   "metadata": {
    "id": "8w77ru0RK0Kc"
   },
   "source": [
    "- The tokenizer added the special word [CLS] at the beginning and the special word [SEP] at the end. - This is because the model was pretrained with those, so to get the same results for inference we need to add them as well\n",
    "- Not every model will have these special tokens, some will have different ones, others may have none"
   ]
  },
  {
   "cell_type": "code",
   "execution_count": 20,
   "metadata": {
    "colab": {
     "base_uri": "https://localhost:8080/",
     "height": 35
    },
    "executionInfo": {
     "elapsed": 431,
     "status": "ok",
     "timestamp": 1685442345807,
     "user": {
      "displayName": "Aisling OSullivan",
      "userId": "03257794369304857684"
     },
     "user_tz": -120
    },
    "id": "f8aaKNZxK0Kc",
    "outputId": "563914ce-ed0b-40cd-a370-895ff72b9d01",
    "ExecuteTime": {
     "start_time": "2023-06-02T10:22:50.532395Z",
     "end_time": "2023-06-02T10:22:50.573798Z"
    }
   },
   "outputs": [
    {
     "data": {
      "text/plain": "'[CLS] ml prague is the biggest european conference about ml, ai and deep learning applications [SEP] huggingface is not easy to use! [SEP]'"
     },
     "execution_count": 20,
     "metadata": {},
     "output_type": "execute_result"
    }
   ],
   "source": [
    "tokenizer.decode(tokenized_inputs)"
   ]
  },
  {
   "cell_type": "markdown",
   "metadata": {
    "id": "AyYDJnA_K0Ke"
   },
   "source": [
    "- decode converts the indices back to tokens, but also groups together the tokens that were part of the same words to produce a readable sentence\n",
    "- really useful when you want to interpret a model's prediction"
   ]
  },
  {
   "cell_type": "markdown",
   "metadata": {
    "id": "2-vdDoaaK0Kf"
   },
   "source": [
    "#### Downloading the model\n",
    "- compare this with cell for downloading tokenizer\n",
    "\n",
    "- *AutoModel* means you can use this method to load a model with a different architecture\n",
    "- *ForSequenceClassification* defines the task that the head of the model was used for"
   ]
  },
  {
   "cell_type": "code",
   "execution_count": 21,
   "metadata": {
    "id": "HqSCf40yK0Kg",
    "ExecuteTime": {
     "start_time": "2023-06-02T10:23:08.947180Z",
     "end_time": "2023-06-02T10:23:09.547630Z"
    }
   },
   "outputs": [],
   "source": [
    "from transformers import AutoModelForSequenceClassification\n",
    "\n",
    "# load a model from huggingface that is suitable for sequence classification\n",
    "model = AutoModelForSequenceClassification.from_pretrained(model_name)"
   ]
  },
  {
   "cell_type": "code",
   "execution_count": 24,
   "metadata": {
    "id": "FkkdBJMRK0Kh",
    "ExecuteTime": {
     "start_time": "2023-06-02T10:23:49.460717Z",
     "end_time": "2023-06-02T10:23:49.508878Z"
    }
   },
   "outputs": [],
   "source": [
    "outputs = model(**inputs)"
   ]
  },
  {
   "cell_type": "markdown",
   "metadata": {
    "id": "CyvsHM9lK0Kj"
   },
   "source": [
    "- what do we expect at the output?"
   ]
  },
  {
   "cell_type": "code",
   "execution_count": 25,
   "metadata": {
    "colab": {
     "base_uri": "https://localhost:8080/"
    },
    "executionInfo": {
     "elapsed": 356,
     "status": "ok",
     "timestamp": 1685442358308,
     "user": {
      "displayName": "Aisling OSullivan",
      "userId": "03257794369304857684"
     },
     "user_tz": -120
    },
    "id": "-Ws2xR7UK0Kk",
    "outputId": "aa0feea4-e475-4ded-d895-c2591859733f",
    "ExecuteTime": {
     "start_time": "2023-06-02T10:23:51.361024Z",
     "end_time": "2023-06-02T10:23:51.382246Z"
    }
   },
   "outputs": [
    {
     "name": "stdout",
     "output_type": "stream",
     "text": [
      "torch.Size([2, 2])\n"
     ]
    }
   ],
   "source": [
    "print(outputs.logits.shape)"
   ]
  },
  {
   "cell_type": "markdown",
   "metadata": {
    "id": "STdMdEVsK0Kn"
   },
   "source": [
    "- a prediction probability for the 2 input sentences\n",
    "- a prediction probability for both classes (positive and negative)"
   ]
  },
  {
   "cell_type": "code",
   "execution_count": 26,
   "metadata": {
    "colab": {
     "base_uri": "https://localhost:8080/"
    },
    "executionInfo": {
     "elapsed": 488,
     "status": "ok",
     "timestamp": 1685442361934,
     "user": {
      "displayName": "Aisling OSullivan",
      "userId": "03257794369304857684"
     },
     "user_tz": -120
    },
    "id": "BUfm5yWYK0Ko",
    "outputId": "cc615c42-4cef-4c89-cfa4-a1478d677e99",
    "ExecuteTime": {
     "start_time": "2023-06-02T10:23:52.946061Z",
     "end_time": "2023-06-02T10:23:52.954626Z"
    }
   },
   "outputs": [
    {
     "name": "stdout",
     "output_type": "stream",
     "text": [
      "tensor([[-3.3349,  3.4809],\n",
      "        [ 3.5385, -2.9917]], grad_fn=<AddmmBackward0>)\n"
     ]
    }
   ],
   "source": [
    "print(outputs.logits)"
   ]
  },
  {
   "cell_type": "markdown",
   "metadata": {
    "id": "a9T4RgBoK0Kp"
   },
   "source": [
    "- these are not probabilities, but raw unnormalized scores\n",
    "- need to use softmax layer to convert these scores to probabilities"
   ]
  },
  {
   "cell_type": "code",
   "execution_count": 27,
   "metadata": {
    "colab": {
     "base_uri": "https://localhost:8080/"
    },
    "executionInfo": {
     "elapsed": 307,
     "status": "ok",
     "timestamp": 1685442365855,
     "user": {
      "displayName": "Aisling OSullivan",
      "userId": "03257794369304857684"
     },
     "user_tz": -120
    },
    "id": "xVRHI89NK0Kr",
    "outputId": "f26afbff-3f13-462a-baab-e0d6541f1e4b",
    "ExecuteTime": {
     "start_time": "2023-06-02T10:23:54.288659Z",
     "end_time": "2023-06-02T10:23:54.337185Z"
    }
   },
   "outputs": [
    {
     "name": "stdout",
     "output_type": "stream",
     "text": [
      "tensor([[0.0011, 0.9989],\n",
      "        [0.9985, 0.0015]], grad_fn=<SoftmaxBackward0>)\n"
     ]
    }
   ],
   "source": [
    "import torch\n",
    "\n",
    "predictions = torch.nn.functional.softmax(outputs.logits, dim=-1)\n",
    "print(predictions)"
   ]
  },
  {
   "cell_type": "code",
   "execution_count": 28,
   "metadata": {
    "colab": {
     "base_uri": "https://localhost:8080/"
    },
    "executionInfo": {
     "elapsed": 265,
     "status": "ok",
     "timestamp": 1685442369004,
     "user": {
      "displayName": "Aisling OSullivan",
      "userId": "03257794369304857684"
     },
     "user_tz": -120
    },
    "id": "kqWTYP5yK0Kr",
    "outputId": "cc6fbbeb-7e6f-4677-82fd-ed36d369a478",
    "ExecuteTime": {
     "start_time": "2023-06-02T10:24:00.612827Z",
     "end_time": "2023-06-02T10:24:00.627757Z"
    }
   },
   "outputs": [
    {
     "data": {
      "text/plain": "array([0.00109515, 0.9989048 ], dtype=float32)"
     },
     "execution_count": 28,
     "metadata": {},
     "output_type": "execute_result"
    }
   ],
   "source": [
    "predictions.detach().numpy()[0]"
   ]
  },
  {
   "cell_type": "code",
   "execution_count": 29,
   "metadata": {
    "colab": {
     "base_uri": "https://localhost:8080/"
    },
    "executionInfo": {
     "elapsed": 260,
     "status": "ok",
     "timestamp": 1685442372118,
     "user": {
      "displayName": "Aisling OSullivan",
      "userId": "03257794369304857684"
     },
     "user_tz": -120
    },
    "id": "ZbSZR0gOK0Kt",
    "outputId": "8d87538d-ecfd-4c05-e320-2c196b9dd9ef",
    "ExecuteTime": {
     "start_time": "2023-06-02T10:24:02.248428Z",
     "end_time": "2023-06-02T10:24:02.261128Z"
    }
   },
   "outputs": [
    {
     "data": {
      "text/plain": "array([0.9985435 , 0.00145652], dtype=float32)"
     },
     "execution_count": 29,
     "metadata": {},
     "output_type": "execute_result"
    }
   ],
   "source": [
    "predictions.detach().numpy()[1]"
   ]
  },
  {
   "cell_type": "code",
   "execution_count": 30,
   "metadata": {
    "colab": {
     "base_uri": "https://localhost:8080/"
    },
    "executionInfo": {
     "elapsed": 370,
     "status": "ok",
     "timestamp": 1685442375706,
     "user": {
      "displayName": "Aisling OSullivan",
      "userId": "03257794369304857684"
     },
     "user_tz": -120
    },
    "id": "1WNkYP3QK0Kt",
    "outputId": "24449eec-b317-4f4d-dee7-301566b9e2d6",
    "ExecuteTime": {
     "start_time": "2023-06-02T10:24:03.349478Z",
     "end_time": "2023-06-02T10:24:03.365656Z"
    }
   },
   "outputs": [
    {
     "data": {
      "text/plain": "{0: 'NEGATIVE', 1: 'POSITIVE'}"
     },
     "execution_count": 30,
     "metadata": {},
     "output_type": "execute_result"
    }
   ],
   "source": [
    "model.config.id2label"
   ]
  },
  {
   "cell_type": "markdown",
   "metadata": {
    "id": "yuf4u7LAK0Ku"
   },
   "source": [
    "- First sentence input has NEGATIVE: 0.00109, POSITIVE: 0.9989\n",
    "- Second sentence input has NEGATIVE: 0.9995, POSITIVE: 0.0005"
   ]
  },
  {
   "cell_type": "code",
   "execution_count": null,
   "outputs": [],
   "source": [],
   "metadata": {
    "collapsed": false
   }
  }
 ],
 "metadata": {
  "colab": {
   "provenance": [
    {
     "file_id": "1mpsWWzjjvA80hq1EPUDsjWWpxZQ1jiZd",
     "timestamp": 1685606379081
    }
   ]
  },
  "kernelspec": {
   "display_name": "Python 3",
   "language": "python",
   "name": "python3"
  },
  "language_info": {
   "codemirror_mode": {
    "name": "ipython",
    "version": 3
   },
   "file_extension": ".py",
   "mimetype": "text/x-python",
   "name": "python",
   "nbconvert_exporter": "python",
   "pygments_lexer": "ipython3",
   "version": "3.8.15"
  },
  "orig_nbformat": 4,
  "widgets": {
   "application/vnd.jupyter.widget-state+json": {
    "10ec414403754a5c8a159398aec7f44c": {
     "model_module": "@jupyter-widgets/controls",
     "model_module_version": "1.5.0",
     "model_name": "HBoxModel",
     "state": {
      "_dom_classes": [],
      "_model_module": "@jupyter-widgets/controls",
      "_model_module_version": "1.5.0",
      "_model_name": "HBoxModel",
      "_view_count": null,
      "_view_module": "@jupyter-widgets/controls",
      "_view_module_version": "1.5.0",
      "_view_name": "HBoxView",
      "box_style": "",
      "children": [
       "IPY_MODEL_a87f448224dd46daa39dbb600488abe3",
       "IPY_MODEL_7487065166d749b98fedd495a53edc66",
       "IPY_MODEL_155c773a060c4536b585f324aaa66147"
      ],
      "layout": "IPY_MODEL_d950ff34898341a4b1ae3ed33b4525fe"
     }
    },
    "131a6848c4e84ebaab601c06b7adf681": {
     "model_module": "@jupyter-widgets/controls",
     "model_module_version": "1.5.0",
     "model_name": "DescriptionStyleModel",
     "state": {
      "_model_module": "@jupyter-widgets/controls",
      "_model_module_version": "1.5.0",
      "_model_name": "DescriptionStyleModel",
      "_view_count": null,
      "_view_module": "@jupyter-widgets/base",
      "_view_module_version": "1.2.0",
      "_view_name": "StyleView",
      "description_width": ""
     }
    },
    "14d3fc58b3684067a7c3c06f183732ca": {
     "model_module": "@jupyter-widgets/controls",
     "model_module_version": "1.5.0",
     "model_name": "HTMLModel",
     "state": {
      "_dom_classes": [],
      "_model_module": "@jupyter-widgets/controls",
      "_model_module_version": "1.5.0",
      "_model_name": "HTMLModel",
      "_view_count": null,
      "_view_module": "@jupyter-widgets/controls",
      "_view_module_version": "1.5.0",
      "_view_name": "HTMLView",
      "description": "",
      "description_tooltip": null,
      "layout": "IPY_MODEL_f44e7ab354924ab7a590da471011b95a",
      "placeholder": "​",
      "style": "IPY_MODEL_f156b8c40bed482dab4314b909f2261a",
      "value": "Downloading (…)lve/main/config.json: 100%"
     }
    },
    "155c773a060c4536b585f324aaa66147": {
     "model_module": "@jupyter-widgets/controls",
     "model_module_version": "1.5.0",
     "model_name": "HTMLModel",
     "state": {
      "_dom_classes": [],
      "_model_module": "@jupyter-widgets/controls",
      "_model_module_version": "1.5.0",
      "_model_name": "HTMLModel",
      "_view_count": null,
      "_view_module": "@jupyter-widgets/controls",
      "_view_module_version": "1.5.0",
      "_view_name": "HTMLView",
      "description": "",
      "description_tooltip": null,
      "layout": "IPY_MODEL_296c9f0b00fb457990aa45771d02648b",
      "placeholder": "​",
      "style": "IPY_MODEL_87b6c9422b8544d38ca9ea723e776933",
      "value": " 232k/232k [00:00&lt;00:00, 2.01MB/s]"
     }
    },
    "18659d34dd7d4715a90f2085661ff980": {
     "model_module": "@jupyter-widgets/controls",
     "model_module_version": "1.5.0",
     "model_name": "HTMLModel",
     "state": {
      "_dom_classes": [],
      "_model_module": "@jupyter-widgets/controls",
      "_model_module_version": "1.5.0",
      "_model_name": "HTMLModel",
      "_view_count": null,
      "_view_module": "@jupyter-widgets/controls",
      "_view_module_version": "1.5.0",
      "_view_name": "HTMLView",
      "description": "",
      "description_tooltip": null,
      "layout": "IPY_MODEL_9d2f5009f05d4b438114ada13eb3e802",
      "placeholder": "​",
      "style": "IPY_MODEL_b92a6f9a8a114bb5ba1f25d9bcad97bb",
      "value": " 629/629 [00:00&lt;00:00, 9.19kB/s]"
     }
    },
    "209a55128b45435c8936b491fdc81ffa": {
     "model_module": "@jupyter-widgets/base",
     "model_module_version": "1.2.0",
     "model_name": "LayoutModel",
     "state": {
      "_model_module": "@jupyter-widgets/base",
      "_model_module_version": "1.2.0",
      "_model_name": "LayoutModel",
      "_view_count": null,
      "_view_module": "@jupyter-widgets/base",
      "_view_module_version": "1.2.0",
      "_view_name": "LayoutView",
      "align_content": null,
      "align_items": null,
      "align_self": null,
      "border": null,
      "bottom": null,
      "display": null,
      "flex": null,
      "flex_flow": null,
      "grid_area": null,
      "grid_auto_columns": null,
      "grid_auto_flow": null,
      "grid_auto_rows": null,
      "grid_column": null,
      "grid_gap": null,
      "grid_row": null,
      "grid_template_areas": null,
      "grid_template_columns": null,
      "grid_template_rows": null,
      "height": null,
      "justify_content": null,
      "justify_items": null,
      "left": null,
      "margin": null,
      "max_height": null,
      "max_width": null,
      "min_height": null,
      "min_width": null,
      "object_fit": null,
      "object_position": null,
      "order": null,
      "overflow": null,
      "overflow_x": null,
      "overflow_y": null,
      "padding": null,
      "right": null,
      "top": null,
      "visibility": null,
      "width": null
     }
    },
    "296c9f0b00fb457990aa45771d02648b": {
     "model_module": "@jupyter-widgets/base",
     "model_module_version": "1.2.0",
     "model_name": "LayoutModel",
     "state": {
      "_model_module": "@jupyter-widgets/base",
      "_model_module_version": "1.2.0",
      "_model_name": "LayoutModel",
      "_view_count": null,
      "_view_module": "@jupyter-widgets/base",
      "_view_module_version": "1.2.0",
      "_view_name": "LayoutView",
      "align_content": null,
      "align_items": null,
      "align_self": null,
      "border": null,
      "bottom": null,
      "display": null,
      "flex": null,
      "flex_flow": null,
      "grid_area": null,
      "grid_auto_columns": null,
      "grid_auto_flow": null,
      "grid_auto_rows": null,
      "grid_column": null,
      "grid_gap": null,
      "grid_row": null,
      "grid_template_areas": null,
      "grid_template_columns": null,
      "grid_template_rows": null,
      "height": null,
      "justify_content": null,
      "justify_items": null,
      "left": null,
      "margin": null,
      "max_height": null,
      "max_width": null,
      "min_height": null,
      "min_width": null,
      "object_fit": null,
      "object_position": null,
      "order": null,
      "overflow": null,
      "overflow_x": null,
      "overflow_y": null,
      "padding": null,
      "right": null,
      "top": null,
      "visibility": null,
      "width": null
     }
    },
    "2ccb1c725f7841c394d35955e21ff4cb": {
     "model_module": "@jupyter-widgets/controls",
     "model_module_version": "1.5.0",
     "model_name": "DescriptionStyleModel",
     "state": {
      "_model_module": "@jupyter-widgets/controls",
      "_model_module_version": "1.5.0",
      "_model_name": "DescriptionStyleModel",
      "_view_count": null,
      "_view_module": "@jupyter-widgets/base",
      "_view_module_version": "1.2.0",
      "_view_name": "StyleView",
      "description_width": ""
     }
    },
    "2d624b61a3ad43eda29e1f9bfcb1b67d": {
     "model_module": "@jupyter-widgets/base",
     "model_module_version": "1.2.0",
     "model_name": "LayoutModel",
     "state": {
      "_model_module": "@jupyter-widgets/base",
      "_model_module_version": "1.2.0",
      "_model_name": "LayoutModel",
      "_view_count": null,
      "_view_module": "@jupyter-widgets/base",
      "_view_module_version": "1.2.0",
      "_view_name": "LayoutView",
      "align_content": null,
      "align_items": null,
      "align_self": null,
      "border": null,
      "bottom": null,
      "display": null,
      "flex": null,
      "flex_flow": null,
      "grid_area": null,
      "grid_auto_columns": null,
      "grid_auto_flow": null,
      "grid_auto_rows": null,
      "grid_column": null,
      "grid_gap": null,
      "grid_row": null,
      "grid_template_areas": null,
      "grid_template_columns": null,
      "grid_template_rows": null,
      "height": null,
      "justify_content": null,
      "justify_items": null,
      "left": null,
      "margin": null,
      "max_height": null,
      "max_width": null,
      "min_height": null,
      "min_width": null,
      "object_fit": null,
      "object_position": null,
      "order": null,
      "overflow": null,
      "overflow_x": null,
      "overflow_y": null,
      "padding": null,
      "right": null,
      "top": null,
      "visibility": null,
      "width": null
     }
    },
    "3b35f43c34654a3cb4a618709e370208": {
     "model_module": "@jupyter-widgets/controls",
     "model_module_version": "1.5.0",
     "model_name": "HBoxModel",
     "state": {
      "_dom_classes": [],
      "_model_module": "@jupyter-widgets/controls",
      "_model_module_version": "1.5.0",
      "_model_name": "HBoxModel",
      "_view_count": null,
      "_view_module": "@jupyter-widgets/controls",
      "_view_module_version": "1.5.0",
      "_view_name": "HBoxView",
      "box_style": "",
      "children": [
       "IPY_MODEL_a8fb74299ac64a0b88482ffb96c6b0b3",
       "IPY_MODEL_dc4e06eeb4044222bca9bc3401af1d89",
       "IPY_MODEL_b1d9a665a31344c89a59f745d741be76"
      ],
      "layout": "IPY_MODEL_49ebff2cda0d45438783c42b4a9e96ce"
     }
    },
    "44745dfabd244324a884f11bd35562af": {
     "model_module": "@jupyter-widgets/base",
     "model_module_version": "1.2.0",
     "model_name": "LayoutModel",
     "state": {
      "_model_module": "@jupyter-widgets/base",
      "_model_module_version": "1.2.0",
      "_model_name": "LayoutModel",
      "_view_count": null,
      "_view_module": "@jupyter-widgets/base",
      "_view_module_version": "1.2.0",
      "_view_name": "LayoutView",
      "align_content": null,
      "align_items": null,
      "align_self": null,
      "border": null,
      "bottom": null,
      "display": null,
      "flex": null,
      "flex_flow": null,
      "grid_area": null,
      "grid_auto_columns": null,
      "grid_auto_flow": null,
      "grid_auto_rows": null,
      "grid_column": null,
      "grid_gap": null,
      "grid_row": null,
      "grid_template_areas": null,
      "grid_template_columns": null,
      "grid_template_rows": null,
      "height": null,
      "justify_content": null,
      "justify_items": null,
      "left": null,
      "margin": null,
      "max_height": null,
      "max_width": null,
      "min_height": null,
      "min_width": null,
      "object_fit": null,
      "object_position": null,
      "order": null,
      "overflow": null,
      "overflow_x": null,
      "overflow_y": null,
      "padding": null,
      "right": null,
      "top": null,
      "visibility": null,
      "width": null
     }
    },
    "49ebff2cda0d45438783c42b4a9e96ce": {
     "model_module": "@jupyter-widgets/base",
     "model_module_version": "1.2.0",
     "model_name": "LayoutModel",
     "state": {
      "_model_module": "@jupyter-widgets/base",
      "_model_module_version": "1.2.0",
      "_model_name": "LayoutModel",
      "_view_count": null,
      "_view_module": "@jupyter-widgets/base",
      "_view_module_version": "1.2.0",
      "_view_name": "LayoutView",
      "align_content": null,
      "align_items": null,
      "align_self": null,
      "border": null,
      "bottom": null,
      "display": null,
      "flex": null,
      "flex_flow": null,
      "grid_area": null,
      "grid_auto_columns": null,
      "grid_auto_flow": null,
      "grid_auto_rows": null,
      "grid_column": null,
      "grid_gap": null,
      "grid_row": null,
      "grid_template_areas": null,
      "grid_template_columns": null,
      "grid_template_rows": null,
      "height": null,
      "justify_content": null,
      "justify_items": null,
      "left": null,
      "margin": null,
      "max_height": null,
      "max_width": null,
      "min_height": null,
      "min_width": null,
      "object_fit": null,
      "object_position": null,
      "order": null,
      "overflow": null,
      "overflow_x": null,
      "overflow_y": null,
      "padding": null,
      "right": null,
      "top": null,
      "visibility": null,
      "width": null
     }
    },
    "556aea140b7749549158caef22fbab16": {
     "model_module": "@jupyter-widgets/controls",
     "model_module_version": "1.5.0",
     "model_name": "FloatProgressModel",
     "state": {
      "_dom_classes": [],
      "_model_module": "@jupyter-widgets/controls",
      "_model_module_version": "1.5.0",
      "_model_name": "FloatProgressModel",
      "_view_count": null,
      "_view_module": "@jupyter-widgets/controls",
      "_view_module_version": "1.5.0",
      "_view_name": "ProgressView",
      "bar_style": "success",
      "description": "",
      "description_tooltip": null,
      "layout": "IPY_MODEL_7c3ccd9ed6754b868990333b379f4d4e",
      "max": 48,
      "min": 0,
      "orientation": "horizontal",
      "style": "IPY_MODEL_fe63f4b8e3f941289bd0d62de0851022",
      "value": 48
     }
    },
    "62133bab551f4669a30d12f153281414": {
     "model_module": "@jupyter-widgets/controls",
     "model_module_version": "1.5.0",
     "model_name": "ProgressStyleModel",
     "state": {
      "_model_module": "@jupyter-widgets/controls",
      "_model_module_version": "1.5.0",
      "_model_name": "ProgressStyleModel",
      "_view_count": null,
      "_view_module": "@jupyter-widgets/base",
      "_view_module_version": "1.2.0",
      "_view_name": "StyleView",
      "bar_color": null,
      "description_width": ""
     }
    },
    "62af38748d6841acb92ed03939d9c624": {
     "model_module": "@jupyter-widgets/controls",
     "model_module_version": "1.5.0",
     "model_name": "FloatProgressModel",
     "state": {
      "_dom_classes": [],
      "_model_module": "@jupyter-widgets/controls",
      "_model_module_version": "1.5.0",
      "_model_name": "FloatProgressModel",
      "_view_count": null,
      "_view_module": "@jupyter-widgets/controls",
      "_view_module_version": "1.5.0",
      "_view_name": "ProgressView",
      "bar_style": "success",
      "description": "",
      "description_tooltip": null,
      "layout": "IPY_MODEL_7cf18443173242eea99c65bcee4c8453",
      "max": 629,
      "min": 0,
      "orientation": "horizontal",
      "style": "IPY_MODEL_c515189bd282421fafe12aadfcf63e0a",
      "value": 629
     }
    },
    "73360fc78cfa4cec9a539cd579831e0e": {
     "model_module": "@jupyter-widgets/base",
     "model_module_version": "1.2.0",
     "model_name": "LayoutModel",
     "state": {
      "_model_module": "@jupyter-widgets/base",
      "_model_module_version": "1.2.0",
      "_model_name": "LayoutModel",
      "_view_count": null,
      "_view_module": "@jupyter-widgets/base",
      "_view_module_version": "1.2.0",
      "_view_name": "LayoutView",
      "align_content": null,
      "align_items": null,
      "align_self": null,
      "border": null,
      "bottom": null,
      "display": null,
      "flex": null,
      "flex_flow": null,
      "grid_area": null,
      "grid_auto_columns": null,
      "grid_auto_flow": null,
      "grid_auto_rows": null,
      "grid_column": null,
      "grid_gap": null,
      "grid_row": null,
      "grid_template_areas": null,
      "grid_template_columns": null,
      "grid_template_rows": null,
      "height": null,
      "justify_content": null,
      "justify_items": null,
      "left": null,
      "margin": null,
      "max_height": null,
      "max_width": null,
      "min_height": null,
      "min_width": null,
      "object_fit": null,
      "object_position": null,
      "order": null,
      "overflow": null,
      "overflow_x": null,
      "overflow_y": null,
      "padding": null,
      "right": null,
      "top": null,
      "visibility": null,
      "width": null
     }
    },
    "7487065166d749b98fedd495a53edc66": {
     "model_module": "@jupyter-widgets/controls",
     "model_module_version": "1.5.0",
     "model_name": "FloatProgressModel",
     "state": {
      "_dom_classes": [],
      "_model_module": "@jupyter-widgets/controls",
      "_model_module_version": "1.5.0",
      "_model_name": "FloatProgressModel",
      "_view_count": null,
      "_view_module": "@jupyter-widgets/controls",
      "_view_module_version": "1.5.0",
      "_view_name": "ProgressView",
      "bar_style": "success",
      "description": "",
      "description_tooltip": null,
      "layout": "IPY_MODEL_2d624b61a3ad43eda29e1f9bfcb1b67d",
      "max": 231508,
      "min": 0,
      "orientation": "horizontal",
      "style": "IPY_MODEL_62133bab551f4669a30d12f153281414",
      "value": 231508
     }
    },
    "7c3ccd9ed6754b868990333b379f4d4e": {
     "model_module": "@jupyter-widgets/base",
     "model_module_version": "1.2.0",
     "model_name": "LayoutModel",
     "state": {
      "_model_module": "@jupyter-widgets/base",
      "_model_module_version": "1.2.0",
      "_model_name": "LayoutModel",
      "_view_count": null,
      "_view_module": "@jupyter-widgets/base",
      "_view_module_version": "1.2.0",
      "_view_name": "LayoutView",
      "align_content": null,
      "align_items": null,
      "align_self": null,
      "border": null,
      "bottom": null,
      "display": null,
      "flex": null,
      "flex_flow": null,
      "grid_area": null,
      "grid_auto_columns": null,
      "grid_auto_flow": null,
      "grid_auto_rows": null,
      "grid_column": null,
      "grid_gap": null,
      "grid_row": null,
      "grid_template_areas": null,
      "grid_template_columns": null,
      "grid_template_rows": null,
      "height": null,
      "justify_content": null,
      "justify_items": null,
      "left": null,
      "margin": null,
      "max_height": null,
      "max_width": null,
      "min_height": null,
      "min_width": null,
      "object_fit": null,
      "object_position": null,
      "order": null,
      "overflow": null,
      "overflow_x": null,
      "overflow_y": null,
      "padding": null,
      "right": null,
      "top": null,
      "visibility": null,
      "width": null
     }
    },
    "7cf18443173242eea99c65bcee4c8453": {
     "model_module": "@jupyter-widgets/base",
     "model_module_version": "1.2.0",
     "model_name": "LayoutModel",
     "state": {
      "_model_module": "@jupyter-widgets/base",
      "_model_module_version": "1.2.0",
      "_model_name": "LayoutModel",
      "_view_count": null,
      "_view_module": "@jupyter-widgets/base",
      "_view_module_version": "1.2.0",
      "_view_name": "LayoutView",
      "align_content": null,
      "align_items": null,
      "align_self": null,
      "border": null,
      "bottom": null,
      "display": null,
      "flex": null,
      "flex_flow": null,
      "grid_area": null,
      "grid_auto_columns": null,
      "grid_auto_flow": null,
      "grid_auto_rows": null,
      "grid_column": null,
      "grid_gap": null,
      "grid_row": null,
      "grid_template_areas": null,
      "grid_template_columns": null,
      "grid_template_rows": null,
      "height": null,
      "justify_content": null,
      "justify_items": null,
      "left": null,
      "margin": null,
      "max_height": null,
      "max_width": null,
      "min_height": null,
      "min_width": null,
      "object_fit": null,
      "object_position": null,
      "order": null,
      "overflow": null,
      "overflow_x": null,
      "overflow_y": null,
      "padding": null,
      "right": null,
      "top": null,
      "visibility": null,
      "width": null
     }
    },
    "80cc0725fcb046c497efb4cb3f34ffa4": {
     "model_module": "@jupyter-widgets/controls",
     "model_module_version": "1.5.0",
     "model_name": "DescriptionStyleModel",
     "state": {
      "_model_module": "@jupyter-widgets/controls",
      "_model_module_version": "1.5.0",
      "_model_name": "DescriptionStyleModel",
      "_view_count": null,
      "_view_module": "@jupyter-widgets/base",
      "_view_module_version": "1.2.0",
      "_view_name": "StyleView",
      "description_width": ""
     }
    },
    "87b6c9422b8544d38ca9ea723e776933": {
     "model_module": "@jupyter-widgets/controls",
     "model_module_version": "1.5.0",
     "model_name": "DescriptionStyleModel",
     "state": {
      "_model_module": "@jupyter-widgets/controls",
      "_model_module_version": "1.5.0",
      "_model_name": "DescriptionStyleModel",
      "_view_count": null,
      "_view_module": "@jupyter-widgets/base",
      "_view_module_version": "1.2.0",
      "_view_name": "StyleView",
      "description_width": ""
     }
    },
    "8f882144f1f647bfb7d2f7d7662d669f": {
     "model_module": "@jupyter-widgets/controls",
     "model_module_version": "1.5.0",
     "model_name": "DescriptionStyleModel",
     "state": {
      "_model_module": "@jupyter-widgets/controls",
      "_model_module_version": "1.5.0",
      "_model_name": "DescriptionStyleModel",
      "_view_count": null,
      "_view_module": "@jupyter-widgets/base",
      "_view_module_version": "1.2.0",
      "_view_name": "StyleView",
      "description_width": ""
     }
    },
    "9b2f9f7d71214be7a83f45dc1540f695": {
     "model_module": "@jupyter-widgets/controls",
     "model_module_version": "1.5.0",
     "model_name": "HBoxModel",
     "state": {
      "_dom_classes": [],
      "_model_module": "@jupyter-widgets/controls",
      "_model_module_version": "1.5.0",
      "_model_name": "HBoxModel",
      "_view_count": null,
      "_view_module": "@jupyter-widgets/controls",
      "_view_module_version": "1.5.0",
      "_view_name": "HBoxView",
      "box_style": "",
      "children": [
       "IPY_MODEL_c89601b38ab3409c9f76721c9be6ac64",
       "IPY_MODEL_556aea140b7749549158caef22fbab16",
       "IPY_MODEL_e1589044106943f0b74da093df07ba3c"
      ],
      "layout": "IPY_MODEL_73360fc78cfa4cec9a539cd579831e0e"
     }
    },
    "9d2f5009f05d4b438114ada13eb3e802": {
     "model_module": "@jupyter-widgets/base",
     "model_module_version": "1.2.0",
     "model_name": "LayoutModel",
     "state": {
      "_model_module": "@jupyter-widgets/base",
      "_model_module_version": "1.2.0",
      "_model_name": "LayoutModel",
      "_view_count": null,
      "_view_module": "@jupyter-widgets/base",
      "_view_module_version": "1.2.0",
      "_view_name": "LayoutView",
      "align_content": null,
      "align_items": null,
      "align_self": null,
      "border": null,
      "bottom": null,
      "display": null,
      "flex": null,
      "flex_flow": null,
      "grid_area": null,
      "grid_auto_columns": null,
      "grid_auto_flow": null,
      "grid_auto_rows": null,
      "grid_column": null,
      "grid_gap": null,
      "grid_row": null,
      "grid_template_areas": null,
      "grid_template_columns": null,
      "grid_template_rows": null,
      "height": null,
      "justify_content": null,
      "justify_items": null,
      "left": null,
      "margin": null,
      "max_height": null,
      "max_width": null,
      "min_height": null,
      "min_width": null,
      "object_fit": null,
      "object_position": null,
      "order": null,
      "overflow": null,
      "overflow_x": null,
      "overflow_y": null,
      "padding": null,
      "right": null,
      "top": null,
      "visibility": null,
      "width": null
     }
    },
    "a3805024597448b5b69159cbb957b6cb": {
     "model_module": "@jupyter-widgets/base",
     "model_module_version": "1.2.0",
     "model_name": "LayoutModel",
     "state": {
      "_model_module": "@jupyter-widgets/base",
      "_model_module_version": "1.2.0",
      "_model_name": "LayoutModel",
      "_view_count": null,
      "_view_module": "@jupyter-widgets/base",
      "_view_module_version": "1.2.0",
      "_view_name": "LayoutView",
      "align_content": null,
      "align_items": null,
      "align_self": null,
      "border": null,
      "bottom": null,
      "display": null,
      "flex": null,
      "flex_flow": null,
      "grid_area": null,
      "grid_auto_columns": null,
      "grid_auto_flow": null,
      "grid_auto_rows": null,
      "grid_column": null,
      "grid_gap": null,
      "grid_row": null,
      "grid_template_areas": null,
      "grid_template_columns": null,
      "grid_template_rows": null,
      "height": null,
      "justify_content": null,
      "justify_items": null,
      "left": null,
      "margin": null,
      "max_height": null,
      "max_width": null,
      "min_height": null,
      "min_width": null,
      "object_fit": null,
      "object_position": null,
      "order": null,
      "overflow": null,
      "overflow_x": null,
      "overflow_y": null,
      "padding": null,
      "right": null,
      "top": null,
      "visibility": null,
      "width": null
     }
    },
    "a87f448224dd46daa39dbb600488abe3": {
     "model_module": "@jupyter-widgets/controls",
     "model_module_version": "1.5.0",
     "model_name": "HTMLModel",
     "state": {
      "_dom_classes": [],
      "_model_module": "@jupyter-widgets/controls",
      "_model_module_version": "1.5.0",
      "_model_name": "HTMLModel",
      "_view_count": null,
      "_view_module": "@jupyter-widgets/controls",
      "_view_module_version": "1.5.0",
      "_view_name": "HTMLView",
      "description": "",
      "description_tooltip": null,
      "layout": "IPY_MODEL_bafae34d907f4072bbf41b1c3482a74d",
      "placeholder": "​",
      "style": "IPY_MODEL_2ccb1c725f7841c394d35955e21ff4cb",
      "value": "Downloading (…)solve/main/vocab.txt: 100%"
     }
    },
    "a8fb74299ac64a0b88482ffb96c6b0b3": {
     "model_module": "@jupyter-widgets/controls",
     "model_module_version": "1.5.0",
     "model_name": "HTMLModel",
     "state": {
      "_dom_classes": [],
      "_model_module": "@jupyter-widgets/controls",
      "_model_module_version": "1.5.0",
      "_model_name": "HTMLModel",
      "_view_count": null,
      "_view_module": "@jupyter-widgets/controls",
      "_view_module_version": "1.5.0",
      "_view_name": "HTMLView",
      "description": "",
      "description_tooltip": null,
      "layout": "IPY_MODEL_209a55128b45435c8936b491fdc81ffa",
      "placeholder": "​",
      "style": "IPY_MODEL_131a6848c4e84ebaab601c06b7adf681",
      "value": "Downloading pytorch_model.bin: 100%"
     }
    },
    "b1d9a665a31344c89a59f745d741be76": {
     "model_module": "@jupyter-widgets/controls",
     "model_module_version": "1.5.0",
     "model_name": "HTMLModel",
     "state": {
      "_dom_classes": [],
      "_model_module": "@jupyter-widgets/controls",
      "_model_module_version": "1.5.0",
      "_model_name": "HTMLModel",
      "_view_count": null,
      "_view_module": "@jupyter-widgets/controls",
      "_view_module_version": "1.5.0",
      "_view_name": "HTMLView",
      "description": "",
      "description_tooltip": null,
      "layout": "IPY_MODEL_babe9066d81d4af1a443bf434c6aecbb",
      "placeholder": "​",
      "style": "IPY_MODEL_8f882144f1f647bfb7d2f7d7662d669f",
      "value": " 268M/268M [00:03&lt;00:00, 77.0MB/s]"
     }
    },
    "b92a6f9a8a114bb5ba1f25d9bcad97bb": {
     "model_module": "@jupyter-widgets/controls",
     "model_module_version": "1.5.0",
     "model_name": "DescriptionStyleModel",
     "state": {
      "_model_module": "@jupyter-widgets/controls",
      "_model_module_version": "1.5.0",
      "_model_name": "DescriptionStyleModel",
      "_view_count": null,
      "_view_module": "@jupyter-widgets/base",
      "_view_module_version": "1.2.0",
      "_view_name": "StyleView",
      "description_width": ""
     }
    },
    "babe9066d81d4af1a443bf434c6aecbb": {
     "model_module": "@jupyter-widgets/base",
     "model_module_version": "1.2.0",
     "model_name": "LayoutModel",
     "state": {
      "_model_module": "@jupyter-widgets/base",
      "_model_module_version": "1.2.0",
      "_model_name": "LayoutModel",
      "_view_count": null,
      "_view_module": "@jupyter-widgets/base",
      "_view_module_version": "1.2.0",
      "_view_name": "LayoutView",
      "align_content": null,
      "align_items": null,
      "align_self": null,
      "border": null,
      "bottom": null,
      "display": null,
      "flex": null,
      "flex_flow": null,
      "grid_area": null,
      "grid_auto_columns": null,
      "grid_auto_flow": null,
      "grid_auto_rows": null,
      "grid_column": null,
      "grid_gap": null,
      "grid_row": null,
      "grid_template_areas": null,
      "grid_template_columns": null,
      "grid_template_rows": null,
      "height": null,
      "justify_content": null,
      "justify_items": null,
      "left": null,
      "margin": null,
      "max_height": null,
      "max_width": null,
      "min_height": null,
      "min_width": null,
      "object_fit": null,
      "object_position": null,
      "order": null,
      "overflow": null,
      "overflow_x": null,
      "overflow_y": null,
      "padding": null,
      "right": null,
      "top": null,
      "visibility": null,
      "width": null
     }
    },
    "bafae34d907f4072bbf41b1c3482a74d": {
     "model_module": "@jupyter-widgets/base",
     "model_module_version": "1.2.0",
     "model_name": "LayoutModel",
     "state": {
      "_model_module": "@jupyter-widgets/base",
      "_model_module_version": "1.2.0",
      "_model_name": "LayoutModel",
      "_view_count": null,
      "_view_module": "@jupyter-widgets/base",
      "_view_module_version": "1.2.0",
      "_view_name": "LayoutView",
      "align_content": null,
      "align_items": null,
      "align_self": null,
      "border": null,
      "bottom": null,
      "display": null,
      "flex": null,
      "flex_flow": null,
      "grid_area": null,
      "grid_auto_columns": null,
      "grid_auto_flow": null,
      "grid_auto_rows": null,
      "grid_column": null,
      "grid_gap": null,
      "grid_row": null,
      "grid_template_areas": null,
      "grid_template_columns": null,
      "grid_template_rows": null,
      "height": null,
      "justify_content": null,
      "justify_items": null,
      "left": null,
      "margin": null,
      "max_height": null,
      "max_width": null,
      "min_height": null,
      "min_width": null,
      "object_fit": null,
      "object_position": null,
      "order": null,
      "overflow": null,
      "overflow_x": null,
      "overflow_y": null,
      "padding": null,
      "right": null,
      "top": null,
      "visibility": null,
      "width": null
     }
    },
    "c515189bd282421fafe12aadfcf63e0a": {
     "model_module": "@jupyter-widgets/controls",
     "model_module_version": "1.5.0",
     "model_name": "ProgressStyleModel",
     "state": {
      "_model_module": "@jupyter-widgets/controls",
      "_model_module_version": "1.5.0",
      "_model_name": "ProgressStyleModel",
      "_view_count": null,
      "_view_module": "@jupyter-widgets/base",
      "_view_module_version": "1.2.0",
      "_view_name": "StyleView",
      "bar_color": null,
      "description_width": ""
     }
    },
    "c86059fb99a943caba6f1d98ca1eb070": {
     "model_module": "@jupyter-widgets/base",
     "model_module_version": "1.2.0",
     "model_name": "LayoutModel",
     "state": {
      "_model_module": "@jupyter-widgets/base",
      "_model_module_version": "1.2.0",
      "_model_name": "LayoutModel",
      "_view_count": null,
      "_view_module": "@jupyter-widgets/base",
      "_view_module_version": "1.2.0",
      "_view_name": "LayoutView",
      "align_content": null,
      "align_items": null,
      "align_self": null,
      "border": null,
      "bottom": null,
      "display": null,
      "flex": null,
      "flex_flow": null,
      "grid_area": null,
      "grid_auto_columns": null,
      "grid_auto_flow": null,
      "grid_auto_rows": null,
      "grid_column": null,
      "grid_gap": null,
      "grid_row": null,
      "grid_template_areas": null,
      "grid_template_columns": null,
      "grid_template_rows": null,
      "height": null,
      "justify_content": null,
      "justify_items": null,
      "left": null,
      "margin": null,
      "max_height": null,
      "max_width": null,
      "min_height": null,
      "min_width": null,
      "object_fit": null,
      "object_position": null,
      "order": null,
      "overflow": null,
      "overflow_x": null,
      "overflow_y": null,
      "padding": null,
      "right": null,
      "top": null,
      "visibility": null,
      "width": null
     }
    },
    "c89601b38ab3409c9f76721c9be6ac64": {
     "model_module": "@jupyter-widgets/controls",
     "model_module_version": "1.5.0",
     "model_name": "HTMLModel",
     "state": {
      "_dom_classes": [],
      "_model_module": "@jupyter-widgets/controls",
      "_model_module_version": "1.5.0",
      "_model_name": "HTMLModel",
      "_view_count": null,
      "_view_module": "@jupyter-widgets/controls",
      "_view_module_version": "1.5.0",
      "_view_name": "HTMLView",
      "description": "",
      "description_tooltip": null,
      "layout": "IPY_MODEL_44745dfabd244324a884f11bd35562af",
      "placeholder": "​",
      "style": "IPY_MODEL_ec1e5bd366e445299146775db9589cf9",
      "value": "Downloading (…)okenizer_config.json: 100%"
     }
    },
    "d950ff34898341a4b1ae3ed33b4525fe": {
     "model_module": "@jupyter-widgets/base",
     "model_module_version": "1.2.0",
     "model_name": "LayoutModel",
     "state": {
      "_model_module": "@jupyter-widgets/base",
      "_model_module_version": "1.2.0",
      "_model_name": "LayoutModel",
      "_view_count": null,
      "_view_module": "@jupyter-widgets/base",
      "_view_module_version": "1.2.0",
      "_view_name": "LayoutView",
      "align_content": null,
      "align_items": null,
      "align_self": null,
      "border": null,
      "bottom": null,
      "display": null,
      "flex": null,
      "flex_flow": null,
      "grid_area": null,
      "grid_auto_columns": null,
      "grid_auto_flow": null,
      "grid_auto_rows": null,
      "grid_column": null,
      "grid_gap": null,
      "grid_row": null,
      "grid_template_areas": null,
      "grid_template_columns": null,
      "grid_template_rows": null,
      "height": null,
      "justify_content": null,
      "justify_items": null,
      "left": null,
      "margin": null,
      "max_height": null,
      "max_width": null,
      "min_height": null,
      "min_width": null,
      "object_fit": null,
      "object_position": null,
      "order": null,
      "overflow": null,
      "overflow_x": null,
      "overflow_y": null,
      "padding": null,
      "right": null,
      "top": null,
      "visibility": null,
      "width": null
     }
    },
    "dc4e06eeb4044222bca9bc3401af1d89": {
     "model_module": "@jupyter-widgets/controls",
     "model_module_version": "1.5.0",
     "model_name": "FloatProgressModel",
     "state": {
      "_dom_classes": [],
      "_model_module": "@jupyter-widgets/controls",
      "_model_module_version": "1.5.0",
      "_model_name": "FloatProgressModel",
      "_view_count": null,
      "_view_module": "@jupyter-widgets/controls",
      "_view_module_version": "1.5.0",
      "_view_name": "ProgressView",
      "bar_style": "success",
      "description": "",
      "description_tooltip": null,
      "layout": "IPY_MODEL_c86059fb99a943caba6f1d98ca1eb070",
      "max": 267844284,
      "min": 0,
      "orientation": "horizontal",
      "style": "IPY_MODEL_fdcc1895ce1e452798ec0c19ae91acb8",
      "value": 267844284
     }
    },
    "e1589044106943f0b74da093df07ba3c": {
     "model_module": "@jupyter-widgets/controls",
     "model_module_version": "1.5.0",
     "model_name": "HTMLModel",
     "state": {
      "_dom_classes": [],
      "_model_module": "@jupyter-widgets/controls",
      "_model_module_version": "1.5.0",
      "_model_name": "HTMLModel",
      "_view_count": null,
      "_view_module": "@jupyter-widgets/controls",
      "_view_module_version": "1.5.0",
      "_view_name": "HTMLView",
      "description": "",
      "description_tooltip": null,
      "layout": "IPY_MODEL_f508dbf903de4f94a518cae7e1b5f48d",
      "placeholder": "​",
      "style": "IPY_MODEL_80cc0725fcb046c497efb4cb3f34ffa4",
      "value": " 48.0/48.0 [00:00&lt;00:00, 625B/s]"
     }
    },
    "e72c31f3e7004648b2727a6c2c7e84d1": {
     "model_module": "@jupyter-widgets/controls",
     "model_module_version": "1.5.0",
     "model_name": "HBoxModel",
     "state": {
      "_dom_classes": [],
      "_model_module": "@jupyter-widgets/controls",
      "_model_module_version": "1.5.0",
      "_model_name": "HBoxModel",
      "_view_count": null,
      "_view_module": "@jupyter-widgets/controls",
      "_view_module_version": "1.5.0",
      "_view_name": "HBoxView",
      "box_style": "",
      "children": [
       "IPY_MODEL_14d3fc58b3684067a7c3c06f183732ca",
       "IPY_MODEL_62af38748d6841acb92ed03939d9c624",
       "IPY_MODEL_18659d34dd7d4715a90f2085661ff980"
      ],
      "layout": "IPY_MODEL_a3805024597448b5b69159cbb957b6cb"
     }
    },
    "ec1e5bd366e445299146775db9589cf9": {
     "model_module": "@jupyter-widgets/controls",
     "model_module_version": "1.5.0",
     "model_name": "DescriptionStyleModel",
     "state": {
      "_model_module": "@jupyter-widgets/controls",
      "_model_module_version": "1.5.0",
      "_model_name": "DescriptionStyleModel",
      "_view_count": null,
      "_view_module": "@jupyter-widgets/base",
      "_view_module_version": "1.2.0",
      "_view_name": "StyleView",
      "description_width": ""
     }
    },
    "f156b8c40bed482dab4314b909f2261a": {
     "model_module": "@jupyter-widgets/controls",
     "model_module_version": "1.5.0",
     "model_name": "DescriptionStyleModel",
     "state": {
      "_model_module": "@jupyter-widgets/controls",
      "_model_module_version": "1.5.0",
      "_model_name": "DescriptionStyleModel",
      "_view_count": null,
      "_view_module": "@jupyter-widgets/base",
      "_view_module_version": "1.2.0",
      "_view_name": "StyleView",
      "description_width": ""
     }
    },
    "f44e7ab354924ab7a590da471011b95a": {
     "model_module": "@jupyter-widgets/base",
     "model_module_version": "1.2.0",
     "model_name": "LayoutModel",
     "state": {
      "_model_module": "@jupyter-widgets/base",
      "_model_module_version": "1.2.0",
      "_model_name": "LayoutModel",
      "_view_count": null,
      "_view_module": "@jupyter-widgets/base",
      "_view_module_version": "1.2.0",
      "_view_name": "LayoutView",
      "align_content": null,
      "align_items": null,
      "align_self": null,
      "border": null,
      "bottom": null,
      "display": null,
      "flex": null,
      "flex_flow": null,
      "grid_area": null,
      "grid_auto_columns": null,
      "grid_auto_flow": null,
      "grid_auto_rows": null,
      "grid_column": null,
      "grid_gap": null,
      "grid_row": null,
      "grid_template_areas": null,
      "grid_template_columns": null,
      "grid_template_rows": null,
      "height": null,
      "justify_content": null,
      "justify_items": null,
      "left": null,
      "margin": null,
      "max_height": null,
      "max_width": null,
      "min_height": null,
      "min_width": null,
      "object_fit": null,
      "object_position": null,
      "order": null,
      "overflow": null,
      "overflow_x": null,
      "overflow_y": null,
      "padding": null,
      "right": null,
      "top": null,
      "visibility": null,
      "width": null
     }
    },
    "f508dbf903de4f94a518cae7e1b5f48d": {
     "model_module": "@jupyter-widgets/base",
     "model_module_version": "1.2.0",
     "model_name": "LayoutModel",
     "state": {
      "_model_module": "@jupyter-widgets/base",
      "_model_module_version": "1.2.0",
      "_model_name": "LayoutModel",
      "_view_count": null,
      "_view_module": "@jupyter-widgets/base",
      "_view_module_version": "1.2.0",
      "_view_name": "LayoutView",
      "align_content": null,
      "align_items": null,
      "align_self": null,
      "border": null,
      "bottom": null,
      "display": null,
      "flex": null,
      "flex_flow": null,
      "grid_area": null,
      "grid_auto_columns": null,
      "grid_auto_flow": null,
      "grid_auto_rows": null,
      "grid_column": null,
      "grid_gap": null,
      "grid_row": null,
      "grid_template_areas": null,
      "grid_template_columns": null,
      "grid_template_rows": null,
      "height": null,
      "justify_content": null,
      "justify_items": null,
      "left": null,
      "margin": null,
      "max_height": null,
      "max_width": null,
      "min_height": null,
      "min_width": null,
      "object_fit": null,
      "object_position": null,
      "order": null,
      "overflow": null,
      "overflow_x": null,
      "overflow_y": null,
      "padding": null,
      "right": null,
      "top": null,
      "visibility": null,
      "width": null
     }
    },
    "fdcc1895ce1e452798ec0c19ae91acb8": {
     "model_module": "@jupyter-widgets/controls",
     "model_module_version": "1.5.0",
     "model_name": "ProgressStyleModel",
     "state": {
      "_model_module": "@jupyter-widgets/controls",
      "_model_module_version": "1.5.0",
      "_model_name": "ProgressStyleModel",
      "_view_count": null,
      "_view_module": "@jupyter-widgets/base",
      "_view_module_version": "1.2.0",
      "_view_name": "StyleView",
      "bar_color": null,
      "description_width": ""
     }
    },
    "fe63f4b8e3f941289bd0d62de0851022": {
     "model_module": "@jupyter-widgets/controls",
     "model_module_version": "1.5.0",
     "model_name": "ProgressStyleModel",
     "state": {
      "_model_module": "@jupyter-widgets/controls",
      "_model_module_version": "1.5.0",
      "_model_name": "ProgressStyleModel",
      "_view_count": null,
      "_view_module": "@jupyter-widgets/base",
      "_view_module_version": "1.2.0",
      "_view_name": "StyleView",
      "bar_color": null,
      "description_width": ""
     }
    }
   }
  }
 },
 "nbformat": 4,
 "nbformat_minor": 0
}
